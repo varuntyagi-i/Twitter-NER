{
 "cells": [
  {
   "cell_type": "markdown",
   "metadata": {},
   "source": [
    "## Import Required Packages"
   ]
  },
  {
   "cell_type": "code",
   "execution_count": 1,
   "metadata": {},
   "outputs": [
    {
     "name": "stderr",
     "output_type": "stream",
     "text": [
      "2024-12-27 13:51:53.452705: I tensorflow/core/util/port.cc:111] oneDNN custom operations are on. You may see slightly different numerical results due to floating-point round-off errors from different computation orders. To turn them off, set the environment variable `TF_ENABLE_ONEDNN_OPTS=0`.\n",
      "2024-12-27 13:51:53.474128: I tensorflow/tsl/cuda/cudart_stub.cc:28] Could not find cuda drivers on your machine, GPU will not be used.\n",
      "2024-12-27 13:51:53.581189: E tensorflow/compiler/xla/stream_executor/cuda/cuda_dnn.cc:9342] Unable to register cuDNN factory: Attempting to register factory for plugin cuDNN when one has already been registered\n",
      "2024-12-27 13:51:53.581228: E tensorflow/compiler/xla/stream_executor/cuda/cuda_fft.cc:609] Unable to register cuFFT factory: Attempting to register factory for plugin cuFFT when one has already been registered\n",
      "2024-12-27 13:51:53.581856: E tensorflow/compiler/xla/stream_executor/cuda/cuda_blas.cc:1518] Unable to register cuBLAS factory: Attempting to register factory for plugin cuBLAS when one has already been registered\n",
      "2024-12-27 13:51:53.629783: I tensorflow/tsl/cuda/cudart_stub.cc:28] Could not find cuda drivers on your machine, GPU will not be used.\n",
      "2024-12-27 13:51:53.630643: I tensorflow/core/platform/cpu_feature_guard.cc:182] This TensorFlow binary is optimized to use available CPU instructions in performance-critical operations.\n",
      "To enable the following instructions: AVX2 AVX512F AVX512_VNNI FMA, in other operations, rebuild TensorFlow with the appropriate compiler flags.\n",
      "2024-12-27 13:51:54.433810: W tensorflow/compiler/tf2tensorrt/utils/py_utils.cc:38] TF-TRT Warning: Could not find TensorRT\n",
      "/home/varun/Documents/MS/Business Cases/Twitter NER NLP/.twitter_venv/lib/python3.11/site-packages/tensorflow_addons/utils/tfa_eol_msg.py:23: UserWarning: \n",
      "\n",
      "TensorFlow Addons (TFA) has ended development and introduction of new features.\n",
      "TFA has entered a minimal maintenance and release mode until a planned end of life in May 2024.\n",
      "Please modify downstream libraries to take dependencies from other repositories in our TensorFlow community (e.g. Keras, Keras-CV, and Keras-NLP). \n",
      "\n",
      "For more information see: https://github.com/tensorflow/addons/issues/2807 \n",
      "\n",
      "  warnings.warn(\n"
     ]
    }
   ],
   "source": [
    "import pandas as pd\n",
    "import numpy as np\n",
    "import tensorflow as tf\n",
    "\n",
    "import matplotlib.pyplot as plt\n",
    "import seaborn as sns\n",
    "\n",
    "import random\n",
    "\n",
    "from tensorflow.keras.preprocessing.sequence import pad_sequences\n",
    "from tensorflow.keras.utils import to_categorical # pip install git+https://github.com/tensorflow/addons.git\n",
    "from tensorflow.keras.models import Model\n",
    "from tensorflow.keras.layers import Input, Embedding, Bidirectional, LSTM, TimeDistributed, Dense\n",
    "from tensorflow_addons.layers import CRF\n",
    "from tensorflow_addons.optimizers import AdamW\n",
    "from tensorflow_addons.losses import SigmoidFocalCrossEntropy\n",
    "\n",
    "from gensim.models import Word2Vec\n",
    "from sklearn.metrics import classification_report, accuracy_score, confusion_matrix\n"
   ]
  },
  {
   "cell_type": "markdown",
   "metadata": {},
   "source": [
    "## Define the Problem Statement and perform Exploratory Data Analysis"
   ]
  },
  {
   "cell_type": "markdown",
   "metadata": {},
   "source": [
    "### Definition of Problem"
   ]
  },
  {
   "cell_type": "markdown",
   "metadata": {},
   "source": [
    "\n",
    "Implement Named Entity Recognition (NER) for automatic content tagging and analysis. This initiative is intended to overcome the limitations of relying on user-generated hashtags, which can be inconsistent, inaccurate, or absent. The dataset is annotated with 10 fine-grained NER categories: person, geo-location, company, facility, product, music artist, movie, sports team, TV show, and other."
   ]
  },
  {
   "cell_type": "code",
   "execution_count": 2,
   "metadata": {},
   "outputs": [
    {
     "name": "stdout",
     "output_type": "stream",
     "text": [
      "TensorFlow is built with CUDA support.\n",
      "CUDA is not available.\n"
     ]
    },
    {
     "name": "stderr",
     "output_type": "stream",
     "text": [
      "2024-12-27 13:51:57.046539: E tensorflow/compiler/xla/stream_executor/cuda/cuda_driver.cc:268] failed call to cuInit: CUDA_ERROR_UNKNOWN: unknown error\n",
      "2024-12-27 13:51:57.046561: I tensorflow/compiler/xla/stream_executor/cuda/cuda_diagnostics.cc:168] retrieving CUDA diagnostic information for host: varun\n",
      "2024-12-27 13:51:57.046565: I tensorflow/compiler/xla/stream_executor/cuda/cuda_diagnostics.cc:175] hostname: varun\n",
      "2024-12-27 13:51:57.046707: I tensorflow/compiler/xla/stream_executor/cuda/cuda_diagnostics.cc:199] libcuda reported version is: 550.120.0\n",
      "2024-12-27 13:51:57.046719: I tensorflow/compiler/xla/stream_executor/cuda/cuda_diagnostics.cc:203] kernel reported version is: 550.120.0\n",
      "2024-12-27 13:51:57.046722: I tensorflow/compiler/xla/stream_executor/cuda/cuda_diagnostics.cc:309] kernel version seems to match DSO: 550.120.0\n"
     ]
    }
   ],
   "source": [
    "# Check if TensorFlow is built with CUDA support\n",
    "if tf.test.is_built_with_cuda():\n",
    "    print(\"TensorFlow is built with CUDA support.\")\n",
    "else:\n",
    "    print(\"TensorFlow is not built with CUDA support.\")\n",
    "\n",
    "# Check if a GPU is available and visible\n",
    "if tf.config.list_physical_devices('GPU'):\n",
    "    print(\"CUDA is available.\")\n",
    "else:\n",
    "    print(\"CUDA is not available.\")"
   ]
  },
  {
   "cell_type": "code",
   "execution_count": 3,
   "metadata": {},
   "outputs": [
    {
     "name": "stdout",
     "output_type": "stream",
     "text": [
      "WARNING:tensorflow:From /tmp/ipykernel_220578/2737541736.py:2: is_gpu_available (from tensorflow.python.framework.test_util) is deprecated and will be removed in a future version.\n",
      "Instructions for updating:\n",
      "Use `tf.config.list_physical_devices('GPU')` instead.\n"
     ]
    }
   ],
   "source": [
    "# Hyperparams if GPU is available\n",
    "if tf.test.is_gpu_available():\n",
    "    BATCH_SIZE = 512  # Number of examples used in each iteration\n",
    "    EPOCHS = 5  # Number of passes through entire dataset\n",
    "    MAX_LEN = 75  # Max length of review (in words)\n",
    "    EMBEDDING = 40  # Dimension of word embedding vector\n",
    "    \n",
    "# Hyperparams for CPU training\n",
    "else:\n",
    "    BATCH_SIZE = 32\n",
    "    EPOCHS = 5\n",
    "    MAX_LEN = 75\n",
    "    EMBEDDING = 20"
   ]
  },
  {
   "cell_type": "code",
   "execution_count": 4,
   "metadata": {},
   "outputs": [
    {
     "data": {
      "text/plain": [
       "32"
      ]
     },
     "execution_count": 4,
     "metadata": {},
     "output_type": "execute_result"
    }
   ],
   "source": [
    "BATCH_SIZE"
   ]
  },
  {
   "cell_type": "markdown",
   "metadata": {},
   "source": [
    "## Data Preprocessing"
   ]
  },
  {
   "cell_type": "markdown",
   "metadata": {},
   "source": [
    "### Data Cleaning and Formatting"
   ]
  },
  {
   "cell_type": "code",
   "execution_count": 5,
   "metadata": {},
   "outputs": [],
   "source": [
    "def read_conll(file_path):\n",
    "    sentences = []\n",
    "    sentence = []\n",
    "\n",
    "    with open(file_path, 'r') as file:\n",
    "        for line in file:\n",
    "            line = line.strip()\n",
    "\n",
    "            if line:\n",
    "                token, tag = line.split('\\t')\n",
    "                sentence.append((token, tag))\n",
    "            else:\n",
    "                if sentence:\n",
    "                    sentences.append(sentence)\n",
    "                    sentence = []\n",
    "\n",
    "    return sentences"
   ]
  },
  {
   "cell_type": "code",
   "execution_count": 6,
   "metadata": {},
   "outputs": [
    {
     "data": {
      "text/plain": [
       "[('@SammieLynnsMom', 'O'),\n",
       " ('@tg10781', 'O'),\n",
       " ('they', 'O'),\n",
       " ('will', 'O'),\n",
       " ('be', 'O'),\n",
       " ('all', 'O'),\n",
       " ('done', 'O'),\n",
       " ('by', 'O'),\n",
       " ('Sunday', 'O'),\n",
       " ('trust', 'O'),\n",
       " ('me', 'O'),\n",
       " ('*wink*', 'O')]"
      ]
     },
     "execution_count": 6,
     "metadata": {},
     "output_type": "execute_result"
    }
   ],
   "source": [
    "file_path = \"dataset/wnut 16.txt.conll\"\n",
    "data  = read_conll(file_path)\n",
    " \n",
    "data[0]"
   ]
  },
  {
   "cell_type": "code",
   "execution_count": 7,
   "metadata": {},
   "outputs": [
    {
     "data": {
      "text/plain": [
       "2393"
      ]
     },
     "execution_count": 7,
     "metadata": {},
     "output_type": "execute_result"
    }
   ],
   "source": [
    "len(data)"
   ]
  },
  {
   "cell_type": "markdown",
   "metadata": {},
   "source": [
    "### Data Transformation for NER"
   ]
  },
  {
   "cell_type": "code",
   "execution_count": 8,
   "metadata": {},
   "outputs": [
    {
     "name": "stdout",
     "output_type": "stream",
     "text": [
      "             Token Tag\n",
      "0  @SammieLynnsMom   O\n",
      "1         @tg10781   O\n",
      "2             they   O\n",
      "3             will   O\n",
      "4               be   O\n"
     ]
    }
   ],
   "source": [
    "# Convert to a DataFrame if needed\n",
    "df = pd.DataFrame([(token, tag) for value in data for token, tag in value], columns=['Token', 'Tag'])\n",
    "print(df.head())"
   ]
  },
  {
   "cell_type": "markdown",
   "metadata": {},
   "source": [
    "### EDA"
   ]
  },
  {
   "cell_type": "code",
   "execution_count": 9,
   "metadata": {},
   "outputs": [
    {
     "name": "stdout",
     "output_type": "stream",
     "text": [
      "<class 'pandas.core.frame.DataFrame'>\n",
      "RangeIndex: 46462 entries, 0 to 46461\n",
      "Data columns (total 2 columns):\n",
      " #   Column  Non-Null Count  Dtype \n",
      "---  ------  --------------  ----- \n",
      " 0   Token   46462 non-null  object\n",
      " 1   Tag     46462 non-null  object\n",
      "dtypes: object(2)\n",
      "memory usage: 726.1+ KB\n"
     ]
    }
   ],
   "source": [
    "df.info()"
   ]
  },
  {
   "cell_type": "code",
   "execution_count": 10,
   "metadata": {},
   "outputs": [
    {
     "data": {
      "text/plain": [
       "(46462, 2)"
      ]
     },
     "execution_count": 10,
     "metadata": {},
     "output_type": "execute_result"
    }
   ],
   "source": [
    "df.shape"
   ]
  },
  {
   "cell_type": "code",
   "execution_count": 11,
   "metadata": {},
   "outputs": [
    {
     "name": "stdout",
     "output_type": "stream",
     "text": [
      "Number of sentences:  2393\n"
     ]
    }
   ],
   "source": [
    "print(\"Number of sentences: \", len(data))"
   ]
  },
  {
   "cell_type": "code",
   "execution_count": 12,
   "metadata": {},
   "outputs": [
    {
     "name": "stdout",
     "output_type": "stream",
     "text": [
      "Number of labels 21\n"
     ]
    }
   ],
   "source": [
    "print(\"Number of labels\", df[\"Tag\"].nunique())"
   ]
  },
  {
   "cell_type": "code",
   "execution_count": 13,
   "metadata": {},
   "outputs": [
    {
     "name": "stdout",
     "output_type": "stream",
     "text": [
      "Frequency of labels Tag\n",
      "O                44000\n",
      "B-person           449\n",
      "I-other            320\n",
      "B-geo-loc          276\n",
      "B-other            225\n",
      "I-person           215\n",
      "B-company          171\n",
      "I-facility         105\n",
      "B-facility         104\n",
      "B-product           97\n",
      "I-product           80\n",
      "I-musicartist       61\n",
      "B-musicartist       55\n",
      "B-sportsteam        51\n",
      "I-geo-loc           49\n",
      "I-movie             46\n",
      "I-company           36\n",
      "B-movie             34\n",
      "B-tvshow            34\n",
      "I-tvshow            31\n",
      "I-sportsteam        23\n",
      "Name: count, dtype: int64\n"
     ]
    }
   ],
   "source": [
    "print(\"Frequency of labels\", df[\"Tag\"].value_counts())"
   ]
  },
  {
   "cell_type": "code",
   "execution_count": 14,
   "metadata": {},
   "outputs": [],
   "source": [
    "senteces_length = [len(s) for s in data]"
   ]
  },
  {
   "cell_type": "code",
   "execution_count": 15,
   "metadata": {},
   "outputs": [
    {
     "data": {
      "image/png": "[encoded data removed]",
      "text/plain": [
       "<Figure size 640x480 with 1 Axes>"
      ]
     },
     "metadata": {},
     "output_type": "display_data"
    }
   ],
   "source": [
    "# Plot sentence by lenght\n",
    "plt.hist(senteces_length, bins=35)\n",
    "plt.title('Token per sentence')\n",
    "plt.xlabel('Len (number of token)')\n",
    "plt.ylabel('# samples')\n",
    "plt.show()"
   ]
  },
  {
   "cell_type": "markdown",
   "metadata": {},
   "source": [
    "From the histogram, we can see most of the sentences have around <b> 15 to 30 tokens </b>. Tokens can we referred as words ignoring punctuation marks."
   ]
  },
  {
   "cell_type": "code",
   "execution_count": 16,
   "metadata": {},
   "outputs": [
    {
     "data": {
      "text/plain": [
       "<Axes: >"
      ]
     },
     "execution_count": 16,
     "metadata": {},
     "output_type": "execute_result"
    },
    {
     "data": {
      "image/png": "[encoded data removed]",
      "text/plain": [
       "<Figure size 640x480 with 1 Axes>"
      ]
     },
     "metadata": {},
     "output_type": "display_data"
    }
   ],
   "source": [
    "sns.boxplot(x = senteces_length)"
   ]
  },
  {
   "cell_type": "markdown",
   "metadata": {},
   "source": [
    "### Handling Sparse Data"
   ]
  },
  {
   "cell_type": "code",
   "execution_count": 17,
   "metadata": {},
   "outputs": [
    {
     "data": {
      "text/html": [
       "<div>\n",
       "<style scoped>\n",
       "    .dataframe tbody tr th:only-of-type {\n",
       "        vertical-align: middle;\n",
       "    }\n",
       "\n",
       "    .dataframe tbody tr th {\n",
       "        vertical-align: top;\n",
       "    }\n",
       "\n",
       "    .dataframe thead th {\n",
       "        text-align: right;\n",
       "    }\n",
       "</style>\n",
       "<table border=\"1\" class=\"dataframe\">\n",
       "  <thead>\n",
       "    <tr style=\"text-align: right;\">\n",
       "      <th></th>\n",
       "      <th>Token</th>\n",
       "      <th>Tag</th>\n",
       "    </tr>\n",
       "  </thead>\n",
       "  <tbody>\n",
       "    <tr>\n",
       "      <th>0</th>\n",
       "      <td>@SammieLynnsMom</td>\n",
       "      <td>O</td>\n",
       "    </tr>\n",
       "    <tr>\n",
       "      <th>1</th>\n",
       "      <td>@tg10781</td>\n",
       "      <td>O</td>\n",
       "    </tr>\n",
       "    <tr>\n",
       "      <th>2</th>\n",
       "      <td>they</td>\n",
       "      <td>O</td>\n",
       "    </tr>\n",
       "    <tr>\n",
       "      <th>3</th>\n",
       "      <td>will</td>\n",
       "      <td>O</td>\n",
       "    </tr>\n",
       "    <tr>\n",
       "      <th>4</th>\n",
       "      <td>be</td>\n",
       "      <td>O</td>\n",
       "    </tr>\n",
       "  </tbody>\n",
       "</table>\n",
       "</div>"
      ],
      "text/plain": [
       "             Token Tag\n",
       "0  @SammieLynnsMom   O\n",
       "1         @tg10781   O\n",
       "2             they   O\n",
       "3             will   O\n",
       "4               be   O"
      ]
     },
     "execution_count": 17,
     "metadata": {},
     "output_type": "execute_result"
    }
   ],
   "source": [
    "df.head()"
   ]
  },
  {
   "cell_type": "code",
   "execution_count": 18,
   "metadata": {},
   "outputs": [
    {
     "data": {
      "text/plain": [
       "Tag\n",
       "O                44000\n",
       "B-person           449\n",
       "I-other            320\n",
       "B-geo-loc          276\n",
       "B-other            225\n",
       "I-person           215\n",
       "B-company          171\n",
       "I-facility         105\n",
       "B-facility         104\n",
       "B-product           97\n",
       "I-product           80\n",
       "I-musicartist       61\n",
       "B-musicartist       55\n",
       "B-sportsteam        51\n",
       "I-geo-loc           49\n",
       "I-movie             46\n",
       "I-company           36\n",
       "B-movie             34\n",
       "B-tvshow            34\n",
       "I-tvshow            31\n",
       "I-sportsteam        23\n",
       "Name: count, dtype: int64"
      ]
     },
     "execution_count": 18,
     "metadata": {},
     "output_type": "execute_result"
    }
   ],
   "source": [
    "df.Tag.value_counts()"
   ]
  },
  {
   "cell_type": "code",
   "execution_count": 19,
   "metadata": {},
   "outputs": [],
   "source": [
    "df[\"entity\"] = df[\"Tag\"].apply(lambda x : x.split(\"-\")[-1] if len(x.split(\"-\")) > 1 else \"\")"
   ]
  },
  {
   "cell_type": "code",
   "execution_count": 20,
   "metadata": {},
   "outputs": [
    {
     "data": {
      "text/plain": [
       "entity\n",
       "               44000\n",
       "person           664\n",
       "other            545\n",
       "loc              325\n",
       "facility         209\n",
       "company          207\n",
       "product          177\n",
       "musicartist      116\n",
       "movie             80\n",
       "sportsteam        74\n",
       "tvshow            65\n",
       "Name: count, dtype: int64"
      ]
     },
     "execution_count": 20,
     "metadata": {},
     "output_type": "execute_result"
    }
   ],
   "source": [
    "df.entity.value_counts()"
   ]
  },
  {
   "cell_type": "code",
   "execution_count": 21,
   "metadata": {},
   "outputs": [],
   "source": [
    "lowcount_labels = df.entity.value_counts().iloc[3:].reset_index().entity.tolist()"
   ]
  },
  {
   "cell_type": "code",
   "execution_count": 22,
   "metadata": {},
   "outputs": [
    {
     "name": "stdout",
     "output_type": "stream",
     "text": [
      "[('@SammieLynnsMom', 'O'), ('@tg10781', 'O'), ('they', 'O'), ('will', 'O'), ('be', 'O'), ('all', 'O'), ('done', 'O'), ('by', 'O'), ('Sunday', 'O'), ('trust', 'O'), ('me', 'O'), ('*wink*', 'O')]\n",
      "[('Made', 'O'), ('it', 'O'), ('back', 'O'), ('home', 'O'), ('to', 'O'), ('GA', 'B-geo-loc'), ('.', 'O'), ('It', 'O'), ('sucks', 'O'), ('not', 'O'), ('to', 'O'), ('be', 'O'), ('at', 'O'), ('Disney', 'B-facility'), ('world', 'I-facility'), (',', 'O'), ('but', 'O'), ('its', 'O'), ('good', 'O'), ('to', 'O'), ('be', 'O'), ('home', 'O'), ('.', 'O'), ('Time', 'O'), ('to', 'O'), ('start', 'O'), ('planning', 'O'), ('the', 'O'), ('next', 'O'), ('Disney', 'B-facility'), ('World', 'I-facility'), ('trip', 'O'), ('.', 'O')]\n",
      "[(\"'\", 'O'), ('Breaking', 'B-movie'), ('Dawn', 'I-movie'), (\"'\", 'O'), ('Returns', 'O'), ('to', 'O'), ('Vancouver', 'B-geo-loc'), ('on', 'O'), ('January', 'O'), ('11th', 'O'), ('http://bit.ly/dbDMs8', 'O')]\n",
      "[('@ls_n', 'O'), ('perhaps', 'O'), (',', 'O'), ('but', 'O'), ('folks', 'O'), ('may', 'O'), ('find', 'O'), ('something', 'O'), ('in', 'O'), ('the', 'O'), ('gallery', 'O'), ('that', 'O'), ('is', 'O'), ('helpful', 'O'), ('in', 'O'), ('their', 'O'), ('day-to-day', 'O'), ('work', 'O'), ('as', 'O'), ('well', 'O'), ('.', 'O'), ('Even', 'O'), ('just', 'O'), ('to', 'O'), ('use', 'O'), ('it', 'O'), ('.', 'O')]\n",
      "[('@Carr0t', 'O'), ('aye', 'O'), ('been', 'O'), ('tonight', 'O'), ('-', 'O'), ('excellent', 'O')]\n"
     ]
    }
   ],
   "source": [
    "for ele in data[:5]:\n",
    "    print(ele)"
   ]
  },
  {
   "cell_type": "markdown",
   "metadata": {},
   "source": [
    "### Oversampling"
   ]
  },
  {
   "cell_type": "code",
   "execution_count": 23,
   "metadata": {},
   "outputs": [],
   "source": [
    "# oversampled_data = data"
   ]
  },
  {
   "cell_type": "code",
   "execution_count": 24,
   "metadata": {},
   "outputs": [],
   "source": [
    "oversampling = {}\n",
    "for label in lowcount_labels:\n",
    "    oversampling[label] = []\n",
    "for sentence in data:\n",
    "    for word, label in sentence:\n",
    "        if label.split(\"-\")[-1] in df.entity.value_counts().iloc[3:].reset_index().entity.tolist():\n",
    "            oversampling[label.split(\"-\")[-1]].append(sentence)\n",
    "            break"
   ]
  },
  {
   "cell_type": "code",
   "execution_count": 25,
   "metadata": {},
   "outputs": [
    {
     "name": "stdout",
     "output_type": "stream",
     "text": [
      "loc 174\n",
      "facility 77\n",
      "company 135\n",
      "product 65\n",
      "musicartist 35\n",
      "movie 24\n",
      "sportsteam 37\n",
      "tvshow 29\n"
     ]
    }
   ],
   "source": [
    "for key, value in oversampling.items():\n",
    "    print(key, len(value))"
   ]
  },
  {
   "cell_type": "code",
   "execution_count": 26,
   "metadata": {},
   "outputs": [
    {
     "data": {
      "text/plain": [
       "2393"
      ]
     },
     "execution_count": 26,
     "metadata": {},
     "output_type": "execute_result"
    }
   ],
   "source": [
    "len(data)"
   ]
  },
  {
   "cell_type": "code",
   "execution_count": 27,
   "metadata": {},
   "outputs": [],
   "source": [
    "oversampled_data = data + random.choices(oversampling[\"loc\"], k=200)\n",
    "oversampled_data += random.choices(oversampling[\"facility\"], k=300)\n",
    "oversampled_data += random.choices(oversampling[\"company\"], k=300)\n",
    "oversampled_data += random.choices(oversampling[\"product\"], k=400)\n",
    "oversampled_data += random.choices(oversampling[\"musicartist\"], k=400)\n",
    "oversampled_data += random.choices(oversampling[\"movie\"], k=500)\n",
    "oversampled_data += random.choices(oversampling[\"sportsteam\"], k=500)\n",
    "oversampled_data += random.choices(oversampling[\"tvshow\"], k=500)"
   ]
  },
  {
   "cell_type": "code",
   "execution_count": 28,
   "metadata": {},
   "outputs": [
    {
     "data": {
      "text/plain": [
       "5493"
      ]
     },
     "execution_count": 28,
     "metadata": {},
     "output_type": "execute_result"
    }
   ],
   "source": [
    "len(oversampled_data)"
   ]
  },
  {
   "cell_type": "markdown",
   "metadata": {},
   "source": [
    "### Tokenization and Encoding:"
   ]
  },
  {
   "cell_type": "code",
   "execution_count": 29,
   "metadata": {},
   "outputs": [
    {
     "data": {
      "text/html": [
       "<div>\n",
       "<style scoped>\n",
       "    .dataframe tbody tr th:only-of-type {\n",
       "        vertical-align: middle;\n",
       "    }\n",
       "\n",
       "    .dataframe tbody tr th {\n",
       "        vertical-align: top;\n",
       "    }\n",
       "\n",
       "    .dataframe thead th {\n",
       "        text-align: right;\n",
       "    }\n",
       "</style>\n",
       "<table border=\"1\" class=\"dataframe\">\n",
       "  <thead>\n",
       "    <tr style=\"text-align: right;\">\n",
       "      <th></th>\n",
       "      <th>Token</th>\n",
       "      <th>Tag</th>\n",
       "      <th>entity</th>\n",
       "    </tr>\n",
       "  </thead>\n",
       "  <tbody>\n",
       "    <tr>\n",
       "      <th>0</th>\n",
       "      <td>@SammieLynnsMom</td>\n",
       "      <td>O</td>\n",
       "      <td></td>\n",
       "    </tr>\n",
       "    <tr>\n",
       "      <th>1</th>\n",
       "      <td>@tg10781</td>\n",
       "      <td>O</td>\n",
       "      <td></td>\n",
       "    </tr>\n",
       "    <tr>\n",
       "      <th>2</th>\n",
       "      <td>they</td>\n",
       "      <td>O</td>\n",
       "      <td></td>\n",
       "    </tr>\n",
       "    <tr>\n",
       "      <th>3</th>\n",
       "      <td>will</td>\n",
       "      <td>O</td>\n",
       "      <td></td>\n",
       "    </tr>\n",
       "    <tr>\n",
       "      <th>4</th>\n",
       "      <td>be</td>\n",
       "      <td>O</td>\n",
       "      <td></td>\n",
       "    </tr>\n",
       "  </tbody>\n",
       "</table>\n",
       "</div>"
      ],
      "text/plain": [
       "             Token Tag entity\n",
       "0  @SammieLynnsMom   O       \n",
       "1         @tg10781   O       \n",
       "2             they   O       \n",
       "3             will   O       \n",
       "4               be   O       "
      ]
     },
     "execution_count": 29,
     "metadata": {},
     "output_type": "execute_result"
    }
   ],
   "source": [
    "df.head()"
   ]
  },
  {
   "cell_type": "code",
   "execution_count": 30,
   "metadata": {},
   "outputs": [
    {
     "data": {
      "text/plain": [
       "Token\n",
       ".               1524\n",
       ",                914\n",
       "the              876\n",
       "to               824\n",
       "I                762\n",
       "                ... \n",
       "shaped             1\n",
       "hole               1\n",
       "Def                1\n",
       "tune               1\n",
       "@ihatequotes       1\n",
       "Name: count, Length: 10585, dtype: int64"
      ]
     },
     "execution_count": 30,
     "metadata": {},
     "output_type": "execute_result"
    }
   ],
   "source": [
    "df[\"Token\"].value_counts()"
   ]
  },
  {
   "cell_type": "code",
   "execution_count": 31,
   "metadata": {},
   "outputs": [
    {
     "name": "stdout",
     "output_type": "stream",
     "text": [
      "Number of unique words in the dataset:  10585\n"
     ]
    }
   ],
   "source": [
    "words = list(set(df[\"Token\"].values))\n",
    "print(\"Number of unique words in the dataset: \", len(words))"
   ]
  },
  {
   "cell_type": "code",
   "execution_count": 32,
   "metadata": {},
   "outputs": [
    {
     "data": {
      "text/plain": [
       "Tag\n",
       "O                44000\n",
       "B-person           449\n",
       "I-other            320\n",
       "B-geo-loc          276\n",
       "B-other            225\n",
       "I-person           215\n",
       "B-company          171\n",
       "I-facility         105\n",
       "B-facility         104\n",
       "B-product           97\n",
       "I-product           80\n",
       "I-musicartist       61\n",
       "B-musicartist       55\n",
       "B-sportsteam        51\n",
       "I-geo-loc           49\n",
       "I-movie             46\n",
       "I-company           36\n",
       "B-movie             34\n",
       "B-tvshow            34\n",
       "I-tvshow            31\n",
       "I-sportsteam        23\n",
       "Name: count, dtype: int64"
      ]
     },
     "execution_count": 32,
     "metadata": {},
     "output_type": "execute_result"
    }
   ],
   "source": [
    "df[\"Tag\"].value_counts()"
   ]
  },
  {
   "cell_type": "code",
   "execution_count": 33,
   "metadata": {},
   "outputs": [
    {
     "name": "stdout",
     "output_type": "stream",
     "text": [
      "Number of Labels:  21\n"
     ]
    }
   ],
   "source": [
    "tags = list(set(df[\"Tag\"].values))\n",
    "print(\"Number of Labels: \", len(tags))"
   ]
  },
  {
   "cell_type": "code",
   "execution_count": 34,
   "metadata": {},
   "outputs": [
    {
     "data": {
      "text/plain": [
       "['I-sportsteam',\n",
       " 'I-geo-loc',\n",
       " 'I-musicartist',\n",
       " 'B-tvshow',\n",
       " 'B-geo-loc',\n",
       " 'I-other',\n",
       " 'I-product',\n",
       " 'I-company',\n",
       " 'B-product',\n",
       " 'B-other',\n",
       " 'B-person',\n",
       " 'I-tvshow',\n",
       " 'I-facility',\n",
       " 'B-movie',\n",
       " 'O',\n",
       " 'I-movie',\n",
       " 'I-person',\n",
       " 'B-facility',\n",
       " 'B-company',\n",
       " 'B-musicartist',\n",
       " 'B-sportsteam']"
      ]
     },
     "execution_count": 34,
     "metadata": {},
     "output_type": "execute_result"
    }
   ],
   "source": [
    "tags"
   ]
  },
  {
   "cell_type": "markdown",
   "metadata": {},
   "source": [
    "### Indexing my words and labels to consider them as Tokens"
   ]
  },
  {
   "cell_type": "code",
   "execution_count": 35,
   "metadata": {},
   "outputs": [
    {
     "name": "stdout",
     "output_type": "stream",
     "text": [
      "The word doctor is identified by the index: 333\n",
      "The labels B-movie(which defines Movie Enitities at the Bengining) is identified by the index: 15\n"
     ]
    }
   ],
   "source": [
    "word2idx = {w:i+2 for i,w in enumerate(words)}\n",
    "word2idx[\"UNK\"] = 1\n",
    "word2idx[\"PAD\"] = 0\n",
    "\n",
    "tag2idx = {t:i+2 for i,t in enumerate(tags)}\n",
    "tag2idx[\"PAD\"] = 0\n",
    "tag2idx[\"UNK\"] = 1\n",
    "\n",
    "print(\"The word doctor is identified by the index: {}\".format(word2idx[\"doctor\"]))\n",
    "print(\"The labels B-movie(which defines Movie Enitities at the Bengining) is identified by the index: {}\".format(tag2idx[\"B-movie\"]))"
   ]
  },
  {
   "cell_type": "code",
   "execution_count": 36,
   "metadata": {},
   "outputs": [
    {
     "data": {
      "text/plain": [
       "{'I-sportsteam': 2,\n",
       " 'I-geo-loc': 3,\n",
       " 'I-musicartist': 4,\n",
       " 'B-tvshow': 5,\n",
       " 'B-geo-loc': 6,\n",
       " 'I-other': 7,\n",
       " 'I-product': 8,\n",
       " 'I-company': 9,\n",
       " 'B-product': 10,\n",
       " 'B-other': 11,\n",
       " 'B-person': 12,\n",
       " 'I-tvshow': 13,\n",
       " 'I-facility': 14,\n",
       " 'B-movie': 15,\n",
       " 'O': 16,\n",
       " 'I-movie': 17,\n",
       " 'I-person': 18,\n",
       " 'B-facility': 19,\n",
       " 'B-company': 20,\n",
       " 'B-musicartist': 21,\n",
       " 'B-sportsteam': 22,\n",
       " 'PAD': 0,\n",
       " 'UNK': 1}"
      ]
     },
     "execution_count": 36,
     "metadata": {},
     "output_type": "execute_result"
    }
   ],
   "source": [
    "tag2idx"
   ]
  },
  {
   "cell_type": "markdown",
   "metadata": {},
   "source": [
    "### Training: Data Creation"
   ]
  },
  {
   "cell_type": "code",
   "execution_count": 37,
   "metadata": {},
   "outputs": [
    {
     "data": {
      "text/plain": [
       "[('@SammieLynnsMom', 'O'),\n",
       " ('@tg10781', 'O'),\n",
       " ('they', 'O'),\n",
       " ('will', 'O'),\n",
       " ('be', 'O'),\n",
       " ('all', 'O'),\n",
       " ('done', 'O'),\n",
       " ('by', 'O'),\n",
       " ('Sunday', 'O'),\n",
       " ('trust', 'O'),\n",
       " ('me', 'O'),\n",
       " ('*wink*', 'O')]"
      ]
     },
     "execution_count": 37,
     "metadata": {},
     "output_type": "execute_result"
    }
   ],
   "source": [
    "oversampled_data[0]"
   ]
  },
  {
   "cell_type": "code",
   "execution_count": 38,
   "metadata": {},
   "outputs": [
    {
     "name": "stdout",
     "output_type": "stream",
     "text": [
      "Raw Sample:\n",
      "  @SammieLynnsMom @tg10781 they will be all done by Sunday trust me *wink*\n",
      "\n",
      " \n",
      "After processing, sample:\n",
      " [8977 6739  116  330 6322 8426 5093  722 7062 9595 2997  147    0    0\n",
      "    0    0    0    0    0    0    0    0    0    0    0    0    0    0\n",
      "    0    0    0    0    0    0    0    0    0    0    0    0    0    0\n",
      "    0    0    0    0    0    0    0    0    0    0    0    0    0    0\n",
      "    0    0    0    0    0    0    0    0    0    0    0    0    0    0\n",
      "    0    0    0    0    0]\n"
     ]
    }
   ],
   "source": [
    "X = [[word2idx[ele[0]] for ele in sentence] for sentence in oversampled_data]\n",
    "\n",
    "# pad the sequences, to have same length\n",
    "X = pad_sequences(\n",
    "    maxlen = MAX_LEN,\n",
    "    sequences = X,\n",
    "    padding = \"post\",\n",
    "    value = word2idx[\"PAD\"]\n",
    ")\n",
    "\n",
    "print('Raw Sample:\\n ', ' '.join([w[0] for w in oversampled_data[0]]))\n",
    "print('\\n ' )\n",
    "print('After processing, sample:\\n', X[0])"
   ]
  },
  {
   "cell_type": "code",
   "execution_count": 39,
   "metadata": {},
   "outputs": [
    {
     "name": "stdout",
     "output_type": "stream",
     "text": [
      "Raw Label:\n",
      "  O O O O O O O O O O O O\n",
      "\n",
      " \n",
      "After processing, labels:\n",
      " [16 16 16 16 16 16 16 16 16 16 16 16  0  0  0  0  0  0  0  0  0  0  0  0\n",
      "  0  0  0  0  0  0  0  0  0  0  0  0  0  0  0  0  0  0  0  0  0  0  0  0\n",
      "  0  0  0  0  0  0  0  0  0  0  0  0  0  0  0  0  0  0  0  0  0  0  0  0\n",
      "  0  0  0]\n"
     ]
    }
   ],
   "source": [
    "# Convert my Tag/Label to tag_index\n",
    "y = [[tag2idx[ele[1]] for ele in sentence] for sentence in oversampled_data]\n",
    "\n",
    "# Padding each label to have same length\n",
    "y = pad_sequences(\n",
    "    maxlen = MAX_LEN,\n",
    "    sequences = y,\n",
    "    padding = \"post\",\n",
    "    value = tag2idx[\"PAD\"]\n",
    ")\n",
    "\n",
    "print('Raw Label:\\n ', ' '.join([w[1] for w in oversampled_data[0]]))\n",
    "print('\\n ' )\n",
    "print('After processing, labels:\\n', y[0])"
   ]
  },
  {
   "cell_type": "markdown",
   "metadata": {},
   "source": [
    "### Data Splitting into Train-Validation"
   ]
  },
  {
   "cell_type": "code",
   "execution_count": 40,
   "metadata": {},
   "outputs": [],
   "source": [
    "# One-Hot encode\n",
    "y = [to_categorical(i, num_classes=23) for i in y]  # n_tags+1(PAD)\n",
    "\n",
    "from sklearn.model_selection import train_test_split\n",
    "X_tr, X_te, y_tr, y_te = train_test_split(X, y, test_size=0.1)\n",
    "\n",
    "y_tr = np.array(y_tr)\n",
    "y_te = np.array(y_te)"
   ]
  },
  {
   "cell_type": "code",
   "execution_count": 41,
   "metadata": {},
   "outputs": [
    {
     "data": {
      "text/plain": [
       "(4943, 4943)"
      ]
     },
     "execution_count": 41,
     "metadata": {},
     "output_type": "execute_result"
    }
   ],
   "source": [
    "len(X_tr), len(y_tr)"
   ]
  },
  {
   "cell_type": "code",
   "execution_count": 42,
   "metadata": {},
   "outputs": [
    {
     "data": {
      "text/plain": [
       "array([ 228,  858, 3814, 3138, 6898, 9446, 8950, 7873, 2240, 1387, 5679,\n",
       "       3610, 5343, 7477, 9446,    0,    0,    0,    0,    0,    0,    0,\n",
       "          0,    0,    0,    0,    0,    0,    0,    0,    0,    0,    0,\n",
       "          0,    0,    0,    0,    0,    0,    0,    0,    0,    0,    0,\n",
       "          0,    0,    0,    0,    0,    0,    0,    0,    0,    0,    0,\n",
       "          0,    0,    0,    0,    0,    0,    0,    0,    0,    0,    0,\n",
       "          0,    0,    0,    0,    0,    0,    0,    0,    0], dtype=int32)"
      ]
     },
     "execution_count": 42,
     "metadata": {},
     "output_type": "execute_result"
    }
   ],
   "source": [
    "X_tr[0]"
   ]
  },
  {
   "cell_type": "code",
   "execution_count": 43,
   "metadata": {},
   "outputs": [
    {
     "data": {
      "text/plain": [
       "array([[0., 0., 0., ..., 0., 0., 0.],\n",
       "       [0., 0., 0., ..., 0., 0., 0.],\n",
       "       [0., 0., 0., ..., 0., 0., 0.],\n",
       "       ...,\n",
       "       [1., 0., 0., ..., 0., 0., 0.],\n",
       "       [1., 0., 0., ..., 0., 0., 0.],\n",
       "       [1., 0., 0., ..., 0., 0., 0.]], dtype=float32)"
      ]
     },
     "execution_count": 43,
     "metadata": {},
     "output_type": "execute_result"
    }
   ],
   "source": [
    "y_tr[0]"
   ]
  },
  {
   "cell_type": "markdown",
   "metadata": {},
   "source": [
    "## Model Building - Bi-LSTM + CRF"
   ]
  },
  {
   "cell_type": "markdown",
   "metadata": {},
   "source": [
    "### Training LSTM + CRF Models with Embeddings"
   ]
  },
  {
   "cell_type": "code",
   "execution_count": 44,
   "metadata": {},
   "outputs": [
    {
     "name": "stdout",
     "output_type": "stream",
     "text": [
      "Model: \"Twitter_NER_V1\"\n",
      "_________________________________________________________________\n",
      " Layer (type)                Output Shape              Param #   \n",
      "=================================================================\n",
      " input_layer (InputLayer)    [(None, 75)]              0         \n",
      "                                                                 \n",
      " embedding (Embedding)       (None, 75, 200)           2117400   \n",
      "                                                                 \n",
      " bidirectional (Bidirection  (None, 75, 100)           100400    \n",
      " al)                                                             \n",
      "                                                                 \n",
      " bidirectional_1 (Bidirecti  (None, 75, 100)           60400     \n",
      " onal)                                                           \n",
      "                                                                 \n",
      " time_distributed (TimeDist  (None, 75, 23)            2323      \n",
      " ributed)                                                        \n",
      "                                                                 \n",
      " crf (CRF)                   [(None, 75),              1127      \n",
      "                              (None, 75, 23),                    \n",
      "                              (None,),                           \n",
      "                              (23, 23)]                          \n",
      "                                                                 \n",
      "=================================================================\n",
      "Total params: 2281650 (8.70 MB)\n",
      "Trainable params: 2281650 (8.70 MB)\n",
      "Non-trainable params: 0 (0.00 Byte)\n",
      "_________________________________________________________________\n"
     ]
    }
   ],
   "source": [
    "def build_model(max_len=75, input_dim=len(words)+2, embedding_dim=200): # 10585 vocab size\n",
    "    # Model definition\n",
    "    input_layer = Input(shape=(max_len,), name='input_layer')\n",
    "\n",
    "    # Embedding layer\n",
    "    embeddings = Embedding(\n",
    "        input_dim=input_dim,\n",
    "        output_dim=embedding_dim,\n",
    "        input_length=max_len,\n",
    "        mask_zero=True\n",
    "    )(input_layer)\n",
    "\n",
    "    # BiLSTM layers\n",
    "    lstm_output = Bidirectional(LSTM(units=50, return_sequences=True))(embeddings)\n",
    "    lstm_output = Bidirectional(LSTM(units=50, return_sequences=True))(lstm_output)\n",
    "\n",
    "    # # Dense layer\n",
    "    dense_output = TimeDistributed(Dense(23, activation=\"relu\"))(lstm_output)\n",
    "\n",
    "    # CRF layer\n",
    "    crf = CRF(23, name='crf')  # 21 classes\n",
    "    predicted_sequence, potentials, sequence_length, crf_kernel = crf(dense_output)\n",
    "\n",
    "    # Build the model\n",
    "    model = Model(inputs=input_layer, outputs=potentials, name = \"Twitter_NER_V1\")\n",
    "\n",
    "    # Compile the model\n",
    "    model.compile(\n",
    "        optimizer=AdamW(weight_decay=0.001 ,learning_rate=0.001),\n",
    "        loss=SigmoidFocalCrossEntropy(),  # Use CRF-specific loss\n",
    "        # loss = custom_loss,\n",
    "        metrics=[\"accuracy\"]   # Optional: Use CRF accuracy\n",
    "    )\n",
    "\n",
    "    return model\n",
    "\n",
    "# Build and compile the model\n",
    "model = build_model()\n",
    "\n",
    "# Checkpointing\n",
    "save_model = tf.keras.callbacks.ModelCheckpoint(filepath='twitter_ner_crf.weights.h5',\n",
    "  monitor='val_loss',\n",
    "  save_weights_only=True,\n",
    "  save_best_only=True,\n",
    "  verbose=1\n",
    ")\n",
    "\n",
    "# Early stopping\n",
    "es = tf.keras.callbacks.EarlyStopping(monitor='val_loss', verbose=1, patience=10)\n",
    "\n",
    "callbacks = [save_model, es]\n",
    "\n",
    "model.summary()"
   ]
  },
  {
   "cell_type": "markdown",
   "metadata": {},
   "source": [
    "### Model Training"
   ]
  },
  {
   "cell_type": "code",
   "execution_count": 45,
   "metadata": {},
   "outputs": [
    {
     "name": "stdout",
     "output_type": "stream",
     "text": [
      "Epoch 1/10\n",
      "WARNING:tensorflow:Gradients do not exist for variables ['chain_kernel:0'] when minimizing the loss. If you're using `model.compile()`, did you forget to provide a `loss` argument?\n",
      "WARNING:tensorflow:Gradients do not exist for variables ['chain_kernel:0'] when minimizing the loss. If you're using `model.compile()`, did you forget to provide a `loss` argument?\n",
      "155/155 [==============================] - 18s 73ms/step - loss: 0.5703 - accuracy: 0.9442 - val_loss: 0.3207 - val_accuracy: 0.9696\n",
      "Epoch 2/10\n",
      "155/155 [==============================] - 7s 48ms/step - loss: 0.2253 - accuracy: 0.9699 - val_loss: 0.1554 - val_accuracy: 0.9696\n",
      "Epoch 3/10\n",
      "155/155 [==============================] - 7s 46ms/step - loss: 0.1176 - accuracy: 0.9713 - val_loss: 0.0919 - val_accuracy: 0.9734\n",
      "Epoch 4/10\n",
      "155/155 [==============================] - 7s 45ms/step - loss: 0.0719 - accuracy: 0.9803 - val_loss: 0.0676 - val_accuracy: 0.9857\n",
      "Epoch 5/10\n",
      "155/155 [==============================] - 7s 46ms/step - loss: 0.0505 - accuracy: 0.9903 - val_loss: 0.0548 - val_accuracy: 0.9921\n",
      "Epoch 6/10\n",
      "155/155 [==============================] - 7s 46ms/step - loss: 0.0393 - accuracy: 0.9945 - val_loss: 0.0524 - val_accuracy: 0.9931\n",
      "Epoch 7/10\n",
      "155/155 [==============================] - 7s 46ms/step - loss: 0.0317 - accuracy: 0.9973 - val_loss: 0.0494 - val_accuracy: 0.9952\n",
      "Epoch 8/10\n",
      "155/155 [==============================] - 7s 47ms/step - loss: 0.0268 - accuracy: 0.9983 - val_loss: 0.0509 - val_accuracy: 0.9954\n",
      "Epoch 9/10\n",
      "155/155 [==============================] - 7s 46ms/step - loss: 0.0233 - accuracy: 0.9989 - val_loss: 0.0495 - val_accuracy: 0.9954\n",
      "Epoch 10/10\n",
      "155/155 [==============================] - 8s 49ms/step - loss: 0.0206 - accuracy: 0.9990 - val_loss: 0.0491 - val_accuracy: 0.9956\n"
     ]
    },
    {
     "data": {
      "text/plain": [
       "<keras.src.callbacks.History at 0x740288d4c1d0>"
      ]
     },
     "execution_count": 45,
     "metadata": {},
     "output_type": "execute_result"
    }
   ],
   "source": [
    "model.fit(\n",
    "    X_tr, y_tr, \n",
    "    validation_data = (X_te, y_te),\n",
    "    batch_size=BATCH_SIZE,\n",
    "    epochs=10, \n",
    "    shuffle = True)"
   ]
  },
  {
   "cell_type": "markdown",
   "metadata": {},
   "source": [
    "### Validation Data Evaluation"
   ]
  },
  {
   "cell_type": "code",
   "execution_count": 46,
   "metadata": {},
   "outputs": [],
   "source": [
    "# Flatten the sequences and exclude padding tokens\n",
    "def filter_padding(y_pred, y_true, pad_token=0):\n",
    "    filtered_pred = []\n",
    "    filtered_true = []\n",
    "    for pred_seq, true_seq in zip(y_pred, y_true):\n",
    "        for pred_label, true_label in zip(pred_seq, true_seq):\n",
    "            if true_label != pad_token and pred_label != pad_token and true_label != 21 and pred_label != 21 and true_label != 8 and pred_label != 8:  # Ignore padding tokens\n",
    "                filtered_pred.append(pred_label)\n",
    "                filtered_true.append(true_label)\n",
    "    return np.array(filtered_pred), np.array(filtered_true)"
   ]
  },
  {
   "cell_type": "code",
   "execution_count": 47,
   "metadata": {},
   "outputs": [
    {
     "name": "stdout",
     "output_type": "stream",
     "text": [
      "18/18 [==============================] - 3s 11ms/step\n"
     ]
    }
   ],
   "source": [
    "# Predict probabilities\n",
    "y_val_pred_prob = model.predict(X_te)"
   ]
  },
  {
   "cell_type": "code",
   "execution_count": 48,
   "metadata": {},
   "outputs": [
    {
     "data": {
      "text/plain": [
       "array([16, 16, 16, 16, 16, 16, 16, 16, 16, 16, 22, 16, 16, 16, 16, 16, 16,\n",
       "       16, 16,  0,  0,  0,  0,  0,  0,  0,  0,  0,  0,  0,  0,  0,  0,  0,\n",
       "        0,  0,  0,  0,  0,  0,  0,  0,  0,  0,  0,  0,  0,  0,  0,  0,  0,\n",
       "        0,  0,  0,  0,  0,  0,  0,  0,  0,  0,  0,  0,  0,  0,  0,  0,  0,\n",
       "        0,  0,  0,  0,  0,  0,  0])"
      ]
     },
     "execution_count": 48,
     "metadata": {},
     "output_type": "execute_result"
    }
   ],
   "source": [
    "y_val_pred = np.argmax(y_val_pred_prob, axis=2)\n",
    "np.argmax(y_te, axis=2)[0]"
   ]
  },
  {
   "cell_type": "code",
   "execution_count": 49,
   "metadata": {},
   "outputs": [
    {
     "name": "stdout",
     "output_type": "stream",
     "text": [
      "Accuracy: 0.9878571428571429\n"
     ]
    }
   ],
   "source": [
    "# Convert predictions and true labels, ignoring padding tokens\n",
    "y_pred_flat, y_true_flat = filter_padding(y_val_pred, np.argmax(y_te, axis=2))\n",
    "\n",
    "# Calculate metrics\n",
    "accuracy = accuracy_score(y_true_flat, y_pred_flat)\n",
    "print(f\"Accuracy: {accuracy}\")"
   ]
  },
  {
   "cell_type": "code",
   "execution_count": 50,
   "metadata": {},
   "outputs": [
    {
     "name": "stdout",
     "output_type": "stream",
     "text": [
      "Classification Report:\n",
      "              precision    recall  f1-score   support\n",
      "\n",
      "           2       1.00      0.93      0.96        27\n",
      "           3       0.97      0.97      0.97        29\n",
      "           4       1.00      0.98      0.99        64\n",
      "           5       1.00      1.00      1.00        76\n",
      "           6       0.99      0.84      0.91       104\n",
      "           7       0.89      0.72      0.80        79\n",
      "           9       1.00      0.30      0.46        10\n",
      "          10       1.00      1.00      1.00        51\n",
      "          11       0.83      0.76      0.79        50\n",
      "          12       0.95      0.86      0.90       128\n",
      "          13       1.00      1.00      1.00        74\n",
      "          14       0.95      0.86      0.90        70\n",
      "          15       0.96      1.00      0.98        67\n",
      "          16       0.99      1.00      0.99     10058\n",
      "          17       1.00      1.00      1.00        80\n",
      "          18       0.90      0.88      0.89        50\n",
      "          19       0.92      0.87      0.89        63\n",
      "          20       0.88      0.95      0.91        56\n",
      "          22       0.91      0.98      0.95        64\n",
      "\n",
      "    accuracy                           0.99     11200\n",
      "   macro avg       0.95      0.89      0.91     11200\n",
      "weighted avg       0.99      0.99      0.99     11200\n",
      "\n"
     ]
    }
   ],
   "source": [
    "# Classification report\n",
    "print(\"Classification Report:\")\n",
    "print(classification_report(y_true_flat, y_pred_flat))"
   ]
  },
  {
   "cell_type": "code",
   "execution_count": 51,
   "metadata": {},
   "outputs": [
    {
     "data": {
      "image/png": "[encoded data removed]",
      "text/plain": [
       "<Figure size 1000x800 with 2 Axes>"
      ]
     },
     "metadata": {},
     "output_type": "display_data"
    }
   ],
   "source": [
    "# Compute the confusion matrix\n",
    "conf_matrix = confusion_matrix(y_true_flat, y_pred_flat)\n",
    "\n",
    "# Plot the heatmap\n",
    "plt.figure(figsize=(10, 8))\n",
    "sns.heatmap(conf_matrix, annot=True, fmt='d', cmap='Blues', xticklabels=np.unique(y_true_flat), yticklabels=np.unique(y_true_flat))\n",
    "\n",
    "# Labels and title\n",
    "plt.xlabel('Predicted Labels')\n",
    "plt.ylabel('True Labels')\n",
    "plt.title('Confusion Matrix Heatmap')\n",
    "plt.show()"
   ]
  },
  {
   "cell_type": "code",
   "execution_count": 52,
   "metadata": {},
   "outputs": [
    {
     "data": {
      "text/plain": [
       "{'I-sportsteam': 2,\n",
       " 'I-geo-loc': 3,\n",
       " 'I-musicartist': 4,\n",
       " 'B-tvshow': 5,\n",
       " 'B-geo-loc': 6,\n",
       " 'I-other': 7,\n",
       " 'I-product': 8,\n",
       " 'I-company': 9,\n",
       " 'B-product': 10,\n",
       " 'B-other': 11,\n",
       " 'B-person': 12,\n",
       " 'I-tvshow': 13,\n",
       " 'I-facility': 14,\n",
       " 'B-movie': 15,\n",
       " 'O': 16,\n",
       " 'I-movie': 17,\n",
       " 'I-person': 18,\n",
       " 'B-facility': 19,\n",
       " 'B-company': 20,\n",
       " 'B-musicartist': 21,\n",
       " 'B-sportsteam': 22,\n",
       " 'PAD': 0,\n",
       " 'UNK': 1}"
      ]
     },
     "execution_count": 52,
     "metadata": {},
     "output_type": "execute_result"
    }
   ],
   "source": [
    "tag2idx"
   ]
  },
  {
   "cell_type": "markdown",
   "metadata": {},
   "source": [
    "### Testing: Dataset Evaluation and Creation"
   ]
  },
  {
   "cell_type": "code",
   "execution_count": 53,
   "metadata": {},
   "outputs": [],
   "source": [
    "file_path = \"dataset/wnut 16test.txt.conll\"\n",
    "test_data  = read_conll(file_path)"
   ]
  },
  {
   "cell_type": "code",
   "execution_count": 54,
   "metadata": {},
   "outputs": [
    {
     "data": {
      "text/plain": [
       "3849"
      ]
     },
     "execution_count": 54,
     "metadata": {},
     "output_type": "execute_result"
    }
   ],
   "source": [
    "len(test_data)"
   ]
  },
  {
   "cell_type": "code",
   "execution_count": 55,
   "metadata": {},
   "outputs": [
    {
     "name": "stdout",
     "output_type": "stream",
     "text": [
      "[('New', 'B-other'), ('Orleans', 'I-other'), ('Mother', 'I-other'), (\"'s\", 'I-other'), ('Day', 'I-other'), ('Parade', 'I-other'), ('shooting', 'O'), ('.', 'O'), ('One', 'O'), ('of', 'O'), ('the', 'O'), ('people', 'O'), ('hurt', 'O'), ('was', 'O'), ('a', 'O'), ('10-year-old', 'O'), ('girl', 'O'), ('.', 'O'), ('WHAT', 'O'), ('THE', 'O'), ('HELL', 'O'), ('IS', 'O'), ('WRONG', 'O'), ('WITH', 'O'), ('PEOPLE', 'O'), ('?', 'O')]\n"
     ]
    }
   ],
   "source": [
    "print(test_data[0])"
   ]
  },
  {
   "cell_type": "code",
   "execution_count": 56,
   "metadata": {},
   "outputs": [
    {
     "name": "stdout",
     "output_type": "stream",
     "text": [
      "     Token      Tag\n",
      "0      New  B-other\n",
      "1  Orleans  I-other\n",
      "2   Mother  I-other\n",
      "3       's  I-other\n",
      "4      Day  I-other\n"
     ]
    }
   ],
   "source": [
    "# Convert to a DataFrame if needed\n",
    "test_df = pd.DataFrame([(token, tag) for value in test_data for token, tag in value], columns=['Token', 'Tag'])\n",
    "print(test_df.head())"
   ]
  },
  {
   "cell_type": "code",
   "execution_count": 57,
   "metadata": {},
   "outputs": [
    {
     "data": {
      "text/plain": [
       "(Tag\n",
       " O                55941\n",
       " B-geo-loc          882\n",
       " B-company          621\n",
       " B-other            584\n",
       " I-other            556\n",
       " I-product          500\n",
       " B-person           482\n",
       " I-facility         366\n",
       " I-person           300\n",
       " I-company          265\n",
       " B-facility         253\n",
       " B-product          246\n",
       " I-geo-loc          219\n",
       " B-musicartist      191\n",
       " B-sportsteam       147\n",
       " I-musicartist      140\n",
       " I-movie             48\n",
       " I-sportsteam        48\n",
       " I-tvshow            40\n",
       " B-movie             34\n",
       " B-tvshow            33\n",
       " Name: count, dtype: int64,\n",
       " 21)"
      ]
     },
     "execution_count": 57,
     "metadata": {},
     "output_type": "execute_result"
    }
   ],
   "source": [
    "test_df[\"Tag\"].value_counts(), len(test_df[\"Tag\"].value_counts())"
   ]
  },
  {
   "cell_type": "code",
   "execution_count": 58,
   "metadata": {},
   "outputs": [
    {
     "data": {
      "text/plain": [
       "(Tag\n",
       " O                44000\n",
       " B-person           449\n",
       " I-other            320\n",
       " B-geo-loc          276\n",
       " B-other            225\n",
       " I-person           215\n",
       " B-company          171\n",
       " I-facility         105\n",
       " B-facility         104\n",
       " B-product           97\n",
       " I-product           80\n",
       " I-musicartist       61\n",
       " B-musicartist       55\n",
       " B-sportsteam        51\n",
       " I-geo-loc           49\n",
       " I-movie             46\n",
       " I-company           36\n",
       " B-movie             34\n",
       " B-tvshow            34\n",
       " I-tvshow            31\n",
       " I-sportsteam        23\n",
       " Name: count, dtype: int64,\n",
       " 21)"
      ]
     },
     "execution_count": 58,
     "metadata": {},
     "output_type": "execute_result"
    }
   ],
   "source": [
    "df[\"Tag\"].value_counts(), len(df[\"Tag\"].value_counts())"
   ]
  },
  {
   "cell_type": "code",
   "execution_count": 59,
   "metadata": {},
   "outputs": [
    {
     "name": "stdout",
     "output_type": "stream",
     "text": [
      "[('New', 'B-other'), ('Orleans', 'I-other'), ('Mother', 'I-other'), (\"'s\", 'I-other'), ('Day', 'I-other'), ('Parade', 'I-other'), ('shooting', 'O'), ('.', 'O'), ('One', 'O'), ('of', 'O'), ('the', 'O'), ('people', 'O'), ('hurt', 'O'), ('was', 'O'), ('a', 'O'), ('10-year-old', 'O'), ('girl', 'O'), ('.', 'O'), ('WHAT', 'O'), ('THE', 'O'), ('HELL', 'O'), ('IS', 'O'), ('WRONG', 'O'), ('WITH', 'O'), ('PEOPLE', 'O'), ('?', 'O')]\n",
      "Testing Sample input [3905    1    1 5355 7041 5173 8278 9446 2388 5684 1030 2973 7381 1263\n",
      "  732    1 3766 9446 1543 1468    1 4078    1 4599    1 9231    0    0\n",
      "    0    0    0    0    0    0    0    0    0    0    0    0    0    0\n",
      "    0    0    0    0    0    0    0    0    0    0    0    0    0    0\n",
      "    0    0    0    0    0    0    0    0    0    0    0    0    0    0\n",
      "    0    0    0    0    0]\n",
      "Testing Label [11  7  7  7  7  7 16 16 16 16 16 16 16 16 16 16 16 16 16 16 16 16 16 16\n",
      " 16 16  0  0  0  0  0  0  0  0  0  0  0  0  0  0  0  0  0  0  0  0  0  0\n",
      "  0  0  0  0  0  0  0  0  0  0  0  0  0  0  0  0  0  0  0  0  0  0  0  0\n",
      "  0  0  0]\n"
     ]
    }
   ],
   "source": [
    "X_test = [[word2idx.get(ele[0], word2idx[\"UNK\"]) for ele in sentence] for sentence in test_data]\n",
    "\n",
    "# pad the sequences, to have same length\n",
    "X_test = pad_sequences(\n",
    "    maxlen = MAX_LEN,\n",
    "    sequences = X_test,\n",
    "    padding = \"post\",\n",
    "    value = word2idx[\"PAD\"]\n",
    ")\n",
    "\n",
    "# Convert my Tag/Label to tag_index\n",
    "y_test = [[tag2idx.get(ele[1], tag2idx[\"UNK\"]) for ele in sentence] for sentence in test_data]\n",
    "\n",
    "# Padding each label to have same length\n",
    "y_test = pad_sequences(\n",
    "    maxlen = MAX_LEN,\n",
    "    sequences = y_test,\n",
    "    padding = \"post\",\n",
    "    value = tag2idx[\"PAD\"]\n",
    ")\n",
    "\n",
    "print(test_data[0])\n",
    "print(\"Testing Sample input\", X_test[0])\n",
    "print(\"Testing Label\", y_test[0])"
   ]
  },
  {
   "cell_type": "code",
   "execution_count": 60,
   "metadata": {},
   "outputs": [
    {
     "name": "stdout",
     "output_type": "stream",
     "text": [
      "121/121 [==============================] - 1s 10ms/step\n"
     ]
    }
   ],
   "source": [
    "# Predict probabilities\n",
    "y_test_pred_prob = model.predict(X_test)"
   ]
  },
  {
   "cell_type": "code",
   "execution_count": 61,
   "metadata": {},
   "outputs": [
    {
     "data": {
      "text/plain": [
       "(array([[-0.5374383 , -0.39767364, -0.6336614 , ..., -0.14264779,\n",
       "         -0.5366934 , -0.13972142],\n",
       "        [-0.39867145, -0.5109673 , -0.43382266, ..., -0.24962191,\n",
       "         -0.7885021 , -0.2850893 ],\n",
       "        [-0.72724974, -0.56613266, -0.5574774 , ..., -0.24428938,\n",
       "         -0.77247155, -0.35224035],\n",
       "        ...,\n",
       "        [ 0.57631516, -0.02783631,  0.0026499 , ..., -0.01858024,\n",
       "         -0.01993683, -0.02573788],\n",
       "        [ 0.57631516, -0.02783631,  0.0026499 , ..., -0.01858024,\n",
       "         -0.01993683, -0.02573788],\n",
       "        [ 0.57631516, -0.02783631,  0.0026499 , ..., -0.01858024,\n",
       "         -0.01993683, -0.02573788]], dtype=float32),\n",
       " 75,\n",
       " (3849, 75, 23))"
      ]
     },
     "execution_count": 61,
     "metadata": {},
     "output_type": "execute_result"
    }
   ],
   "source": [
    "y_test_pred_prob[0], len(y_test_pred_prob[0]), y_test_pred_prob.shape"
   ]
  },
  {
   "cell_type": "code",
   "execution_count": 62,
   "metadata": {},
   "outputs": [],
   "source": [
    "# # Convert probabilities to class predictions (for multi-class classification)\n",
    "y_val_pred = np.argmax(y_test_pred_prob, axis=2)"
   ]
  },
  {
   "cell_type": "code",
   "execution_count": 63,
   "metadata": {},
   "outputs": [
    {
     "data": {
      "text/plain": [
       "(array([16, 16, 16, 16, 16, 16, 16, 16, 16, 16, 16, 16, 16, 16, 16, 16, 16,\n",
       "        16, 16, 16, 16, 16, 16, 16, 16, 16,  0,  0,  0,  0,  0,  0,  0,  0,\n",
       "         0,  0,  0,  0,  0,  0,  0,  0,  0,  0,  0,  0,  0,  0,  0,  0,  0,\n",
       "         0,  0,  0,  0,  0,  0,  0,  0,  0,  0,  0,  0,  0,  0,  0,  0,  0,\n",
       "         0,  0,  0,  0,  0,  0,  0]),\n",
       " 75,\n",
       " array([11,  7,  7,  7,  7,  7, 16, 16, 16, 16, 16, 16, 16, 16, 16, 16, 16,\n",
       "        16, 16, 16, 16, 16, 16, 16, 16, 16,  0,  0,  0,  0,  0,  0,  0,  0,\n",
       "         0,  0,  0,  0,  0,  0,  0,  0,  0,  0,  0,  0,  0,  0,  0,  0,  0,\n",
       "         0,  0,  0,  0,  0,  0,  0,  0,  0,  0,  0,  0,  0,  0,  0,  0,  0,\n",
       "         0,  0,  0,  0,  0,  0,  0], dtype=int32),\n",
       " 75)"
      ]
     },
     "execution_count": 63,
     "metadata": {},
     "output_type": "execute_result"
    }
   ],
   "source": [
    "y_val_pred[0], len(y_val_pred[0]), y_test[0], len(y_test[0])"
   ]
  },
  {
   "cell_type": "code",
   "execution_count": 64,
   "metadata": {},
   "outputs": [
    {
     "data": {
      "text/plain": [
       "(array([16, 16, 16, 16, 16, 16, 16, 16, 16, 16, 16,  0,  0,  0,  0,  0,  0,\n",
       "         0,  0,  0,  0,  0,  0,  0,  0,  0,  0,  0,  0,  0,  0,  0,  0,  0,\n",
       "         0,  0,  0,  0,  0,  0,  0,  0,  0,  0,  0,  0,  0,  0,  0,  0,  0,\n",
       "         0,  0,  0,  0,  0,  0,  0,  0,  0,  0,  0,  0,  0,  0,  0,  0,  0,\n",
       "         0,  0,  0,  0,  0,  0,  0]),\n",
       " 75,\n",
       " array([16, 16, 16, 16, 16, 16, 16, 16, 16, 16, 16,  0,  0,  0,  0,  0,  0,\n",
       "         0,  0,  0,  0,  0,  0,  0,  0,  0,  0,  0,  0,  0,  0,  0,  0,  0,\n",
       "         0,  0,  0,  0,  0,  0,  0,  0,  0,  0,  0,  0,  0,  0,  0,  0,  0,\n",
       "         0,  0,  0,  0,  0,  0,  0,  0,  0,  0,  0,  0,  0,  0,  0,  0,  0,\n",
       "         0,  0,  0,  0,  0,  0,  0], dtype=int32),\n",
       " 75)"
      ]
     },
     "execution_count": 64,
     "metadata": {},
     "output_type": "execute_result"
    }
   ],
   "source": [
    "y_val_pred[1], len(y_val_pred[1]), y_test[1], len(y_test[1])"
   ]
  },
  {
   "cell_type": "code",
   "execution_count": 65,
   "metadata": {},
   "outputs": [
    {
     "name": "stdout",
     "output_type": "stream",
     "text": [
      "Accuracy: 0.9170409051348999\n"
     ]
    }
   ],
   "source": [
    "# Convert predictions and true labels, ignoring padding tokens\n",
    "y_pred_flat, y_true_flat = filter_padding(y_val_pred, y_test)\n",
    "\n",
    "# Calculate metrics\n",
    "accuracy = accuracy_score(y_true_flat, y_pred_flat)\n",
    "print(f\"Accuracy: {accuracy}\")\n"
   ]
  },
  {
   "cell_type": "code",
   "execution_count": 66,
   "metadata": {},
   "outputs": [
    {
     "name": "stdout",
     "output_type": "stream",
     "text": [
      "Classification Report:\n",
      "              precision    recall  f1-score   support\n",
      "\n",
      "           2       0.00      0.00      0.00        44\n",
      "           3       0.06      0.02      0.03       192\n",
      "           4       0.06      0.01      0.01       127\n",
      "           5       0.00      0.00      0.00        31\n",
      "           6       0.58      0.15      0.24       804\n",
      "           7       0.24      0.04      0.07       512\n",
      "           9       0.43      0.01      0.02       236\n",
      "          10       0.21      0.02      0.03       220\n",
      "          11       0.10      0.04      0.06       546\n",
      "          12       0.31      0.15      0.20       454\n",
      "          13       0.00      0.00      0.00        34\n",
      "          14       0.44      0.08      0.13       324\n",
      "          15       0.00      0.00      0.00        31\n",
      "          16       0.93      0.99      0.96     52673\n",
      "          17       0.00      0.00      0.00        44\n",
      "          18       0.17      0.03      0.05       278\n",
      "          19       0.09      0.03      0.05       230\n",
      "          20       0.48      0.04      0.07       528\n",
      "          22       0.20      0.01      0.01       142\n",
      "\n",
      "    accuracy                           0.92     57450\n",
      "   macro avg       0.23      0.09      0.10     57450\n",
      "weighted avg       0.88      0.92      0.89     57450\n",
      "\n"
     ]
    },
    {
     "name": "stderr",
     "output_type": "stream",
     "text": [
      "/home/varun/Documents/MS/Business Cases/Twitter NER NLP/.twitter_venv/lib/python3.11/site-packages/sklearn/metrics/_classification.py:1565: UndefinedMetricWarning: Precision is ill-defined and being set to 0.0 in labels with no predicted samples. Use `zero_division` parameter to control this behavior.\n",
      "  _warn_prf(average, modifier, f\"{metric.capitalize()} is\", len(result))\n",
      "/home/varun/Documents/MS/Business Cases/Twitter NER NLP/.twitter_venv/lib/python3.11/site-packages/sklearn/metrics/_classification.py:1565: UndefinedMetricWarning: Precision is ill-defined and being set to 0.0 in labels with no predicted samples. Use `zero_division` parameter to control this behavior.\n",
      "  _warn_prf(average, modifier, f\"{metric.capitalize()} is\", len(result))\n",
      "/home/varun/Documents/MS/Business Cases/Twitter NER NLP/.twitter_venv/lib/python3.11/site-packages/sklearn/metrics/_classification.py:1565: UndefinedMetricWarning: Precision is ill-defined and being set to 0.0 in labels with no predicted samples. Use `zero_division` parameter to control this behavior.\n",
      "  _warn_prf(average, modifier, f\"{metric.capitalize()} is\", len(result))\n"
     ]
    }
   ],
   "source": [
    "# Classification report\n",
    "print(\"Classification Report:\")\n",
    "print(classification_report(y_true_flat, y_pred_flat))"
   ]
  },
  {
   "cell_type": "code",
   "execution_count": 67,
   "metadata": {},
   "outputs": [
    {
     "data": {
      "text/plain": [
       "array([ 2,  3,  4,  5,  6,  7,  9, 10, 11, 12, 13, 14, 15, 16, 17, 18, 19,\n",
       "       20, 22], dtype=int32)"
      ]
     },
     "execution_count": 67,
     "metadata": {},
     "output_type": "execute_result"
    }
   ],
   "source": [
    "np.unique(y_true_flat)"
   ]
  },
  {
   "cell_type": "code",
   "execution_count": 68,
   "metadata": {},
   "outputs": [
    {
     "data": {
      "text/plain": [
       "array([ 3,  4,  5,  6,  7,  9, 10, 11, 12, 14, 15, 16, 17, 18, 19, 20, 22])"
      ]
     },
     "execution_count": 68,
     "metadata": {},
     "output_type": "execute_result"
    }
   ],
   "source": [
    "np.unique(y_pred_flat)"
   ]
  },
  {
   "cell_type": "code",
   "execution_count": 69,
   "metadata": {},
   "outputs": [
    {
     "data": {
      "image/png": "[encoded data removed]",
      "text/plain": [
       "<Figure size 1000x800 with 2 Axes>"
      ]
     },
     "metadata": {},
     "output_type": "display_data"
    }
   ],
   "source": [
    "\n",
    "# Flatten the sequences and exclude padding tokens (filter padding as before)\n",
    "y_pred_flat, y_true_flat = filter_padding(y_val_pred, y_test)\n",
    "\n",
    "# Compute the confusion matrix\n",
    "conf_matrix = confusion_matrix(y_true_flat, y_pred_flat)\n",
    "\n",
    "# Plot the heatmap\n",
    "plt.figure(figsize=(10, 8))\n",
    "sns.heatmap(conf_matrix, annot=True, fmt='d', cmap='Blues', xticklabels=np.unique(y_true_flat), yticklabels=np.unique(y_true_flat))\n",
    "\n",
    "# Labels and title\n",
    "plt.xlabel('Predicted Labels')\n",
    "plt.ylabel('True Labels')\n",
    "plt.title('Confusion Matrix Heatmap')\n",
    "plt.show()"
   ]
  },
  {
   "cell_type": "markdown",
   "metadata": {},
   "source": [
    "## Word2Vec Word Embeddings with Bi-LSTM"
   ]
  },
  {
   "cell_type": "markdown",
   "metadata": {},
   "source": [
    "### Embeddings"
   ]
  },
  {
   "cell_type": "code",
   "execution_count": 70,
   "metadata": {},
   "outputs": [
    {
     "data": {
      "text/plain": [
       "2393"
      ]
     },
     "execution_count": 70,
     "metadata": {},
     "output_type": "execute_result"
    }
   ],
   "source": [
    "len(data)"
   ]
  },
  {
   "cell_type": "code",
   "execution_count": 71,
   "metadata": {},
   "outputs": [
    {
     "data": {
      "text/plain": [
       "[('@SammieLynnsMom', 'O'),\n",
       " ('@tg10781', 'O'),\n",
       " ('they', 'O'),\n",
       " ('will', 'O'),\n",
       " ('be', 'O'),\n",
       " ('all', 'O'),\n",
       " ('done', 'O'),\n",
       " ('by', 'O'),\n",
       " ('Sunday', 'O'),\n",
       " ('trust', 'O'),\n",
       " ('me', 'O'),\n",
       " ('*wink*', 'O')]"
      ]
     },
     "execution_count": 71,
     "metadata": {},
     "output_type": "execute_result"
    }
   ],
   "source": [
    "data[0]"
   ]
  },
  {
   "cell_type": "code",
   "execution_count": 72,
   "metadata": {},
   "outputs": [
    {
     "name": "stdout",
     "output_type": "stream",
     "text": [
      "[('@SammieLynnsMom', 'O'), ('@tg10781', 'O'), ('they', 'O'), ('will', 'O'), ('be', 'O'), ('all', 'O'), ('done', 'O'), ('by', 'O'), ('Sunday', 'O'), ('trust', 'O'), ('me', 'O'), ('*wink*', 'O')]\n",
      "[('Made', 'O'), ('it', 'O'), ('back', 'O'), ('home', 'O'), ('to', 'O'), ('GA', 'B-geo-loc'), ('.', 'O'), ('It', 'O'), ('sucks', 'O'), ('not', 'O'), ('to', 'O'), ('be', 'O'), ('at', 'O'), ('Disney', 'B-facility'), ('world', 'I-facility'), (',', 'O'), ('but', 'O'), ('its', 'O'), ('good', 'O'), ('to', 'O'), ('be', 'O'), ('home', 'O'), ('.', 'O'), ('Time', 'O'), ('to', 'O'), ('start', 'O'), ('planning', 'O'), ('the', 'O'), ('next', 'O'), ('Disney', 'B-facility'), ('World', 'I-facility'), ('trip', 'O'), ('.', 'O')]\n",
      "[(\"'\", 'O'), ('Breaking', 'B-movie'), ('Dawn', 'I-movie'), (\"'\", 'O'), ('Returns', 'O'), ('to', 'O'), ('Vancouver', 'B-geo-loc'), ('on', 'O'), ('January', 'O'), ('11th', 'O'), ('http://bit.ly/dbDMs8', 'O')]\n",
      "[('@ls_n', 'O'), ('perhaps', 'O'), (',', 'O'), ('but', 'O'), ('folks', 'O'), ('may', 'O'), ('find', 'O'), ('something', 'O'), ('in', 'O'), ('the', 'O'), ('gallery', 'O'), ('that', 'O'), ('is', 'O'), ('helpful', 'O'), ('in', 'O'), ('their', 'O'), ('day-to-day', 'O'), ('work', 'O'), ('as', 'O'), ('well', 'O'), ('.', 'O'), ('Even', 'O'), ('just', 'O'), ('to', 'O'), ('use', 'O'), ('it', 'O'), ('.', 'O')]\n",
      "[('@Carr0t', 'O'), ('aye', 'O'), ('been', 'O'), ('tonight', 'O'), ('-', 'O'), ('excellent', 'O')]\n",
      "[('RT', 'O'), ('@LilTwist', 'O'), (':', 'O'), ('RT', 'O'), ('this', 'O'), ('if', 'O'), ('you', 'O'), ('want', 'O'), ('me', 'O'), ('to', 'O'), ('go', 'O'), ('back', 'O'), ('live', 'O'), ('on', 'O'), ('Ustream', 'B-company'), ('later', 'O'), ('tonight', 'O')]\n",
      "[('@Hollly_', 'O'), ('16', 'O'), ('b', 'O'), ('17', 'O'), ('in', 'O'), ('feb', 'O')]\n",
      "[('RT', 'O'), ('@obsidianchao', 'O'), (':', 'O'), ('OF', 'O'), ('FUCKING', 'O'), ('COURSE', 'O'), ('.', 'O'), ('I', 'O'), ('GET', 'O'), ('HOME', 'O'), ('AND', 'O'), ('MY', 'O'), ('BROTHER', 'O'), ('IS', 'O'), ('ON', 'O'), ('THE', 'O'), ('MOTHER', 'O'), ('FUCKING', 'O'), ('XBOX', 'B-product'), ('.', 'O'), ('Worst', 'O'), ('fucking', 'O'), ('day', 'O'), ('ever', 'O'), ('.', 'O')]\n",
      "[('I', 'O'), (\"haven't\", 'O'), ('driven', 'O'), ('to', 'O'), ('bc', 'B-geo-loc'), ('in', 'O'), ('years', 'O'), (',', 'O'), ('and', 'O'), ('I', 'O'), ('am', 'O'), ('just', 'O'), ('stunned', 'O'), ('by', 'O'), ('how', 'O'), ('beautiful', 'O'), ('the', 'O'), ('drive', 'O'), ('is', 'O'), ('.', 'O')]\n",
      "[('@daraobriain', 'O'), ('hmmm', 'O'), ('.', 'O'), ('Cant', 'O'), ('wait', 'O'), ('.', 'O'), ('Comin', 'O'), ('on', 'O'), ('Thursday', 'O'), ('.', 'O'), ('First', 'O'), ('time', 'O'), ('to', 'O'), ('the', 'B-facility'), ('Apollo', 'I-facility'), ('.', 'O')]\n"
     ]
    }
   ],
   "source": [
    "for _ in range(10):\n",
    "    print(data[_])"
   ]
  },
  {
   "cell_type": "code",
   "execution_count": 73,
   "metadata": {},
   "outputs": [
    {
     "name": "stdout",
     "output_type": "stream",
     "text": [
      "Vector for 'Disney': [-0.03401573 -0.07787138  0.05246223 -0.28506628  0.02353712 -0.1624959\n",
      " -0.19079438  0.42354813  0.06821679  0.06068345  0.4157507  -0.29883167\n",
      " -0.22237596 -0.10609876  0.11701673  0.20186906  0.5043893  -0.12632003\n",
      " -0.18080994  0.04397307 -0.3651332  -0.13581058 -0.01587982  0.35307884\n",
      " -0.5621385   0.39848664 -0.56236696  0.02754335 -0.07502747 -0.502823\n",
      " -0.31107312 -0.0445449   0.03266294 -0.01730459 -0.2593072   0.2979832\n",
      "  0.36678627  0.37062788 -0.09166308 -0.1251839  -0.01594435  0.26690006\n",
      " -0.21882516 -0.34856465  0.19949387 -0.07813776  0.13054474 -0.22594261\n",
      "  0.05825325  0.15789446 -0.58728904  0.33159664 -0.312625    0.37511227\n",
      "  0.33214206  0.05489832  0.2111212   0.29015055 -0.2504633   0.07771383\n",
      " -0.2957542  -0.35381976  0.27779567  0.11154643 -0.07416416 -0.02981466\n",
      "  0.08412196 -0.44147018 -0.3652614   0.00863719  0.09326027  0.12367988\n",
      " -0.16488908 -0.37062156  0.24497145  0.3576005  -0.041061    0.05594293\n",
      " -0.11582067 -0.05303695 -0.09977928 -0.22775374 -0.2866275   0.6790525\n",
      " -0.3457443  -0.20013179 -0.20358212 -0.22744489 -0.04371682  0.03106547\n",
      "  0.05175491 -0.32696563  0.09880885 -0.17706047  0.25957704 -0.01110298\n",
      "  0.23391901 -0.25427836  0.33221915 -0.01227436  0.16463201  0.09954442\n",
      "  0.04415408  0.3930667  -0.23338678 -0.55329627  0.24051702  0.18351263\n",
      " -0.40197685 -0.0876613  -0.43153515  0.16051762  0.02845318  0.02999252\n",
      " -0.2618869   0.24209966 -0.24726154 -0.16916844  0.1887627  -0.23513676\n",
      " -0.29218438  0.43171975  0.14807948 -0.15444678 -0.01364498 -0.15573676\n",
      " -0.11074308  0.22746444 -0.20232055  0.31982994  0.23498186  0.14990577\n",
      "  0.19201663 -0.3420321  -0.10932205  0.2855867  -0.29095507  0.15402879\n",
      " -0.43093428 -0.05573097  0.43701807 -0.24090146 -0.40638244 -0.20283583\n",
      "  0.5939381  -0.01180765 -0.23240122  0.01146152 -0.03607401 -0.08186235]\n"
     ]
    }
   ],
   "source": [
    "# Step 1: Preprocess the data to remove tags and extract tokens\n",
    "sentences = [[word for word, tag in sentence] for sentence in data]\n",
    "\n",
    "# Step 2: Train Word2Vec model\n",
    "embedding_size = 150\n",
    "word2vec_model = Word2Vec(\n",
    "    sentences,\n",
    "    vector_size=embedding_size,\n",
    "    window=5,  # Context window size\n",
    "    min_count=1,  # Include all words\n",
    "    workers=4,  # Number of threads\n",
    "    sg=1,  # Skip-gram model\n",
    "    epochs=50  # Number of training epochs\n",
    ")\n",
    "\n",
    "# Step 3: Access word embeddings\n",
    "word_embeddings = word2vec_model.wv\n",
    "print(f\"Vector for 'Disney': {word_embeddings['Disney']}\")\n"
   ]
  },
  {
   "cell_type": "code",
   "execution_count": 74,
   "metadata": {},
   "outputs": [
    {
     "name": "stdout",
     "output_type": "stream",
     "text": [
      "Vector for 'home': [-2.17520669e-02 -1.23522535e-01  4.03272778e-01 -9.50646847e-02\n",
      "  2.09373888e-02 -1.03636181e+00 -7.77050614e-01  1.09794244e-01\n",
      " -2.02605486e-01 -8.28408375e-02  5.37826061e-01 -2.85710692e-01\n",
      " -4.91160899e-01 -2.24952340e-01  1.32991582e-01 -4.85456623e-02\n",
      " -3.18757147e-01 -1.36877835e-01  6.68644488e-01  1.77497491e-01\n",
      "  2.53561795e-01 -3.23926061e-01  3.92769635e-01  3.52166742e-01\n",
      " -2.00121135e-01 -6.99025718e-03 -3.03980082e-01  2.58893371e-01\n",
      " -3.49489242e-01 -2.89208561e-01 -2.23292992e-01 -5.23376226e-01\n",
      "  2.73092419e-01  2.97249019e-01 -1.92513317e-01  1.22791104e-01\n",
      "  1.03366017e+00  2.55178511e-01 -3.76552403e-01 -1.05154049e+00\n",
      " -5.47984801e-02  3.69442284e-01 -3.77792329e-01 -3.08469027e-01\n",
      "  5.65425694e-01  4.95817184e-01  4.84890461e-01 -3.94151517e-04\n",
      "  2.60794550e-01  1.27608806e-01 -6.75134480e-01  3.23139697e-01\n",
      " -5.72929978e-01 -8.36640298e-02  8.04057240e-01  5.33819139e-01\n",
      "  3.55098784e-01  1.79456174e-02  1.68445989e-01 -7.64750957e-01\n",
      "  2.12430477e-01 -1.21459281e+00 -3.76641095e-01 -2.08619758e-01\n",
      "  1.11989588e-01 -3.76551926e-01 -1.77989945e-01  4.37731326e-01\n",
      " -2.78139114e-01 -1.89304411e-01 -3.46914113e-01  2.04146504e-01\n",
      "  6.37338996e-01 -4.65905368e-01  5.44220626e-01  3.62667620e-01\n",
      "  2.61005610e-02 -2.52471387e-01 -2.94082522e-01 -2.98057020e-01\n",
      "  2.29056608e-02 -9.63223457e-01  8.95210952e-02  2.49305353e-01\n",
      " -7.47928202e-01  6.55037105e-01  2.90195316e-01 -2.19683751e-01\n",
      "  1.09361100e+00 -5.15561439e-02  2.77381569e-01 -4.14447248e-01\n",
      "  2.40178972e-01 -2.64910072e-01  2.26422057e-01  7.82843232e-01\n",
      "  5.15844710e-02 -7.31627224e-03  3.54684174e-01 -5.12745142e-01\n",
      "  4.25068915e-01  2.33487904e-01  1.15283251e+00  1.10446155e-01\n",
      "  1.27067730e-01 -5.45828462e-01  1.62739426e-01  4.06471360e-03\n",
      " -1.10352427e-01  6.96255624e-01 -6.61640048e-01 -2.21629709e-01\n",
      "  1.04710078e+00  2.70657212e-01 -2.12506369e-01  5.04333615e-01\n",
      " -5.31772554e-01  2.78278738e-02 -7.33204544e-01  5.44545710e-01\n",
      " -1.06133866e+00  7.08162546e-01 -2.66446061e-02 -3.89453650e-01\n",
      "  1.83967084e-01  5.09890556e-01  2.83497602e-01  1.29095033e-01\n",
      " -1.94625571e-01  5.61425090e-01  4.15723830e-01 -8.67420852e-01\n",
      " -1.36932865e-01 -1.29872561e-01 -4.41022992e-01  5.86374430e-03\n",
      " -1.50379226e-01 -1.34648681e-01 -2.68392235e-01 -7.27117419e-01\n",
      "  9.77859274e-02 -5.11193216e-01 -5.09659588e-01 -1.31728634e-01\n",
      "  1.02307332e+00 -5.64503551e-01 -2.67847151e-01 -6.72695458e-01\n",
      "  5.25546789e-01 -1.08838582e+00]\n"
     ]
    }
   ],
   "source": [
    "# Step 3: Access word embeddings\n",
    "word_embeddings = word2vec_model.wv\n",
    "print(f\"Vector for 'home': {word_embeddings['home']}\")"
   ]
  },
  {
   "cell_type": "code",
   "execution_count": 75,
   "metadata": {},
   "outputs": [
    {
     "data": {
      "text/plain": [
       "10585"
      ]
     },
     "execution_count": 75,
     "metadata": {},
     "output_type": "execute_result"
    }
   ],
   "source": [
    "len(word_embeddings)"
   ]
  },
  {
   "cell_type": "markdown",
   "metadata": {},
   "source": [
    "### Features and Label, Data Splitting"
   ]
  },
  {
   "cell_type": "code",
   "execution_count": 76,
   "metadata": {},
   "outputs": [
    {
     "name": "stdout",
     "output_type": "stream",
     "text": [
      "Raw Sample:\n",
      "  @SammieLynnsMom @tg10781 they will be all done by Sunday trust me *wink*\n",
      "\n",
      " \n",
      "After processing, sample:\n",
      " [[-0.03880797  0.05548448 -0.13441    ...  0.11422057  0.1480474\n",
      "  -0.09564422]\n",
      " [-0.01246704  0.08164434 -0.17308524 ...  0.12239877  0.19282947\n",
      "  -0.12012949]\n",
      " [-0.03163513  0.22668353  0.29047447 ...  0.50402355 -0.21388218\n",
      "  -0.37641183]\n",
      " ...\n",
      " [ 0.          0.          0.         ...  0.          0.\n",
      "   0.        ]\n",
      " [ 0.          0.          0.         ...  0.          0.\n",
      "   0.        ]\n",
      " [ 0.          0.          0.         ...  0.          0.\n",
      "   0.        ]]\n"
     ]
    }
   ],
   "source": [
    "X = [[word_embeddings[word] for word,tag in sentence] for sentence in data]\n",
    "\n",
    "# pad the sequences, to have same length\n",
    "X = pad_sequences(\n",
    "    maxlen = 100,\n",
    "    sequences = X,\n",
    "    padding = \"post\",\n",
    "    dtype = \"float32\"\n",
    ")\n",
    "\n",
    "print('Raw Sample:\\n ', ' '.join([w[0] for w in data[0]]))\n",
    "print('\\n ' )\n",
    "print('After processing, sample:\\n', X[0])"
   ]
  },
  {
   "cell_type": "code",
   "execution_count": 77,
   "metadata": {},
   "outputs": [
    {
     "data": {
      "text/plain": [
       "(2393, (2393, 100, 150))"
      ]
     },
     "execution_count": 77,
     "metadata": {},
     "output_type": "execute_result"
    }
   ],
   "source": [
    "len(X), X.shape"
   ]
  },
  {
   "cell_type": "code",
   "execution_count": 78,
   "metadata": {},
   "outputs": [
    {
     "name": "stdout",
     "output_type": "stream",
     "text": [
      "Raw Label:\n",
      "  O O O O O O O O O O O O\n",
      "\n",
      " \n",
      "After processing, labels:\n",
      " [[0. 0. 0. ... 0. 0. 0.]\n",
      " [0. 0. 0. ... 0. 0. 0.]\n",
      " [0. 0. 0. ... 0. 0. 0.]\n",
      " ...\n",
      " [1. 0. 0. ... 0. 0. 0.]\n",
      " [1. 0. 0. ... 0. 0. 0.]\n",
      " [1. 0. 0. ... 0. 0. 0.]]\n"
     ]
    }
   ],
   "source": [
    "# Convert my Tag/Label to tag_index\n",
    "y = [[tag2idx[ele[1]] for ele in sentence] for sentence in data]\n",
    "\n",
    "# Padding each label to have same length\n",
    "y = pad_sequences(\n",
    "    maxlen = 100,\n",
    "    sequences = y,\n",
    "    padding = \"post\",\n",
    "    value = tag2idx[\"PAD\"]\n",
    ")\n",
    "\n",
    "# One-Hot encode\n",
    "y = [to_categorical(i, num_classes=23) for i in y]  # n_tags+1(PAD)\n",
    "\n",
    "print('Raw Label:\\n ', ' '.join([w[1] for w in data[0]]))\n",
    "print('\\n ' )\n",
    "print('After processing, labels:\\n', y[0])"
   ]
  },
  {
   "cell_type": "code",
   "execution_count": 79,
   "metadata": {},
   "outputs": [
    {
     "data": {
      "text/plain": [
       "(2393, 100)"
      ]
     },
     "execution_count": 79,
     "metadata": {},
     "output_type": "execute_result"
    }
   ],
   "source": [
    "len(y), len(y[0])"
   ]
  },
  {
   "cell_type": "code",
   "execution_count": 80,
   "metadata": {},
   "outputs": [],
   "source": [
    "# Data Splitting\n",
    "\n",
    "X_tr, X_te, y_tr, y_te = train_test_split(X, y, test_size=0.1)\n",
    "\n",
    "y_tr = np.array(y_tr)\n",
    "y_te = np.array(y_te)"
   ]
  },
  {
   "cell_type": "markdown",
   "metadata": {},
   "source": [
    "### Model Summary and Training"
   ]
  },
  {
   "cell_type": "code",
   "execution_count": 81,
   "metadata": {},
   "outputs": [
    {
     "name": "stdout",
     "output_type": "stream",
     "text": [
      "Model: \"Twitter_NER_V1\"\n",
      "_________________________________________________________________\n",
      " Layer (type)                Output Shape              Param #   \n",
      "=================================================================\n",
      " input_layer (InputLayer)    [(None, 100, 150)]        0         \n",
      "                                                                 \n",
      " bidirectional_2 (Bidirecti  (None, 100, 100)          80400     \n",
      " onal)                                                           \n",
      "                                                                 \n",
      " bidirectional_3 (Bidirecti  (None, 100, 100)          60400     \n",
      " onal)                                                           \n",
      "                                                                 \n",
      " time_distributed_1 (TimeDi  (None, 100, 64)           6464      \n",
      " stributed)                                                      \n",
      "                                                                 \n",
      " crf (CRF)                   [(None, 100),             2070      \n",
      "                              (None, 100, 23),                   \n",
      "                              (None,),                           \n",
      "                              (23, 23)]                          \n",
      "                                                                 \n",
      "=================================================================\n",
      "Total params: 149334 (583.34 KB)\n",
      "Trainable params: 149334 (583.34 KB)\n",
      "Non-trainable params: 0 (0.00 Byte)\n",
      "_________________________________________________________________\n"
     ]
    }
   ],
   "source": [
    "embedding_size = 150\n",
    "def build_model(max_len=100, embedding_dim=embedding_size): # 10585 vocab size\n",
    "    # Input layer to accept precomputed embeddings\n",
    "    input_layer = Input(shape=(max_len, embedding_dim), name='input_layer')\n",
    "\n",
    "    # BiLSTM layers\n",
    "    lstm_output = Bidirectional(LSTM(units=50, return_sequences=True))(input_layer)\n",
    "    lstm_output = Bidirectional(LSTM(units=50, return_sequences=True))(lstm_output)\n",
    "\n",
    "    # # Dense layer\n",
    "    dense_output = TimeDistributed(Dense(64, activation=\"relu\"))(lstm_output)\n",
    "\n",
    "    # CRF layer\n",
    "    crf = CRF(23, name='crf')  # 21 classes\n",
    "    predicted_sequence, potentials, sequence_length, crf_kernel = crf(dense_output)\n",
    "\n",
    "    # Build the model\n",
    "    model = Model(inputs=input_layer, outputs=potentials, name = \"Twitter_NER_V1\")\n",
    "\n",
    "    # Compile the model\n",
    "    model.compile(\n",
    "        optimizer=AdamW(weight_decay=0.001 ,learning_rate=0.001),\n",
    "        loss=SigmoidFocalCrossEntropy(),  # Use CRF-specific loss\n",
    "        # loss = custom_loss,\n",
    "        metrics=[\"accuracy\"]   # Optional: Use CRF accuracy\n",
    "    )\n",
    "\n",
    "    return model\n",
    "\n",
    "# Build and compile the model\n",
    "wv_ner_model = build_model()\n",
    "\n",
    "# Checkpointing\n",
    "save_model = tf.keras.callbacks.ModelCheckpoint(filepath='wv_twitter_ner_crf.weights.h5',\n",
    "  monitor='val_loss',\n",
    "  save_weights_only=True,\n",
    "  save_best_only=True,\n",
    "  verbose=1\n",
    ")\n",
    "\n",
    "# Early stopping\n",
    "es = tf.keras.callbacks.EarlyStopping(monitor='val_loss', verbose=1, patience=10)\n",
    "\n",
    "callbacks = [save_model, es]\n",
    "\n",
    "wv_ner_model.summary()"
   ]
  },
  {
   "cell_type": "code",
   "execution_count": 82,
   "metadata": {},
   "outputs": [
    {
     "name": "stdout",
     "output_type": "stream",
     "text": [
      "Epoch 1/10\n",
      "WARNING:tensorflow:Gradients do not exist for variables ['chain_kernel:0'] when minimizing the loss. If you're using `model.compile()`, did you forget to provide a `loss` argument?\n",
      "WARNING:tensorflow:Gradients do not exist for variables ['chain_kernel:0'] when minimizing the loss. If you're using `model.compile()`, did you forget to provide a `loss` argument?\n",
      "68/68 [==============================] - 7s 52ms/step - loss: 0.1648 - accuracy: 0.9618 - val_loss: 0.0194 - val_accuracy: 0.9872\n",
      "Epoch 2/10\n",
      "68/68 [==============================] - 3s 40ms/step - loss: 0.0199 - accuracy: 0.9846 - val_loss: 0.0194 - val_accuracy: 0.9849\n",
      "Epoch 3/10\n",
      "68/68 [==============================] - 3s 40ms/step - loss: 0.0154 - accuracy: 0.9874 - val_loss: 0.0147 - val_accuracy: 0.9881\n",
      "Epoch 4/10\n",
      "68/68 [==============================] - 3s 39ms/step - loss: 0.0143 - accuracy: 0.9881 - val_loss: 0.0361 - val_accuracy: 0.9883\n",
      "Epoch 5/10\n",
      "68/68 [==============================] - 3s 42ms/step - loss: 0.0168 - accuracy: 0.9878 - val_loss: 0.0135 - val_accuracy: 0.9887\n",
      "Epoch 6/10\n",
      "68/68 [==============================] - 3s 40ms/step - loss: 0.0132 - accuracy: 0.9883 - val_loss: 0.0129 - val_accuracy: 0.9887\n",
      "Epoch 7/10\n",
      "68/68 [==============================] - 3s 40ms/step - loss: 0.0128 - accuracy: 0.9885 - val_loss: 0.0131 - val_accuracy: 0.9891\n",
      "Epoch 8/10\n",
      "68/68 [==============================] - 3s 40ms/step - loss: 0.0156 - accuracy: 0.9871 - val_loss: 0.0139 - val_accuracy: 0.9875\n",
      "Epoch 9/10\n",
      "68/68 [==============================] - 3s 40ms/step - loss: 0.0127 - accuracy: 0.9885 - val_loss: 0.0125 - val_accuracy: 0.9890\n",
      "Epoch 10/10\n",
      "68/68 [==============================] - 3s 38ms/step - loss: 0.0123 - accuracy: 0.9888 - val_loss: 0.0120 - val_accuracy: 0.9892\n"
     ]
    },
    {
     "data": {
      "text/plain": [
       "<keras.src.callbacks.History at 0x74024437a510>"
      ]
     },
     "execution_count": 82,
     "metadata": {},
     "output_type": "execute_result"
    }
   ],
   "source": [
    "wv_ner_model.fit(\n",
    "    X_tr, y_tr, \n",
    "    validation_data = (X_te, y_te),\n",
    "    batch_size=BATCH_SIZE,\n",
    "    epochs=10, \n",
    "    shuffle = True)"
   ]
  },
  {
   "cell_type": "markdown",
   "metadata": {},
   "source": [
    "### Validation Data : Evaluation"
   ]
  },
  {
   "cell_type": "code",
   "execution_count": 83,
   "metadata": {},
   "outputs": [
    {
     "name": "stdout",
     "output_type": "stream",
     "text": [
      "8/8 [==============================] - 1s 11ms/step\n"
     ]
    }
   ],
   "source": [
    "# Predict probabilities\n",
    "y_val_pred_prob = wv_ner_model.predict(X_te)\n",
    "\n",
    "y_val_pred = np.argmax(y_val_pred_prob, axis=2)"
   ]
  },
  {
   "cell_type": "code",
   "execution_count": 84,
   "metadata": {},
   "outputs": [
    {
     "name": "stdout",
     "output_type": "stream",
     "text": [
      "Accuracy: 0.9528099528099528\n"
     ]
    }
   ],
   "source": [
    "# Convert predictions and true labels, ignoring padding tokens\n",
    "y_pred_flat, y_true_flat = filter_padding(y_val_pred, np.argmax(y_te, axis=2))\n",
    "\n",
    "# Calculate metrics\n",
    "accuracy = accuracy_score(y_true_flat, y_pred_flat)\n",
    "print(f\"Accuracy: {accuracy}\")"
   ]
  },
  {
   "cell_type": "code",
   "execution_count": 102,
   "metadata": {},
   "outputs": [],
   "source": [
    "# # Classification report\n",
    "# print(\"Classification Report:\")\n",
    "# print(classification_report(y_true_flat, y_pred_flat))"
   ]
  },
  {
   "cell_type": "code",
   "execution_count": 101,
   "metadata": {},
   "outputs": [],
   "source": [
    "# # Compute the confusion matrix\n",
    "# conf_matrix = confusion_matrix(y_true_flat, y_pred_flat)\n",
    "\n",
    "# # Plot the heatmap\n",
    "# plt.figure(figsize=(10, 8))\n",
    "# sns.heatmap(conf_matrix, annot=True, fmt='d', cmap='Blues', xticklabels=np.unique(y_true_flat), yticklabels=np.unique(y_true_flat))\n",
    "\n",
    "# # Labels and title\n",
    "# plt.xlabel('Predicted Labels')\n",
    "# plt.ylabel('True Labels')\n",
    "# plt.title('Confusion Matrix Heatmap')\n",
    "# plt.show()"
   ]
  },
  {
   "cell_type": "markdown",
   "metadata": {},
   "source": [
    "### Testing Data: Evaluation"
   ]
  },
  {
   "cell_type": "code",
   "execution_count": 87,
   "metadata": {},
   "outputs": [
    {
     "name": "stdout",
     "output_type": "stream",
     "text": [
      "Raw Sample:\n",
      "  New Orleans Mother 's Day Parade shooting . One of the people hurt was a 10-year-old girl . WHAT THE HELL IS WRONG WITH PEOPLE ?\n",
      "\n",
      " \n",
      "After processing, sample:\n",
      " [[-0.33311555 -0.0541712   0.00426361 ... -0.04001394  0.27341935\n",
      "  -0.11090662]\n",
      " [ 0.          0.          0.         ...  0.          0.\n",
      "   0.        ]\n",
      " [ 0.          0.          0.         ...  0.          0.\n",
      "   0.        ]\n",
      " ...\n",
      " [ 0.          0.          0.         ...  0.          0.\n",
      "   0.        ]\n",
      " [ 0.          0.          0.         ...  0.          0.\n",
      "   0.        ]\n",
      " [ 0.          0.          0.         ...  0.          0.\n",
      "   0.        ]]\n"
     ]
    }
   ],
   "source": [
    "# Define a default (zero) embedding for OOV words\n",
    "unk_embedding = np.zeros(embedding_size)\n",
    "\n",
    "# Function to get embeddings\n",
    "def get_embedding(word):\n",
    "    try:\n",
    "        # Access the word vector from the model\n",
    "        return word_embeddings[word]\n",
    "    except KeyError:\n",
    "        # Return a zero vector for OOV words\n",
    "        return unk_embedding\n",
    "    \n",
    "X_test = [[get_embedding(word) for word,tag in sentence] for sentence in test_data]\n",
    "\n",
    "# pad the sequences, to have same length\n",
    "X_test = pad_sequences(\n",
    "    maxlen = 100,\n",
    "    sequences = X_test,\n",
    "    padding = \"post\",\n",
    "    dtype = \"float32\"\n",
    ")\n",
    "\n",
    "print('Raw Sample:\\n ', ' '.join([w[0] for w in test_data[0]]))\n",
    "print('\\n ' )\n",
    "print('After processing, sample:\\n', X_test[0])"
   ]
  },
  {
   "cell_type": "code",
   "execution_count": 88,
   "metadata": {},
   "outputs": [],
   "source": [
    "# Convert my Tag/Label to tag_index\n",
    "y_test = [[tag2idx.get(ele[1], tag2idx[\"UNK\"]) for ele in sentence] for sentence in test_data]\n",
    "\n",
    "# Padding each label to have same length\n",
    "y_test = pad_sequences(\n",
    "    maxlen = 100,\n",
    "    sequences = y_test,\n",
    "    padding = \"post\",\n",
    "    dtype = \"float32\"\n",
    ")"
   ]
  },
  {
   "cell_type": "code",
   "execution_count": 89,
   "metadata": {},
   "outputs": [
    {
     "name": "stdout",
     "output_type": "stream",
     "text": [
      "121/121 [==============================] - 1s 12ms/step\n"
     ]
    }
   ],
   "source": [
    "# Predict probabilities\n",
    "y_test_pred_prob = wv_ner_model.predict(X_test)\n",
    "\n",
    "# Convert probabilities to class predictions (for multi-class classification)\n",
    "y_test_pred = np.argmax(y_test_pred_prob, axis=2)"
   ]
  },
  {
   "cell_type": "code",
   "execution_count": 90,
   "metadata": {},
   "outputs": [
    {
     "data": {
      "text/plain": [
       "(3849, 100, 23)"
      ]
     },
     "execution_count": 90,
     "metadata": {},
     "output_type": "execute_result"
    }
   ],
   "source": [
    "y_test_pred_prob.shape"
   ]
  },
  {
   "cell_type": "code",
   "execution_count": 91,
   "metadata": {},
   "outputs": [
    {
     "data": {
      "text/plain": [
       "array([11.,  7.,  7.,  7.,  7.,  7., 16., 16., 16., 16., 16., 16., 16.,\n",
       "       16., 16., 16., 16., 16., 16., 16., 16., 16., 16., 16., 16., 16.,\n",
       "        0.,  0.,  0.,  0.,  0.,  0.,  0.,  0.,  0.,  0.,  0.,  0.,  0.,\n",
       "        0.,  0.,  0.,  0.,  0.,  0.,  0.,  0.,  0.,  0.,  0.,  0.,  0.,\n",
       "        0.,  0.,  0.,  0.,  0.,  0.,  0.,  0.,  0.,  0.,  0.,  0.,  0.,\n",
       "        0.,  0.,  0.,  0.,  0.,  0.,  0.,  0.,  0.,  0.,  0.,  0.,  0.,\n",
       "        0.,  0.,  0.,  0.,  0.,  0.,  0.,  0.,  0.,  0.,  0.,  0.,  0.,\n",
       "        0.,  0.,  0.,  0.,  0.,  0.,  0.,  0.,  0.], dtype=float32)"
      ]
     },
     "execution_count": 91,
     "metadata": {},
     "output_type": "execute_result"
    }
   ],
   "source": [
    "y_test[0]"
   ]
  },
  {
   "cell_type": "code",
   "execution_count": 92,
   "metadata": {},
   "outputs": [
    {
     "data": {
      "text/plain": [
       "array([16, 16, 16, 16, 16, 16, 16, 16, 16, 16, 16, 16, 16, 16, 16, 16, 16,\n",
       "       16, 16, 16, 16, 16, 16, 16, 16,  0,  0,  0,  0,  0,  0,  0,  0,  0,\n",
       "        0,  0,  0,  0,  0,  0,  0,  0,  0,  0,  0,  0,  0,  0,  0,  0,  0,\n",
       "        0,  0,  0,  0,  0,  0,  0,  0,  0,  0,  0,  0,  0,  0,  0,  0,  0,\n",
       "        0,  0,  0,  0,  0,  0,  0,  0,  0,  0,  0,  0,  0,  0,  0,  0,  0,\n",
       "        0,  0,  0,  0,  0,  0,  0,  0,  0,  0,  0,  0,  0,  0,  0])"
      ]
     },
     "execution_count": 92,
     "metadata": {},
     "output_type": "execute_result"
    }
   ],
   "source": [
    "y_test_pred[0]"
   ]
  },
  {
   "cell_type": "code",
   "execution_count": 93,
   "metadata": {},
   "outputs": [
    {
     "data": {
      "text/plain": [
       "array([16., 16., 16., 16., 16., 16., 16., 16., 16., 16., 16.,  0.,  0.,\n",
       "        0.,  0.,  0.,  0.,  0.,  0.,  0.,  0.,  0.,  0.,  0.,  0.,  0.,\n",
       "        0.,  0.,  0.,  0.,  0.,  0.,  0.,  0.,  0.,  0.,  0.,  0.,  0.,\n",
       "        0.,  0.,  0.,  0.,  0.,  0.,  0.,  0.,  0.,  0.,  0.,  0.,  0.,\n",
       "        0.,  0.,  0.,  0.,  0.,  0.,  0.,  0.,  0.,  0.,  0.,  0.,  0.,\n",
       "        0.,  0.,  0.,  0.,  0.,  0.,  0.,  0.,  0.,  0.,  0.,  0.,  0.,\n",
       "        0.,  0.,  0.,  0.,  0.,  0.,  0.,  0.,  0.,  0.,  0.,  0.,  0.,\n",
       "        0.,  0.,  0.,  0.,  0.,  0.,  0.,  0.,  0.], dtype=float32)"
      ]
     },
     "execution_count": 93,
     "metadata": {},
     "output_type": "execute_result"
    }
   ],
   "source": [
    "y_test[1]"
   ]
  },
  {
   "cell_type": "code",
   "execution_count": 94,
   "metadata": {},
   "outputs": [
    {
     "data": {
      "text/plain": [
       "array([16, 16, 16, 16, 16, 16, 16, 16,  0,  0,  0,  0,  0,  0,  0,  0,  0,\n",
       "        0,  0,  0,  0,  0,  0,  0,  0,  0,  0,  0,  0,  0,  0,  0,  0,  0,\n",
       "        0,  0,  0,  0,  0,  0,  0,  0,  0,  0,  0,  0,  0,  0,  0,  0,  0,\n",
       "        0,  0,  0,  0,  0,  0,  0,  0,  0,  0,  0,  0,  0,  0,  0,  0,  0,\n",
       "        0,  0,  0,  0,  0,  0,  0,  0,  0,  0,  0,  0,  0,  0,  0,  0,  0,\n",
       "        0,  0,  0,  0,  0,  0,  0,  0,  0,  0,  0,  0,  0,  0,  0])"
      ]
     },
     "execution_count": 94,
     "metadata": {},
     "output_type": "execute_result"
    }
   ],
   "source": [
    "y_test_pred[1]"
   ]
  },
  {
   "cell_type": "code",
   "execution_count": 95,
   "metadata": {},
   "outputs": [
    {
     "data": {
      "text/plain": [
       "(3849, 3849)"
      ]
     },
     "execution_count": 95,
     "metadata": {},
     "output_type": "execute_result"
    }
   ],
   "source": [
    "len(y_test), len(y_test_pred)"
   ]
  },
  {
   "cell_type": "code",
   "execution_count": 96,
   "metadata": {},
   "outputs": [
    {
     "name": "stdout",
     "output_type": "stream",
     "text": [
      "Accuracy: 0.9115562016547317\n"
     ]
    }
   ],
   "source": [
    "# Convert predictions and true labels, ignoring padding tokens\n",
    "y_pred_flat, y_true_flat = filter_padding(y_test_pred, y_test)\n",
    "\n",
    "# Calculate metrics\n",
    "accuracy = accuracy_score(y_true_flat, y_pred_flat)\n",
    "print(f\"Accuracy: {accuracy}\")"
   ]
  },
  {
   "cell_type": "code",
   "execution_count": 99,
   "metadata": {},
   "outputs": [],
   "source": [
    "# # Classification report\n",
    "# print(\"Classification Report:\")\n",
    "# print(classification_report(y_true_flat, y_pred_flat))"
   ]
  },
  {
   "cell_type": "code",
   "execution_count": 100,
   "metadata": {},
   "outputs": [],
   "source": [
    "# # Compute the confusion matrix\n",
    "# conf_matrix = confusion_matrix(y_true_flat, y_pred_flat)\n",
    "\n",
    "# # Plot the heatmap\n",
    "# plt.figure(figsize=(10, 8))\n",
    "# sns.heatmap(conf_matrix, annot=True, fmt='d', cmap='Blues', xticklabels=np.unique(y_true_flat), yticklabels=np.unique(y_true_flat))\n",
    "\n",
    "# # Labels and title\n",
    "# plt.xlabel('Predicted Labels')\n",
    "# plt.ylabel('True Labels')\n",
    "# plt.title('Confusion Matrix Heatmap')\n",
    "# plt.show()"
   ]
  },
  {
   "cell_type": "markdown",
   "metadata": {},
   "source": [
    "## Key Observations\n",
    "\n",
    "1. Using **Bi-LSTM with CRF**:\n",
    "   - Achieved **high accuracy** on the validation dataset.\n",
    "   - Results showed close to **99% accuracy** with **good recall** and **precision values** for each entity.\n",
    "\n",
    "2. Comparison with Word2Vec Embeddings:\n",
    "   - Directly using **pre-trained Word2Vec embeddings** in a neural network resulted in **lower accuracy**.\n",
    "   - Incorporating a **custom embedding layer** and training on top of it yielded **better performance**.\n"
   ]
  },
  {
   "cell_type": "markdown",
   "metadata": {},
   "source": [
    "## Questions and Answers"
   ]
  },
  {
   "cell_type": "markdown",
   "metadata": {},
   "source": [
    "\n",
    "**Defining the problem statements, and where can this and modications of this be used?**\n",
    "- We’ve finalized NER for over 25 entities that help social networking giants like Twitter, Instagram, Reddit, Inc., Pinterest, LinkedIn (the usual suspects) gather insights and boost user engagement. Because, obviously, understanding what people are posting is important.\n",
    "\n",
    "**Explain the data format (CoNLL BIO format)**\n",
    "   - The CoNLL BIO format is a common structure for annotating text data for NER tasks. Each token is assigned a label indicating whether it begins (B), is inside (I), or is outside (O) of a named entity. For example:\n",
    "     ```\n",
    "     Barack B-PER\n",
    "     Obama I-PER\n",
    "     was O\n",
    "     born O\n",
    "     in O\n",
    "     Hawaii B-LOC\n",
    "     . O\n",
    "     ```\n",
    "\n",
    "**What other NER data annotation formats are available and how are they different?**\n",
    "   - **IOB**: Similar to BIO but lacks the distinction between beginning (B) and inside (I) when there is no ambiguity.\n",
    "   - **BIOES**: Extends BIO by adding labels for single-token entities (S) and the end of entities (E).\n",
    "   - **BILOU**: Similar to BIOES, but uses \"L\" for the last token of an entity and \"U\" for unit-length entities.\n",
    "\n",
    "**Why do we need tokenization of the data in our case?**\n",
    "   - Tokenization breaks text into manageable units (tokens) for processing. For NER, it ensures proper alignment of tokens with entity annotations, facilitating accurate tagging and model training.\n",
    "\n",
    "**What other models can you use for this task?**\n",
    "   - Alternatives include spaCy, Flair, T5, GPT-4, and custom transformer-based models.\n",
    "\n",
    "**Did early stopping have any effect on the training and results?**\n",
    "   - Early stopping prevents overfitting, especially when training on small datasets. It ensures the model generalizes better to unseen data.\n",
    "\n",
    "**How does the BERT model expect a pair of sentences to be processed?**\n",
    "   - BERT concatenates sentences with a `[SEP]` token and prepends them with a `[CLS]` token. The input is tokenized and converted into embeddings.\n",
    "\n",
    "**Why choose attention-based models over recurrent-based ones?**\n",
    "    - Attention mechanisms process all tokens simultaneously, enabling better handling of long-range dependencies and faster training. RNNs process tokens sequentially, which can be slower and less effective for long texts.\n",
    "\n",
    "**Differentiate BERT and Simple Transformers.**\n",
    "    - **BERT**: A transformer-based model pre-trained on masked language modeling and next-sentence prediction.\n",
    "    - **Simple Transformers**: A Python library that simplifies the training and fine-tuning of transformer models, including BERT, for various NLP tasks.\n"
   ]
  },
  {
   "cell_type": "markdown",
   "metadata": {},
   "source": []
  }
 ],
 "metadata": {
  "kernelspec": {
   "display_name": ".twitter_venv",
   "language": "python",
   "name": "python3"
  },
  "language_info": {
   "codemirror_mode": {
    "name": "ipython",
    "version": 3
   },
   "file_extension": ".py",
   "mimetype": "text/x-python",
   "name": "python",
   "nbconvert_exporter": "python",
   "pygments_lexer": "ipython3",
   "version": "3.11.11"
  }
 },
 "nbformat": 4,
 "nbformat_minor": 2
}
