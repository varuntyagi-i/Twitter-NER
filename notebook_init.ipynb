{
 "cells": [
  {
   "cell_type": "markdown",
   "metadata": {},
   "source": [
    "## Import Required Packages"
   ]
  },
  {
   "cell_type": "code",
   "execution_count": 1,
   "metadata": {},
   "outputs": [
    {
     "name": "stderr",
     "output_type": "stream",
     "text": [
      "2024-12-26 01:47:54.841669: I tensorflow/core/util/port.cc:111] oneDNN custom operations are on. You may see slightly different numerical results due to floating-point round-off errors from different computation orders. To turn them off, set the environment variable `TF_ENABLE_ONEDNN_OPTS=0`.\n",
      "2024-12-26 01:47:54.843667: I tensorflow/tsl/cuda/cudart_stub.cc:28] Could not find cuda drivers on your machine, GPU will not be used.\n",
      "2024-12-26 01:47:54.869112: E tensorflow/compiler/xla/stream_executor/cuda/cuda_dnn.cc:9342] Unable to register cuDNN factory: Attempting to register factory for plugin cuDNN when one has already been registered\n",
      "2024-12-26 01:47:54.869137: E tensorflow/compiler/xla/stream_executor/cuda/cuda_fft.cc:609] Unable to register cuFFT factory: Attempting to register factory for plugin cuFFT when one has already been registered\n",
      "2024-12-26 01:47:54.869165: E tensorflow/compiler/xla/stream_executor/cuda/cuda_blas.cc:1518] Unable to register cuBLAS factory: Attempting to register factory for plugin cuBLAS when one has already been registered\n",
      "2024-12-26 01:47:54.874275: I tensorflow/tsl/cuda/cudart_stub.cc:28] Could not find cuda drivers on your machine, GPU will not be used.\n",
      "2024-12-26 01:47:54.874709: I tensorflow/core/platform/cpu_feature_guard.cc:182] This TensorFlow binary is optimized to use available CPU instructions in performance-critical operations.\n",
      "To enable the following instructions: AVX2 AVX512F AVX512_VNNI FMA, in other operations, rebuild TensorFlow with the appropriate compiler flags.\n",
      "2024-12-26 01:47:55.607489: W tensorflow/compiler/tf2tensorrt/utils/py_utils.cc:38] TF-TRT Warning: Could not find TensorRT\n",
      "/home/varun/Documents/MS/Business Cases/Twitter NER NLP/.twitter_venv/lib/python3.11/site-packages/tensorflow_addons/utils/tfa_eol_msg.py:23: UserWarning: \n",
      "\n",
      "TensorFlow Addons (TFA) has ended development and introduction of new features.\n",
      "TFA has entered a minimal maintenance and release mode until a planned end of life in May 2024.\n",
      "Please modify downstream libraries to take dependencies from other repositories in our TensorFlow community (e.g. Keras, Keras-CV, and Keras-NLP). \n",
      "\n",
      "For more information see: https://github.com/tensorflow/addons/issues/2807 \n",
      "\n",
      "  warnings.warn(\n"
     ]
    }
   ],
   "source": [
    "import pandas as pd\n",
    "import numpy as np\n",
    "import tensorflow as tf\n",
    "\n",
    "import matplotlib.pyplot as plt\n",
    "import seaborn as sns\n",
    "\n",
    "import random\n",
    "\n",
    "from tensorflow.keras.preprocessing.sequence import pad_sequences\n",
    "from tensorflow.keras.utils import to_categorical # pip install git+https://github.com/tensorflow/addons.git\n",
    "from tensorflow.keras.models import Model\n",
    "from tensorflow.keras.layers import Input, Embedding, Bidirectional, LSTM, TimeDistributed, Dense\n",
    "from tensorflow_addons.layers import CRF\n",
    "from tensorflow_addons.optimizers import AdamW\n",
    "from tensorflow_addons.losses import SigmoidFocalCrossEntropy\n",
    "from tensorflow_addons.metrics import F1Score\n",
    "\n",
    "from sklearn.metrics import classification_report, accuracy_score, confusion_matrix"
   ]
  },
  {
   "cell_type": "markdown",
   "metadata": {},
   "source": [
    "## Define the Problem Statement and perform Exploratory Data Analysis"
   ]
  },
  {
   "cell_type": "markdown",
   "metadata": {},
   "source": [
    "### Definition of Problem"
   ]
  },
  {
   "cell_type": "markdown",
   "metadata": {},
   "source": [
    "\n",
    "Implement Named Entity Recognition (NER) for automatic content tagging and analysis. This initiative is intended to overcome the limitations of relying on user-generated hashtags, which can be inconsistent, inaccurate, or absent. The dataset is annotated with 10 fine-grained NER categories: person, geo-location, company, facility, product, music artist, movie, sports team, TV show, and other."
   ]
  },
  {
   "cell_type": "code",
   "execution_count": 2,
   "metadata": {},
   "outputs": [
    {
     "name": "stdout",
     "output_type": "stream",
     "text": [
      "TensorFlow is built with CUDA support.\n",
      "CUDA is not available.\n"
     ]
    },
    {
     "name": "stderr",
     "output_type": "stream",
     "text": [
      "2024-12-26 01:47:57.880847: E tensorflow/compiler/xla/stream_executor/cuda/cuda_driver.cc:268] failed call to cuInit: CUDA_ERROR_UNKNOWN: unknown error\n",
      "2024-12-26 01:47:57.880869: I tensorflow/compiler/xla/stream_executor/cuda/cuda_diagnostics.cc:168] retrieving CUDA diagnostic information for host: varun\n",
      "2024-12-26 01:47:57.880873: I tensorflow/compiler/xla/stream_executor/cuda/cuda_diagnostics.cc:175] hostname: varun\n",
      "2024-12-26 01:47:57.881012: I tensorflow/compiler/xla/stream_executor/cuda/cuda_diagnostics.cc:199] libcuda reported version is: 550.120.0\n",
      "2024-12-26 01:47:57.881025: I tensorflow/compiler/xla/stream_executor/cuda/cuda_diagnostics.cc:203] kernel reported version is: 550.120.0\n",
      "2024-12-26 01:47:57.881028: I tensorflow/compiler/xla/stream_executor/cuda/cuda_diagnostics.cc:309] kernel version seems to match DSO: 550.120.0\n"
     ]
    }
   ],
   "source": [
    "# Check if TensorFlow is built with CUDA support\n",
    "if tf.test.is_built_with_cuda():\n",
    "    print(\"TensorFlow is built with CUDA support.\")\n",
    "else:\n",
    "    print(\"TensorFlow is not built with CUDA support.\")\n",
    "\n",
    "# Check if a GPU is available and visible\n",
    "if tf.config.list_physical_devices('GPU'):\n",
    "    print(\"CUDA is available.\")\n",
    "else:\n",
    "    print(\"CUDA is not available.\")"
   ]
  },
  {
   "cell_type": "code",
   "execution_count": 3,
   "metadata": {},
   "outputs": [
    {
     "name": "stdout",
     "output_type": "stream",
     "text": [
      "WARNING:tensorflow:From /tmp/ipykernel_2656843/2737541736.py:2: is_gpu_available (from tensorflow.python.framework.test_util) is deprecated and will be removed in a future version.\n",
      "Instructions for updating:\n",
      "Use `tf.config.list_physical_devices('GPU')` instead.\n"
     ]
    }
   ],
   "source": [
    "# Hyperparams if GPU is available\n",
    "if tf.test.is_gpu_available():\n",
    "    BATCH_SIZE = 512  # Number of examples used in each iteration\n",
    "    EPOCHS = 5  # Number of passes through entire dataset\n",
    "    MAX_LEN = 75  # Max length of review (in words)\n",
    "    EMBEDDING = 40  # Dimension of word embedding vector\n",
    "    \n",
    "# Hyperparams for CPU training\n",
    "else:\n",
    "    BATCH_SIZE = 32\n",
    "    EPOCHS = 5\n",
    "    MAX_LEN = 75\n",
    "    EMBEDDING = 20"
   ]
  },
  {
   "cell_type": "markdown",
   "metadata": {},
   "source": [
    "## Data Preprocessing"
   ]
  },
  {
   "cell_type": "markdown",
   "metadata": {},
   "source": [
    "### Data Cleaning and Formatting"
   ]
  },
  {
   "cell_type": "code",
   "execution_count": 4,
   "metadata": {},
   "outputs": [],
   "source": [
    "def read_conll(file_path):\n",
    "    sentences = []\n",
    "    sentence = []\n",
    "\n",
    "    with open(file_path, 'r') as file:\n",
    "        for line in file:\n",
    "            line = line.strip()\n",
    "\n",
    "            if line:\n",
    "                token, tag = line.split('\\t')\n",
    "                sentence.append((token, tag))\n",
    "            else:\n",
    "                if sentence:\n",
    "                    sentences.append(sentence)\n",
    "                    sentence = []\n",
    "\n",
    "    return sentences"
   ]
  },
  {
   "cell_type": "code",
   "execution_count": 69,
   "metadata": {},
   "outputs": [
    {
     "data": {
      "text/plain": [
       "[('@SammieLynnsMom', 'O'),\n",
       " ('@tg10781', 'O'),\n",
       " ('they', 'O'),\n",
       " ('will', 'O'),\n",
       " ('be', 'O'),\n",
       " ('all', 'O'),\n",
       " ('done', 'O'),\n",
       " ('by', 'O'),\n",
       " ('Sunday', 'O'),\n",
       " ('trust', 'O'),\n",
       " ('me', 'O'),\n",
       " ('*wink*', 'O')]"
      ]
     },
     "execution_count": 69,
     "metadata": {},
     "output_type": "execute_result"
    }
   ],
   "source": [
    "file_path = \"dataset/wnut 16.txt.conll\"\n",
    "data  = read_conll(file_path)\n",
    " \n",
    "data[0]"
   ]
  },
  {
   "cell_type": "code",
   "execution_count": 6,
   "metadata": {},
   "outputs": [
    {
     "data": {
      "text/plain": [
       "2393"
      ]
     },
     "execution_count": 6,
     "metadata": {},
     "output_type": "execute_result"
    }
   ],
   "source": [
    "len(data)"
   ]
  },
  {
   "cell_type": "markdown",
   "metadata": {},
   "source": [
    "### Data Transformation for NER"
   ]
  },
  {
   "cell_type": "code",
   "execution_count": 7,
   "metadata": {},
   "outputs": [
    {
     "name": "stdout",
     "output_type": "stream",
     "text": [
      "             Token Tag\n",
      "0  @SammieLynnsMom   O\n",
      "1         @tg10781   O\n",
      "2             they   O\n",
      "3             will   O\n",
      "4               be   O\n"
     ]
    }
   ],
   "source": [
    "# Convert to a DataFrame if needed\n",
    "df = pd.DataFrame([(token, tag) for value in data for token, tag in value], columns=['Token', 'Tag'])\n",
    "print(df.head())"
   ]
  },
  {
   "cell_type": "markdown",
   "metadata": {},
   "source": [
    "### EDA"
   ]
  },
  {
   "cell_type": "code",
   "execution_count": 8,
   "metadata": {},
   "outputs": [
    {
     "name": "stdout",
     "output_type": "stream",
     "text": [
      "<class 'pandas.core.frame.DataFrame'>\n",
      "RangeIndex: 46462 entries, 0 to 46461\n",
      "Data columns (total 2 columns):\n",
      " #   Column  Non-Null Count  Dtype \n",
      "---  ------  --------------  ----- \n",
      " 0   Token   46462 non-null  object\n",
      " 1   Tag     46462 non-null  object\n",
      "dtypes: object(2)\n",
      "memory usage: 726.1+ KB\n"
     ]
    }
   ],
   "source": [
    "df.info()"
   ]
  },
  {
   "cell_type": "code",
   "execution_count": 9,
   "metadata": {},
   "outputs": [
    {
     "data": {
      "text/plain": [
       "(46462, 2)"
      ]
     },
     "execution_count": 9,
     "metadata": {},
     "output_type": "execute_result"
    }
   ],
   "source": [
    "df.shape"
   ]
  },
  {
   "cell_type": "code",
   "execution_count": 10,
   "metadata": {},
   "outputs": [
    {
     "name": "stdout",
     "output_type": "stream",
     "text": [
      "Number of sentences:  2393\n"
     ]
    }
   ],
   "source": [
    "print(\"Number of sentences: \", len(data))"
   ]
  },
  {
   "cell_type": "code",
   "execution_count": 11,
   "metadata": {},
   "outputs": [
    {
     "name": "stdout",
     "output_type": "stream",
     "text": [
      "Number of labels 21\n"
     ]
    }
   ],
   "source": [
    "print(\"Number of labels\", df[\"Tag\"].nunique())"
   ]
  },
  {
   "cell_type": "code",
   "execution_count": 12,
   "metadata": {},
   "outputs": [
    {
     "name": "stdout",
     "output_type": "stream",
     "text": [
      "Frequency of labels Tag\n",
      "O                44000\n",
      "B-person           449\n",
      "I-other            320\n",
      "B-geo-loc          276\n",
      "B-other            225\n",
      "I-person           215\n",
      "B-company          171\n",
      "I-facility         105\n",
      "B-facility         104\n",
      "B-product           97\n",
      "I-product           80\n",
      "I-musicartist       61\n",
      "B-musicartist       55\n",
      "B-sportsteam        51\n",
      "I-geo-loc           49\n",
      "I-movie             46\n",
      "I-company           36\n",
      "B-movie             34\n",
      "B-tvshow            34\n",
      "I-tvshow            31\n",
      "I-sportsteam        23\n",
      "Name: count, dtype: int64\n"
     ]
    }
   ],
   "source": [
    "print(\"Frequency of labels\", df[\"Tag\"].value_counts())"
   ]
  },
  {
   "cell_type": "code",
   "execution_count": 13,
   "metadata": {},
   "outputs": [],
   "source": [
    "senteces_length = [len(s) for s in data]"
   ]
  },
  {
   "cell_type": "code",
   "execution_count": 14,
   "metadata": {},
   "outputs": [
    {
     "data": {
      "image/png": "[encoded data removed]",
      "text/plain": [
       "<Figure size 640x480 with 1 Axes>"
      ]
     },
     "metadata": {},
     "output_type": "display_data"
    }
   ],
   "source": [
    "# Plot sentence by lenght\n",
    "plt.hist(senteces_length, bins=35)\n",
    "plt.title('Token per sentence')\n",
    "plt.xlabel('Len (number of token)')\n",
    "plt.ylabel('# samples')\n",
    "plt.show()"
   ]
  },
  {
   "cell_type": "markdown",
   "metadata": {},
   "source": [
    "From the histogram, we can see most of the sentences have around <b> 15 to 30 tokens </b>. Tokens can we referred as words ignoring punctuation marks."
   ]
  },
  {
   "cell_type": "code",
   "execution_count": 15,
   "metadata": {},
   "outputs": [
    {
     "data": {
      "text/plain": [
       "<Axes: >"
      ]
     },
     "execution_count": 15,
     "metadata": {},
     "output_type": "execute_result"
    },
    {
     "data": {
      "image/png": "[encoded data removed]",
      "text/plain": [
       "<Figure size 640x480 with 1 Axes>"
      ]
     },
     "metadata": {},
     "output_type": "display_data"
    }
   ],
   "source": [
    "sns.boxplot(x = senteces_length)"
   ]
  },
  {
   "cell_type": "markdown",
   "metadata": {},
   "source": [
    "### Handling Sparse Data"
   ]
  },
  {
   "cell_type": "code",
   "execution_count": 16,
   "metadata": {},
   "outputs": [
    {
     "data": {
      "text/html": [
       "<div>\n",
       "<style scoped>\n",
       "    .dataframe tbody tr th:only-of-type {\n",
       "        vertical-align: middle;\n",
       "    }\n",
       "\n",
       "    .dataframe tbody tr th {\n",
       "        vertical-align: top;\n",
       "    }\n",
       "\n",
       "    .dataframe thead th {\n",
       "        text-align: right;\n",
       "    }\n",
       "</style>\n",
       "<table border=\"1\" class=\"dataframe\">\n",
       "  <thead>\n",
       "    <tr style=\"text-align: right;\">\n",
       "      <th></th>\n",
       "      <th>Token</th>\n",
       "      <th>Tag</th>\n",
       "    </tr>\n",
       "  </thead>\n",
       "  <tbody>\n",
       "    <tr>\n",
       "      <th>0</th>\n",
       "      <td>@SammieLynnsMom</td>\n",
       "      <td>O</td>\n",
       "    </tr>\n",
       "    <tr>\n",
       "      <th>1</th>\n",
       "      <td>@tg10781</td>\n",
       "      <td>O</td>\n",
       "    </tr>\n",
       "    <tr>\n",
       "      <th>2</th>\n",
       "      <td>they</td>\n",
       "      <td>O</td>\n",
       "    </tr>\n",
       "    <tr>\n",
       "      <th>3</th>\n",
       "      <td>will</td>\n",
       "      <td>O</td>\n",
       "    </tr>\n",
       "    <tr>\n",
       "      <th>4</th>\n",
       "      <td>be</td>\n",
       "      <td>O</td>\n",
       "    </tr>\n",
       "  </tbody>\n",
       "</table>\n",
       "</div>"
      ],
      "text/plain": [
       "             Token Tag\n",
       "0  @SammieLynnsMom   O\n",
       "1         @tg10781   O\n",
       "2             they   O\n",
       "3             will   O\n",
       "4               be   O"
      ]
     },
     "execution_count": 16,
     "metadata": {},
     "output_type": "execute_result"
    }
   ],
   "source": [
    "df.head()"
   ]
  },
  {
   "cell_type": "code",
   "execution_count": 17,
   "metadata": {},
   "outputs": [
    {
     "data": {
      "text/plain": [
       "Tag\n",
       "O                44000\n",
       "B-person           449\n",
       "I-other            320\n",
       "B-geo-loc          276\n",
       "B-other            225\n",
       "I-person           215\n",
       "B-company          171\n",
       "I-facility         105\n",
       "B-facility         104\n",
       "B-product           97\n",
       "I-product           80\n",
       "I-musicartist       61\n",
       "B-musicartist       55\n",
       "B-sportsteam        51\n",
       "I-geo-loc           49\n",
       "I-movie             46\n",
       "I-company           36\n",
       "B-movie             34\n",
       "B-tvshow            34\n",
       "I-tvshow            31\n",
       "I-sportsteam        23\n",
       "Name: count, dtype: int64"
      ]
     },
     "execution_count": 17,
     "metadata": {},
     "output_type": "execute_result"
    }
   ],
   "source": [
    "df.Tag.value_counts()"
   ]
  },
  {
   "cell_type": "code",
   "execution_count": 18,
   "metadata": {},
   "outputs": [],
   "source": [
    "df[\"entity\"] = df[\"Tag\"].apply(lambda x : x.split(\"-\")[-1] if len(x.split(\"-\")) > 1 else \"\")"
   ]
  },
  {
   "cell_type": "code",
   "execution_count": 19,
   "metadata": {},
   "outputs": [
    {
     "data": {
      "text/plain": [
       "entity\n",
       "               44000\n",
       "person           664\n",
       "other            545\n",
       "loc              325\n",
       "facility         209\n",
       "company          207\n",
       "product          177\n",
       "musicartist      116\n",
       "movie             80\n",
       "sportsteam        74\n",
       "tvshow            65\n",
       "Name: count, dtype: int64"
      ]
     },
     "execution_count": 19,
     "metadata": {},
     "output_type": "execute_result"
    }
   ],
   "source": [
    "df.entity.value_counts()"
   ]
  },
  {
   "cell_type": "code",
   "execution_count": 20,
   "metadata": {},
   "outputs": [],
   "source": [
    "lowcount_labels = df.entity.value_counts().iloc[3:].reset_index().entity.tolist()"
   ]
  },
  {
   "cell_type": "code",
   "execution_count": 21,
   "metadata": {},
   "outputs": [
    {
     "name": "stdout",
     "output_type": "stream",
     "text": [
      "[('@SammieLynnsMom', 'O'), ('@tg10781', 'O'), ('they', 'O'), ('will', 'O'), ('be', 'O'), ('all', 'O'), ('done', 'O'), ('by', 'O'), ('Sunday', 'O'), ('trust', 'O'), ('me', 'O'), ('*wink*', 'O')]\n",
      "[('Made', 'O'), ('it', 'O'), ('back', 'O'), ('home', 'O'), ('to', 'O'), ('GA', 'B-geo-loc'), ('.', 'O'), ('It', 'O'), ('sucks', 'O'), ('not', 'O'), ('to', 'O'), ('be', 'O'), ('at', 'O'), ('Disney', 'B-facility'), ('world', 'I-facility'), (',', 'O'), ('but', 'O'), ('its', 'O'), ('good', 'O'), ('to', 'O'), ('be', 'O'), ('home', 'O'), ('.', 'O'), ('Time', 'O'), ('to', 'O'), ('start', 'O'), ('planning', 'O'), ('the', 'O'), ('next', 'O'), ('Disney', 'B-facility'), ('World', 'I-facility'), ('trip', 'O'), ('.', 'O')]\n",
      "[(\"'\", 'O'), ('Breaking', 'B-movie'), ('Dawn', 'I-movie'), (\"'\", 'O'), ('Returns', 'O'), ('to', 'O'), ('Vancouver', 'B-geo-loc'), ('on', 'O'), ('January', 'O'), ('11th', 'O'), ('http://bit.ly/dbDMs8', 'O')]\n",
      "[('@ls_n', 'O'), ('perhaps', 'O'), (',', 'O'), ('but', 'O'), ('folks', 'O'), ('may', 'O'), ('find', 'O'), ('something', 'O'), ('in', 'O'), ('the', 'O'), ('gallery', 'O'), ('that', 'O'), ('is', 'O'), ('helpful', 'O'), ('in', 'O'), ('their', 'O'), ('day-to-day', 'O'), ('work', 'O'), ('as', 'O'), ('well', 'O'), ('.', 'O'), ('Even', 'O'), ('just', 'O'), ('to', 'O'), ('use', 'O'), ('it', 'O'), ('.', 'O')]\n",
      "[('@Carr0t', 'O'), ('aye', 'O'), ('been', 'O'), ('tonight', 'O'), ('-', 'O'), ('excellent', 'O')]\n"
     ]
    }
   ],
   "source": [
    "for ele in data[:5]:\n",
    "    print(ele)"
   ]
  },
  {
   "cell_type": "markdown",
   "metadata": {},
   "source": [
    "### Oversampling"
   ]
  },
  {
   "cell_type": "code",
   "execution_count": 22,
   "metadata": {},
   "outputs": [],
   "source": [
    "# oversampled_data = data"
   ]
  },
  {
   "cell_type": "code",
   "execution_count": 23,
   "metadata": {},
   "outputs": [],
   "source": [
    "oversampling = {}\n",
    "for label in lowcount_labels:\n",
    "    oversampling[label] = []\n",
    "for sentence in data:\n",
    "    for word, label in sentence:\n",
    "        if label.split(\"-\")[-1] in df.entity.value_counts().iloc[3:].reset_index().entity.tolist():\n",
    "            oversampling[label.split(\"-\")[-1]].append(sentence)\n",
    "            break"
   ]
  },
  {
   "cell_type": "code",
   "execution_count": 24,
   "metadata": {},
   "outputs": [
    {
     "name": "stdout",
     "output_type": "stream",
     "text": [
      "loc 174\n",
      "facility 77\n",
      "company 135\n",
      "product 65\n",
      "musicartist 35\n",
      "movie 24\n",
      "sportsteam 37\n",
      "tvshow 29\n"
     ]
    }
   ],
   "source": [
    "for key, value in oversampling.items():\n",
    "    print(key, len(value))"
   ]
  },
  {
   "cell_type": "code",
   "execution_count": 25,
   "metadata": {},
   "outputs": [
    {
     "data": {
      "text/plain": [
       "2393"
      ]
     },
     "execution_count": 25,
     "metadata": {},
     "output_type": "execute_result"
    }
   ],
   "source": [
    "len(data)"
   ]
  },
  {
   "cell_type": "code",
   "execution_count": 26,
   "metadata": {},
   "outputs": [],
   "source": [
    "oversampled_data = data + random.choices(oversampling[\"loc\"], k=200)\n",
    "oversampled_data += random.choices(oversampling[\"facility\"], k=300)\n",
    "oversampled_data += random.choices(oversampling[\"company\"], k=300)\n",
    "oversampled_data += random.choices(oversampling[\"product\"], k=400)\n",
    "oversampled_data += random.choices(oversampling[\"musicartist\"], k=400)\n",
    "oversampled_data += random.choices(oversampling[\"movie\"], k=500)\n",
    "oversampled_data += random.choices(oversampling[\"sportsteam\"], k=500)\n",
    "oversampled_data += random.choices(oversampling[\"tvshow\"], k=500)"
   ]
  },
  {
   "cell_type": "code",
   "execution_count": 27,
   "metadata": {},
   "outputs": [
    {
     "data": {
      "text/plain": [
       "5493"
      ]
     },
     "execution_count": 27,
     "metadata": {},
     "output_type": "execute_result"
    }
   ],
   "source": [
    "len(oversampled_data)"
   ]
  },
  {
   "cell_type": "markdown",
   "metadata": {},
   "source": [
    "### Tokenization and Encoding:"
   ]
  },
  {
   "cell_type": "code",
   "execution_count": 28,
   "metadata": {},
   "outputs": [
    {
     "data": {
      "text/html": [
       "<div>\n",
       "<style scoped>\n",
       "    .dataframe tbody tr th:only-of-type {\n",
       "        vertical-align: middle;\n",
       "    }\n",
       "\n",
       "    .dataframe tbody tr th {\n",
       "        vertical-align: top;\n",
       "    }\n",
       "\n",
       "    .dataframe thead th {\n",
       "        text-align: right;\n",
       "    }\n",
       "</style>\n",
       "<table border=\"1\" class=\"dataframe\">\n",
       "  <thead>\n",
       "    <tr style=\"text-align: right;\">\n",
       "      <th></th>\n",
       "      <th>Token</th>\n",
       "      <th>Tag</th>\n",
       "      <th>entity</th>\n",
       "    </tr>\n",
       "  </thead>\n",
       "  <tbody>\n",
       "    <tr>\n",
       "      <th>0</th>\n",
       "      <td>@SammieLynnsMom</td>\n",
       "      <td>O</td>\n",
       "      <td></td>\n",
       "    </tr>\n",
       "    <tr>\n",
       "      <th>1</th>\n",
       "      <td>@tg10781</td>\n",
       "      <td>O</td>\n",
       "      <td></td>\n",
       "    </tr>\n",
       "    <tr>\n",
       "      <th>2</th>\n",
       "      <td>they</td>\n",
       "      <td>O</td>\n",
       "      <td></td>\n",
       "    </tr>\n",
       "    <tr>\n",
       "      <th>3</th>\n",
       "      <td>will</td>\n",
       "      <td>O</td>\n",
       "      <td></td>\n",
       "    </tr>\n",
       "    <tr>\n",
       "      <th>4</th>\n",
       "      <td>be</td>\n",
       "      <td>O</td>\n",
       "      <td></td>\n",
       "    </tr>\n",
       "  </tbody>\n",
       "</table>\n",
       "</div>"
      ],
      "text/plain": [
       "             Token Tag entity\n",
       "0  @SammieLynnsMom   O       \n",
       "1         @tg10781   O       \n",
       "2             they   O       \n",
       "3             will   O       \n",
       "4               be   O       "
      ]
     },
     "execution_count": 28,
     "metadata": {},
     "output_type": "execute_result"
    }
   ],
   "source": [
    "df.head()"
   ]
  },
  {
   "cell_type": "code",
   "execution_count": 29,
   "metadata": {},
   "outputs": [
    {
     "data": {
      "text/plain": [
       "Token\n",
       ".               1524\n",
       ",                914\n",
       "the              876\n",
       "to               824\n",
       "I                762\n",
       "                ... \n",
       "shaped             1\n",
       "hole               1\n",
       "Def                1\n",
       "tune               1\n",
       "@ihatequotes       1\n",
       "Name: count, Length: 10585, dtype: int64"
      ]
     },
     "execution_count": 29,
     "metadata": {},
     "output_type": "execute_result"
    }
   ],
   "source": [
    "df[\"Token\"].value_counts()"
   ]
  },
  {
   "cell_type": "code",
   "execution_count": 30,
   "metadata": {},
   "outputs": [
    {
     "name": "stdout",
     "output_type": "stream",
     "text": [
      "Number of unique words in the dataset:  10585\n"
     ]
    }
   ],
   "source": [
    "words = list(set(df[\"Token\"].values))\n",
    "print(\"Number of unique words in the dataset: \", len(words))"
   ]
  },
  {
   "cell_type": "code",
   "execution_count": 31,
   "metadata": {},
   "outputs": [
    {
     "data": {
      "text/plain": [
       "Tag\n",
       "O                44000\n",
       "B-person           449\n",
       "I-other            320\n",
       "B-geo-loc          276\n",
       "B-other            225\n",
       "I-person           215\n",
       "B-company          171\n",
       "I-facility         105\n",
       "B-facility         104\n",
       "B-product           97\n",
       "I-product           80\n",
       "I-musicartist       61\n",
       "B-musicartist       55\n",
       "B-sportsteam        51\n",
       "I-geo-loc           49\n",
       "I-movie             46\n",
       "I-company           36\n",
       "B-movie             34\n",
       "B-tvshow            34\n",
       "I-tvshow            31\n",
       "I-sportsteam        23\n",
       "Name: count, dtype: int64"
      ]
     },
     "execution_count": 31,
     "metadata": {},
     "output_type": "execute_result"
    }
   ],
   "source": [
    "df[\"Tag\"].value_counts()"
   ]
  },
  {
   "cell_type": "code",
   "execution_count": 32,
   "metadata": {},
   "outputs": [
    {
     "name": "stdout",
     "output_type": "stream",
     "text": [
      "Number of Labels:  21\n"
     ]
    }
   ],
   "source": [
    "tags = list(set(df[\"Tag\"].values))\n",
    "print(\"Number of Labels: \", len(tags))"
   ]
  },
  {
   "cell_type": "code",
   "execution_count": 33,
   "metadata": {},
   "outputs": [
    {
     "data": {
      "text/plain": [
       "['I-other',\n",
       " 'B-product',\n",
       " 'B-person',\n",
       " 'I-sportsteam',\n",
       " 'B-company',\n",
       " 'I-tvshow',\n",
       " 'O',\n",
       " 'I-product',\n",
       " 'B-other',\n",
       " 'I-movie',\n",
       " 'B-geo-loc',\n",
       " 'B-sportsteam',\n",
       " 'B-movie',\n",
       " 'I-facility',\n",
       " 'I-person',\n",
       " 'I-musicartist',\n",
       " 'I-geo-loc',\n",
       " 'B-facility',\n",
       " 'B-tvshow',\n",
       " 'B-musicartist',\n",
       " 'I-company']"
      ]
     },
     "execution_count": 33,
     "metadata": {},
     "output_type": "execute_result"
    }
   ],
   "source": [
    "tags"
   ]
  },
  {
   "cell_type": "markdown",
   "metadata": {},
   "source": [
    "### Indexing my words and labels to consider them as Tokens"
   ]
  },
  {
   "cell_type": "code",
   "execution_count": 34,
   "metadata": {},
   "outputs": [
    {
     "name": "stdout",
     "output_type": "stream",
     "text": [
      "The word doctor is identified by the index: 5985\n",
      "The labels B-movie(which defines Movie Enitities at the Bengining) is identified by the index: 14\n"
     ]
    }
   ],
   "source": [
    "word2idx = {w:i+2 for i,w in enumerate(words)}\n",
    "word2idx[\"UNK\"] = 1\n",
    "word2idx[\"PAD\"] = 0\n",
    "\n",
    "tag2idx = {t:i+2 for i,t in enumerate(tags)}\n",
    "tag2idx[\"PAD\"] = 0\n",
    "tag2idx[\"UNK\"] = 1\n",
    "\n",
    "print(\"The word doctor is identified by the index: {}\".format(word2idx[\"doctor\"]))\n",
    "print(\"The labels B-movie(which defines Movie Enitities at the Bengining) is identified by the index: {}\".format(tag2idx[\"B-movie\"]))"
   ]
  },
  {
   "cell_type": "code",
   "execution_count": 35,
   "metadata": {},
   "outputs": [
    {
     "data": {
      "text/plain": [
       "{'I-other': 2,\n",
       " 'B-product': 3,\n",
       " 'B-person': 4,\n",
       " 'I-sportsteam': 5,\n",
       " 'B-company': 6,\n",
       " 'I-tvshow': 7,\n",
       " 'O': 8,\n",
       " 'I-product': 9,\n",
       " 'B-other': 10,\n",
       " 'I-movie': 11,\n",
       " 'B-geo-loc': 12,\n",
       " 'B-sportsteam': 13,\n",
       " 'B-movie': 14,\n",
       " 'I-facility': 15,\n",
       " 'I-person': 16,\n",
       " 'I-musicartist': 17,\n",
       " 'I-geo-loc': 18,\n",
       " 'B-facility': 19,\n",
       " 'B-tvshow': 20,\n",
       " 'B-musicartist': 21,\n",
       " 'I-company': 22,\n",
       " 'PAD': 0,\n",
       " 'UNK': 1}"
      ]
     },
     "execution_count": 35,
     "metadata": {},
     "output_type": "execute_result"
    }
   ],
   "source": [
    "tag2idx"
   ]
  },
  {
   "cell_type": "markdown",
   "metadata": {},
   "source": [
    "### Training: Data Creation"
   ]
  },
  {
   "cell_type": "code",
   "execution_count": 36,
   "metadata": {},
   "outputs": [
    {
     "data": {
      "text/plain": [
       "[('@SammieLynnsMom', 'O'),\n",
       " ('@tg10781', 'O'),\n",
       " ('they', 'O'),\n",
       " ('will', 'O'),\n",
       " ('be', 'O'),\n",
       " ('all', 'O'),\n",
       " ('done', 'O'),\n",
       " ('by', 'O'),\n",
       " ('Sunday', 'O'),\n",
       " ('trust', 'O'),\n",
       " ('me', 'O'),\n",
       " ('*wink*', 'O')]"
      ]
     },
     "execution_count": 36,
     "metadata": {},
     "output_type": "execute_result"
    }
   ],
   "source": [
    "oversampled_data[0]"
   ]
  },
  {
   "cell_type": "code",
   "execution_count": 37,
   "metadata": {},
   "outputs": [
    {
     "name": "stdout",
     "output_type": "stream",
     "text": [
      "Raw Sample:\n",
      "  @SammieLynnsMom @tg10781 they will be all done by Sunday trust me *wink*\n",
      "\n",
      " \n",
      "After processing, sample:\n",
      " [2141 1492 7378 7772  358 1763 6896 7603 3645 2926 9552 7791    0    0\n",
      "    0    0    0    0    0    0    0    0    0    0    0    0    0    0\n",
      "    0    0    0    0    0    0    0    0    0    0    0    0    0    0\n",
      "    0    0    0    0    0    0    0    0    0    0    0    0    0    0\n",
      "    0    0    0    0    0    0    0    0    0    0    0    0    0    0\n",
      "    0    0    0    0    0]\n"
     ]
    }
   ],
   "source": [
    "X = [[word2idx[ele[0]] for ele in sentence] for sentence in oversampled_data]\n",
    "\n",
    "# pad the sequences, to have same length\n",
    "X = pad_sequences(\n",
    "    maxlen = MAX_LEN,\n",
    "    sequences = X,\n",
    "    padding = \"post\",\n",
    "    value = word2idx[\"PAD\"]\n",
    ")\n",
    "\n",
    "print('Raw Sample:\\n ', ' '.join([w[0] for w in oversampled_data[0]]))\n",
    "print('\\n ' )\n",
    "print('After processing, sample:\\n', X[0])"
   ]
  },
  {
   "cell_type": "code",
   "execution_count": 38,
   "metadata": {},
   "outputs": [
    {
     "name": "stdout",
     "output_type": "stream",
     "text": [
      "Raw Label:\n",
      "  O O O O O O O O O O O O\n",
      "\n",
      " \n",
      "After processing, labels:\n",
      " [8 8 8 8 8 8 8 8 8 8 8 8 0 0 0 0 0 0 0 0 0 0 0 0 0 0 0 0 0 0 0 0 0 0 0 0 0\n",
      " 0 0 0 0 0 0 0 0 0 0 0 0 0 0 0 0 0 0 0 0 0 0 0 0 0 0 0 0 0 0 0 0 0 0 0 0 0\n",
      " 0]\n"
     ]
    }
   ],
   "source": [
    "# Convert my Tag/Label to tag_index\n",
    "y = [[tag2idx[ele[1]] for ele in sentence] for sentence in oversampled_data]\n",
    "\n",
    "# Padding each label to have same length\n",
    "y = pad_sequences(\n",
    "    maxlen = MAX_LEN,\n",
    "    sequences = y,\n",
    "    padding = \"post\",\n",
    "    value = tag2idx[\"PAD\"]\n",
    ")\n",
    "\n",
    "print('Raw Label:\\n ', ' '.join([w[1] for w in oversampled_data[0]]))\n",
    "print('\\n ' )\n",
    "print('After processing, labels:\\n', y[0])"
   ]
  },
  {
   "cell_type": "code",
   "execution_count": 39,
   "metadata": {},
   "outputs": [],
   "source": [
    "# One-Hot encode\n",
    "y = [to_categorical(i, num_classes=23) for i in y]  # n_tags+1(PAD)\n",
    "\n",
    "from sklearn.model_selection import train_test_split\n",
    "X_tr, X_te, y_tr, y_te = train_test_split(X, y, test_size=0.1)\n",
    "\n",
    "y_tr = np.array(y_tr)\n",
    "y_te = np.array(y_te)"
   ]
  },
  {
   "cell_type": "code",
   "execution_count": 40,
   "metadata": {},
   "outputs": [
    {
     "data": {
      "text/plain": [
       "(4943, 4943)"
      ]
     },
     "execution_count": 40,
     "metadata": {},
     "output_type": "execute_result"
    }
   ],
   "source": [
    "len(X_tr), len(y_tr)"
   ]
  },
  {
   "cell_type": "code",
   "execution_count": 41,
   "metadata": {},
   "outputs": [
    {
     "data": {
      "text/plain": [
       "array([3055, 6858, 8948, 4280, 6579, 6870, 4294, 2474, 3323, 6645,  358,\n",
       "       7048, 9704,  827, 2498, 6995, 2838, 1296, 2581, 1670, 5863, 6367,\n",
       "       1509, 8476, 6546,    0,    0,    0,    0,    0,    0,    0,    0,\n",
       "          0,    0,    0,    0,    0,    0,    0,    0,    0,    0,    0,\n",
       "          0,    0,    0,    0,    0,    0,    0,    0,    0,    0,    0,\n",
       "          0,    0,    0,    0,    0,    0,    0,    0,    0,    0,    0,\n",
       "          0,    0,    0,    0,    0,    0,    0,    0,    0], dtype=int32)"
      ]
     },
     "execution_count": 41,
     "metadata": {},
     "output_type": "execute_result"
    }
   ],
   "source": [
    "X_tr[0]"
   ]
  },
  {
   "cell_type": "code",
   "execution_count": 42,
   "metadata": {},
   "outputs": [
    {
     "data": {
      "text/plain": [
       "array([[0., 0., 0., ..., 0., 0., 0.],\n",
       "       [0., 0., 0., ..., 0., 0., 0.],\n",
       "       [0., 0., 0., ..., 0., 0., 0.],\n",
       "       ...,\n",
       "       [1., 0., 0., ..., 0., 0., 0.],\n",
       "       [1., 0., 0., ..., 0., 0., 0.],\n",
       "       [1., 0., 0., ..., 0., 0., 0.]], dtype=float32)"
      ]
     },
     "execution_count": 42,
     "metadata": {},
     "output_type": "execute_result"
    }
   ],
   "source": [
    "y_tr[0]"
   ]
  },
  {
   "cell_type": "markdown",
   "metadata": {},
   "source": [
    "## Model Building - Bi-LSTM + CRF"
   ]
  },
  {
   "cell_type": "markdown",
   "metadata": {},
   "source": [
    "### Training LSTM + CRF Models with Embeddings"
   ]
  },
  {
   "cell_type": "code",
   "execution_count": 43,
   "metadata": {},
   "outputs": [
    {
     "name": "stdout",
     "output_type": "stream",
     "text": [
      "Model: \"Twitter_NER_V1\"\n",
      "_________________________________________________________________\n",
      " Layer (type)                Output Shape              Param #   \n",
      "=================================================================\n",
      " input_layer (InputLayer)    [(None, 75)]              0         \n",
      "                                                                 \n",
      " embedding (Embedding)       (None, 75, 200)           2117400   \n",
      "                                                                 \n",
      " bidirectional (Bidirection  (None, 75, 100)           100400    \n",
      " al)                                                             \n",
      "                                                                 \n",
      " bidirectional_1 (Bidirecti  (None, 75, 100)           60400     \n",
      " onal)                                                           \n",
      "                                                                 \n",
      " time_distributed (TimeDist  (None, 75, 23)            2323      \n",
      " ributed)                                                        \n",
      "                                                                 \n",
      " crf (CRF)                   [(None, 75),              1127      \n",
      "                              (None, 75, 23),                    \n",
      "                              (None,),                           \n",
      "                              (23, 23)]                          \n",
      "                                                                 \n",
      "=================================================================\n",
      "Total params: 2281650 (8.70 MB)\n",
      "Trainable params: 2281650 (8.70 MB)\n",
      "Non-trainable params: 0 (0.00 Byte)\n",
      "_________________________________________________________________\n"
     ]
    }
   ],
   "source": [
    "def build_model(max_len=75, input_dim=len(words)+2, embedding_dim=200): # 10585 vocab size\n",
    "    # Model definition\n",
    "    input_layer = Input(shape=(max_len,), name='input_layer')\n",
    "\n",
    "    # Embedding layer\n",
    "    embeddings = Embedding(\n",
    "        input_dim=input_dim,\n",
    "        output_dim=embedding_dim,\n",
    "        input_length=max_len,\n",
    "        mask_zero=True\n",
    "    )(input_layer)\n",
    "\n",
    "    # BiLSTM layers\n",
    "    lstm_output = Bidirectional(LSTM(units=50, return_sequences=True))(embeddings)\n",
    "    lstm_output = Bidirectional(LSTM(units=50, return_sequences=True))(lstm_output)\n",
    "\n",
    "    # # Dense layer\n",
    "    dense_output = TimeDistributed(Dense(23, activation=\"relu\"))(lstm_output)\n",
    "\n",
    "    # CRF layer\n",
    "    crf = CRF(23, name='crf')  # 21 classes\n",
    "    predicted_sequence, potentials, sequence_length, crf_kernel = crf(dense_output)\n",
    "\n",
    "    # Build the model\n",
    "    model = Model(inputs=input_layer, outputs=potentials, name = \"Twitter_NER_V1\")\n",
    "\n",
    "    # Compile the model\n",
    "    model.compile(\n",
    "        optimizer=AdamW(weight_decay=0.001 ,learning_rate=0.001),\n",
    "        loss=SigmoidFocalCrossEntropy(),  # Use CRF-specific loss\n",
    "        # loss = custom_loss,\n",
    "        metrics=[\"accuracy\"]   # Optional: Use CRF accuracy\n",
    "    )\n",
    "\n",
    "    return model\n",
    "\n",
    "# Build and compile the model\n",
    "model = build_model()\n",
    "\n",
    "# Checkpointing\n",
    "save_model = tf.keras.callbacks.ModelCheckpoint(filepath='twitter_ner_crf.weights.h5',\n",
    "  monitor='val_loss',\n",
    "  save_weights_only=True,\n",
    "  save_best_only=True,\n",
    "  verbose=1\n",
    ")\n",
    "\n",
    "# Early stopping\n",
    "es = tf.keras.callbacks.EarlyStopping(monitor='val_loss', verbose=1, patience=10)\n",
    "\n",
    "callbacks = [save_model, es]\n",
    "\n",
    "model.summary()"
   ]
  },
  {
   "cell_type": "markdown",
   "metadata": {},
   "source": [
    "### Model Training"
   ]
  },
  {
   "cell_type": "code",
   "execution_count": 44,
   "metadata": {},
   "outputs": [
    {
     "name": "stdout",
     "output_type": "stream",
     "text": [
      "Epoch 1/100\n",
      "WARNING:tensorflow:Gradients do not exist for variables ['chain_kernel:0'] when minimizing the loss. If you're using `model.compile()`, did you forget to provide a `loss` argument?\n",
      "WARNING:tensorflow:Gradients do not exist for variables ['chain_kernel:0'] when minimizing the loss. If you're using `model.compile()`, did you forget to provide a `loss` argument?\n",
      "155/155 [==============================] - 17s 62ms/step - loss: 0.6949 - accuracy: 0.6348 - val_loss: 0.4661 - val_accuracy: 0.2348\n",
      "Epoch 2/100\n",
      "155/155 [==============================] - 7s 45ms/step - loss: 0.3708 - accuracy: 0.9653 - val_loss: 0.2962 - val_accuracy: 0.9695\n",
      "Epoch 3/100\n",
      "155/155 [==============================] - 7s 44ms/step - loss: 0.2419 - accuracy: 0.9702 - val_loss: 0.2019 - val_accuracy: 0.9697\n",
      "Epoch 4/100\n",
      "155/155 [==============================] - 7s 45ms/step - loss: 0.1693 - accuracy: 0.9715 - val_loss: 0.1498 - val_accuracy: 0.9701\n",
      "Epoch 5/100\n",
      "155/155 [==============================] - 7s 45ms/step - loss: 0.1258 - accuracy: 0.9766 - val_loss: 0.1175 - val_accuracy: 0.9789\n",
      "Epoch 6/100\n",
      "155/155 [==============================] - 7s 43ms/step - loss: 0.0990 - accuracy: 0.9833 - val_loss: 0.0968 - val_accuracy: 0.9845\n",
      "Epoch 7/100\n",
      "155/155 [==============================] - 7s 44ms/step - loss: 0.0824 - accuracy: 0.9875 - val_loss: 0.0862 - val_accuracy: 0.9874\n",
      "Epoch 8/100\n",
      "155/155 [==============================] - 7s 46ms/step - loss: 0.0711 - accuracy: 0.9898 - val_loss: 0.0773 - val_accuracy: 0.9832\n",
      "Epoch 9/100\n",
      "155/155 [==============================] - 7s 46ms/step - loss: 0.0649 - accuracy: 0.9882 - val_loss: 0.0699 - val_accuracy: 0.9904\n",
      "Epoch 10/100\n",
      "155/155 [==============================] - 7s 44ms/step - loss: 0.0564 - accuracy: 0.9933 - val_loss: 0.0648 - val_accuracy: 0.9927\n",
      "Epoch 11/100\n",
      "155/155 [==============================] - 7s 44ms/step - loss: 0.0507 - accuracy: 0.9956 - val_loss: 0.0625 - val_accuracy: 0.9944\n",
      "Epoch 12/100\n",
      "155/155 [==============================] - 7s 44ms/step - loss: 0.0463 - accuracy: 0.9967 - val_loss: 0.0587 - val_accuracy: 0.9951\n",
      "Epoch 13/100\n",
      "155/155 [==============================] - 7s 44ms/step - loss: 0.0419 - accuracy: 0.9981 - val_loss: 0.0607 - val_accuracy: 0.9951\n",
      "Epoch 14/100\n",
      "155/155 [==============================] - 7s 44ms/step - loss: 0.0383 - accuracy: 0.9986 - val_loss: 0.0596 - val_accuracy: 0.9954\n",
      "Epoch 15/100\n",
      "155/155 [==============================] - 7s 44ms/step - loss: 0.0360 - accuracy: 0.9983 - val_loss: 0.0568 - val_accuracy: 0.9962\n",
      "Epoch 16/100\n",
      "155/155 [==============================] - 7s 44ms/step - loss: 0.0328 - accuracy: 0.9990 - val_loss: 0.0551 - val_accuracy: 0.9960\n",
      "Epoch 17/100\n",
      "155/155 [==============================] - 7s 44ms/step - loss: 0.0309 - accuracy: 0.9987 - val_loss: 0.0516 - val_accuracy: 0.9935\n",
      "Epoch 18/100\n",
      "155/155 [==============================] - 7s 44ms/step - loss: 0.0293 - accuracy: 0.9982 - val_loss: 0.0509 - val_accuracy: 0.9965\n",
      "Epoch 19/100\n",
      "155/155 [==============================] - 7s 43ms/step - loss: 0.0264 - accuracy: 0.9994 - val_loss: 0.0492 - val_accuracy: 0.9962\n",
      "Epoch 20/100\n",
      "155/155 [==============================] - 7s 43ms/step - loss: 0.0268 - accuracy: 0.9969 - val_loss: 0.0454 - val_accuracy: 0.9955\n",
      "Epoch 21/100\n",
      "155/155 [==============================] - 7s 45ms/step - loss: 0.0242 - accuracy: 0.9986 - val_loss: 0.0440 - val_accuracy: 0.9968\n",
      "Epoch 22/100\n",
      "155/155 [==============================] - 7s 43ms/step - loss: 0.0218 - accuracy: 0.9991 - val_loss: 0.0447 - val_accuracy: 0.9967\n",
      "Epoch 23/100\n",
      "155/155 [==============================] - 7s 43ms/step - loss: 0.0202 - accuracy: 0.9993 - val_loss: 0.0439 - val_accuracy: 0.9964\n",
      "Epoch 24/100\n",
      "155/155 [==============================] - 7s 44ms/step - loss: 0.0188 - accuracy: 0.9994 - val_loss: 0.0475 - val_accuracy: 0.9962\n",
      "Epoch 25/100\n",
      "155/155 [==============================] - 7s 44ms/step - loss: 0.0175 - accuracy: 0.9995 - val_loss: 0.0443 - val_accuracy: 0.9961\n",
      "Epoch 26/100\n",
      "155/155 [==============================] - 7s 45ms/step - loss: 0.0163 - accuracy: 0.9994 - val_loss: 0.0441 - val_accuracy: 0.9960\n",
      "Epoch 27/100\n",
      "155/155 [==============================] - 7s 46ms/step - loss: 0.0151 - accuracy: 0.9995 - val_loss: 0.0465 - val_accuracy: 0.9962\n",
      "Epoch 28/100\n",
      "155/155 [==============================] - 7s 45ms/step - loss: 0.0141 - accuracy: 0.9996 - val_loss: 0.0468 - val_accuracy: 0.9961\n",
      "Epoch 29/100\n",
      "155/155 [==============================] - 7s 45ms/step - loss: 0.0136 - accuracy: 0.9992 - val_loss: 0.0446 - val_accuracy: 0.9968\n",
      "Epoch 30/100\n",
      "155/155 [==============================] - 7s 45ms/step - loss: 0.0123 - accuracy: 0.9995 - val_loss: 0.0389 - val_accuracy: 0.9965\n",
      "Epoch 31/100\n",
      "155/155 [==============================] - 7s 46ms/step - loss: 0.0113 - accuracy: 0.9996 - val_loss: 0.0429 - val_accuracy: 0.9962\n",
      "Epoch 32/100\n",
      "155/155 [==============================] - 7s 48ms/step - loss: 0.0106 - accuracy: 0.9997 - val_loss: 0.0396 - val_accuracy: 0.9959\n",
      "Epoch 33/100\n",
      "155/155 [==============================] - 8s 50ms/step - loss: 0.0099 - accuracy: 0.9997 - val_loss: 0.0357 - val_accuracy: 0.9961\n",
      "Epoch 34/100\n",
      "155/155 [==============================] - 7s 45ms/step - loss: 0.0091 - accuracy: 0.9997 - val_loss: 0.0384 - val_accuracy: 0.9960\n",
      "Epoch 35/100\n",
      "155/155 [==============================] - 7s 45ms/step - loss: 0.0085 - accuracy: 0.9997 - val_loss: 0.0373 - val_accuracy: 0.9932\n",
      "Epoch 36/100\n",
      "155/155 [==============================] - 7s 45ms/step - loss: 0.0082 - accuracy: 0.9996 - val_loss: 0.0385 - val_accuracy: 0.9963\n",
      "Epoch 37/100\n",
      "155/155 [==============================] - 7s 48ms/step - loss: 0.0073 - accuracy: 0.9997 - val_loss: 0.0384 - val_accuracy: 0.9958\n",
      "Epoch 38/100\n",
      "155/155 [==============================] - 7s 46ms/step - loss: 0.0068 - accuracy: 0.9997 - val_loss: 0.0406 - val_accuracy: 0.9960\n",
      "Epoch 39/100\n",
      "155/155 [==============================] - 7s 46ms/step - loss: 0.0063 - accuracy: 0.9998 - val_loss: 0.0383 - val_accuracy: 0.9956\n",
      "Epoch 40/100\n",
      "155/155 [==============================] - 7s 45ms/step - loss: 0.0060 - accuracy: 0.9997 - val_loss: 0.0370 - val_accuracy: 0.9964\n",
      "Epoch 41/100\n",
      "155/155 [==============================] - 7s 45ms/step - loss: 0.0055 - accuracy: 0.9997 - val_loss: 0.0399 - val_accuracy: 0.9959\n",
      "Epoch 42/100\n",
      "155/155 [==============================] - 7s 45ms/step - loss: 0.0051 - accuracy: 0.9998 - val_loss: 0.0375 - val_accuracy: 0.9960\n",
      "Epoch 43/100\n",
      "155/155 [==============================] - 7s 45ms/step - loss: 0.0057 - accuracy: 0.9992 - val_loss: 0.0288 - val_accuracy: 0.9966\n",
      "Epoch 44/100\n",
      "155/155 [==============================] - 7s 46ms/step - loss: 0.0048 - accuracy: 0.9995 - val_loss: 0.0387 - val_accuracy: 0.9969\n",
      "Epoch 45/100\n",
      "155/155 [==============================] - 7s 46ms/step - loss: 0.0042 - accuracy: 0.9997 - val_loss: 0.0343 - val_accuracy: 0.9967\n",
      "Epoch 46/100\n",
      "155/155 [==============================] - 7s 47ms/step - loss: 0.0039 - accuracy: 0.9998 - val_loss: 0.0322 - val_accuracy: 0.9964\n",
      "Epoch 47/100\n",
      "155/155 [==============================] - 7s 48ms/step - loss: 0.0037 - accuracy: 0.9998 - val_loss: 0.0384 - val_accuracy: 0.9963\n",
      "Epoch 48/100\n",
      "155/155 [==============================] - 7s 47ms/step - loss: 0.0035 - accuracy: 0.9997 - val_loss: 0.0350 - val_accuracy: 0.9961\n",
      "Epoch 49/100\n",
      "155/155 [==============================] - 8s 51ms/step - loss: 0.0032 - accuracy: 0.9998 - val_loss: 0.0356 - val_accuracy: 0.9962\n",
      "Epoch 50/100\n",
      "155/155 [==============================] - 8s 50ms/step - loss: 0.0030 - accuracy: 0.9997 - val_loss: 0.0339 - val_accuracy: 0.9963\n",
      "Epoch 51/100\n",
      "155/155 [==============================] - 8s 50ms/step - loss: 0.0028 - accuracy: 0.9998 - val_loss: 0.0385 - val_accuracy: 0.9962\n",
      "Epoch 52/100\n",
      "155/155 [==============================] - 7s 48ms/step - loss: 0.0027 - accuracy: 0.9998 - val_loss: 0.0331 - val_accuracy: 0.9959\n",
      "Epoch 53/100\n",
      "155/155 [==============================] - 8s 49ms/step - loss: 0.0024 - accuracy: 0.9998 - val_loss: 0.0354 - val_accuracy: 0.9963\n",
      "Epoch 54/100\n",
      "155/155 [==============================] - 7s 46ms/step - loss: 0.0023 - accuracy: 0.9998 - val_loss: 0.0305 - val_accuracy: 0.9960\n",
      "Epoch 55/100\n",
      "155/155 [==============================] - 7s 46ms/step - loss: 0.0022 - accuracy: 0.9997 - val_loss: 0.0384 - val_accuracy: 0.9963\n",
      "Epoch 56/100\n",
      "155/155 [==============================] - 8s 51ms/step - loss: 0.0020 - accuracy: 0.9998 - val_loss: 0.0422 - val_accuracy: 0.9963\n",
      "Epoch 57/100\n",
      "155/155 [==============================] - 7s 48ms/step - loss: 0.0023 - accuracy: 0.9994 - val_loss: 0.0357 - val_accuracy: 0.9973\n",
      "Epoch 58/100\n",
      "155/155 [==============================] - 7s 48ms/step - loss: 0.0019 - accuracy: 0.9997 - val_loss: 0.0314 - val_accuracy: 0.9973\n",
      "Epoch 59/100\n",
      "155/155 [==============================] - 7s 46ms/step - loss: 0.0016 - accuracy: 0.9998 - val_loss: 0.0295 - val_accuracy: 0.9971\n",
      "Epoch 60/100\n",
      "155/155 [==============================] - 7s 46ms/step - loss: 0.0015 - accuracy: 0.9998 - val_loss: 0.0306 - val_accuracy: 0.9968\n",
      "Epoch 61/100\n",
      "155/155 [==============================] - 7s 46ms/step - loss: 0.0014 - accuracy: 0.9998 - val_loss: 0.0306 - val_accuracy: 0.9966\n",
      "Epoch 62/100\n",
      "155/155 [==============================] - 8s 49ms/step - loss: 0.0013 - accuracy: 0.9998 - val_loss: 0.0322 - val_accuracy: 0.9965\n",
      "Epoch 63/100\n",
      "155/155 [==============================] - 8s 49ms/step - loss: 0.0013 - accuracy: 0.9997 - val_loss: 0.0348 - val_accuracy: 0.9965\n",
      "Epoch 64/100\n",
      "155/155 [==============================] - 7s 46ms/step - loss: 0.0012 - accuracy: 0.9998 - val_loss: 0.0325 - val_accuracy: 0.9961\n",
      "Epoch 65/100\n",
      "155/155 [==============================] - 7s 48ms/step - loss: 0.0011 - accuracy: 0.9998 - val_loss: 0.0365 - val_accuracy: 0.9966\n",
      "Epoch 66/100\n",
      "155/155 [==============================] - 7s 46ms/step - loss: 0.0010 - accuracy: 0.9998 - val_loss: 0.0329 - val_accuracy: 0.9965\n",
      "Epoch 67/100\n",
      "155/155 [==============================] - 7s 47ms/step - loss: 9.6676e-04 - accuracy: 0.9998 - val_loss: 0.0327 - val_accuracy: 0.9963\n",
      "Epoch 68/100\n",
      "155/155 [==============================] - 7s 48ms/step - loss: 0.0012 - accuracy: 0.9996 - val_loss: 0.0219 - val_accuracy: 0.9948\n",
      "Epoch 69/100\n",
      "155/155 [==============================] - 8s 51ms/step - loss: 0.0011 - accuracy: 0.9996 - val_loss: 0.0278 - val_accuracy: 0.9968\n",
      "Epoch 70/100\n",
      "155/155 [==============================] - 8s 50ms/step - loss: 8.1207e-04 - accuracy: 0.9998 - val_loss: 0.0307 - val_accuracy: 0.9969\n",
      "Epoch 71/100\n",
      "155/155 [==============================] - 9s 55ms/step - loss: 7.4565e-04 - accuracy: 0.9998 - val_loss: 0.0313 - val_accuracy: 0.9967\n",
      "Epoch 72/100\n",
      "155/155 [==============================] - 8s 52ms/step - loss: 7.0483e-04 - accuracy: 0.9998 - val_loss: 0.0290 - val_accuracy: 0.9966\n",
      "Epoch 73/100\n",
      "155/155 [==============================] - 9s 55ms/step - loss: 6.6258e-04 - accuracy: 0.9998 - val_loss: 0.0316 - val_accuracy: 0.9968\n",
      "Epoch 74/100\n",
      "155/155 [==============================] - 8s 53ms/step - loss: 6.4305e-04 - accuracy: 0.9998 - val_loss: 0.0307 - val_accuracy: 0.9967\n",
      "Epoch 75/100\n",
      "155/155 [==============================] - 8s 51ms/step - loss: 7.1516e-04 - accuracy: 0.9997 - val_loss: 0.0317 - val_accuracy: 0.9963\n",
      "Epoch 76/100\n",
      "155/155 [==============================] - 8s 51ms/step - loss: 7.2769e-04 - accuracy: 0.9997 - val_loss: 0.0282 - val_accuracy: 0.9972\n",
      "Epoch 77/100\n",
      "155/155 [==============================] - 8s 50ms/step - loss: 5.4584e-04 - accuracy: 0.9998 - val_loss: 0.0284 - val_accuracy: 0.9971\n",
      "Epoch 78/100\n",
      "155/155 [==============================] - 8s 53ms/step - loss: 5.0423e-04 - accuracy: 0.9998 - val_loss: 0.0281 - val_accuracy: 0.9970\n",
      "Epoch 79/100\n",
      "155/155 [==============================] - 9s 56ms/step - loss: 4.7772e-04 - accuracy: 0.9998 - val_loss: 0.0340 - val_accuracy: 0.9970\n",
      "Epoch 80/100\n",
      "155/155 [==============================] - 8s 53ms/step - loss: 7.0835e-04 - accuracy: 0.9997 - val_loss: 0.0286 - val_accuracy: 0.9969\n",
      "Epoch 81/100\n",
      "155/155 [==============================] - 8s 52ms/step - loss: 4.4522e-04 - accuracy: 0.9998 - val_loss: 0.0302 - val_accuracy: 0.9971\n",
      "Epoch 82/100\n",
      "155/155 [==============================] - 7s 48ms/step - loss: 4.1227e-04 - accuracy: 0.9998 - val_loss: 0.0277 - val_accuracy: 0.9970\n",
      "Epoch 83/100\n",
      "155/155 [==============================] - 8s 49ms/step - loss: 3.8707e-04 - accuracy: 0.9998 - val_loss: 0.0255 - val_accuracy: 0.9970\n",
      "Epoch 84/100\n",
      "155/155 [==============================] - 8s 49ms/step - loss: 5.7032e-04 - accuracy: 0.9997 - val_loss: 0.0308 - val_accuracy: 0.9971\n",
      "Epoch 85/100\n",
      "155/155 [==============================] - 8s 51ms/step - loss: 0.0013 - accuracy: 0.9991 - val_loss: 0.0267 - val_accuracy: 0.9974\n",
      "Epoch 86/100\n",
      "155/155 [==============================] - 8s 52ms/step - loss: 4.8633e-04 - accuracy: 0.9997 - val_loss: 0.0230 - val_accuracy: 0.9976\n",
      "Epoch 87/100\n",
      "155/155 [==============================] - 7s 48ms/step - loss: 3.4658e-04 - accuracy: 0.9998 - val_loss: 0.0243 - val_accuracy: 0.9974\n",
      "Epoch 88/100\n",
      "155/155 [==============================] - 8s 52ms/step - loss: 3.3932e-04 - accuracy: 0.9998 - val_loss: 0.0227 - val_accuracy: 0.9974\n",
      "Epoch 89/100\n",
      "155/155 [==============================] - 8s 54ms/step - loss: 3.2202e-04 - accuracy: 0.9998 - val_loss: 0.0234 - val_accuracy: 0.9973\n",
      "Epoch 90/100\n",
      "155/155 [==============================] - 8s 51ms/step - loss: 3.2680e-04 - accuracy: 0.9998 - val_loss: 0.0237 - val_accuracy: 0.9973\n",
      "Epoch 91/100\n",
      "155/155 [==============================] - 7s 48ms/step - loss: 2.9787e-04 - accuracy: 0.9998 - val_loss: 0.0259 - val_accuracy: 0.9974\n",
      "Epoch 92/100\n",
      "155/155 [==============================] - 7s 47ms/step - loss: 2.8011e-04 - accuracy: 0.9998 - val_loss: 0.0241 - val_accuracy: 0.9972\n",
      "Epoch 93/100\n",
      "155/155 [==============================] - 8s 50ms/step - loss: 2.7329e-04 - accuracy: 0.9998 - val_loss: 0.0288 - val_accuracy: 0.9973\n",
      "Epoch 94/100\n",
      "155/155 [==============================] - 7s 47ms/step - loss: 4.0167e-04 - accuracy: 0.9997 - val_loss: 0.0194 - val_accuracy: 0.9967\n",
      "Epoch 95/100\n",
      "155/155 [==============================] - 7s 47ms/step - loss: 3.7733e-04 - accuracy: 0.9998 - val_loss: 0.0224 - val_accuracy: 0.9974\n",
      "Epoch 96/100\n",
      "155/155 [==============================] - 8s 50ms/step - loss: 2.4287e-04 - accuracy: 0.9998 - val_loss: 0.0261 - val_accuracy: 0.9974\n",
      "Epoch 97/100\n",
      "155/155 [==============================] - 7s 47ms/step - loss: 2.4715e-04 - accuracy: 0.9998 - val_loss: 0.0267 - val_accuracy: 0.9974\n",
      "Epoch 98/100\n",
      "155/155 [==============================] - 7s 47ms/step - loss: 2.4164e-04 - accuracy: 0.9998 - val_loss: 0.0267 - val_accuracy: 0.9973\n",
      "Epoch 99/100\n",
      "155/155 [==============================] - 8s 48ms/step - loss: 2.4916e-04 - accuracy: 0.9998 - val_loss: 0.0266 - val_accuracy: 0.9972\n",
      "Epoch 100/100\n",
      "155/155 [==============================] - 7s 47ms/step - loss: 2.7173e-04 - accuracy: 0.9998 - val_loss: 0.0247 - val_accuracy: 0.9972\n"
     ]
    },
    {
     "data": {
      "text/plain": [
       "<keras.src.callbacks.History at 0x7cbdf6b73510>"
      ]
     },
     "execution_count": 44,
     "metadata": {},
     "output_type": "execute_result"
    }
   ],
   "source": [
    "model.fit(\n",
    "    X_tr, y_tr, \n",
    "    validation_data = (X_te, y_te),\n",
    "    batch_size=BATCH_SIZE,\n",
    "    epochs=100, \n",
    "    shuffle = True)"
   ]
  },
  {
   "cell_type": "markdown",
   "metadata": {},
   "source": [
    "### Validation Data Evaluation"
   ]
  },
  {
   "cell_type": "code",
   "execution_count": 45,
   "metadata": {},
   "outputs": [],
   "source": [
    "import numpy as np\n",
    "from sklearn.metrics import classification_report, accuracy_score\n",
    "\n",
    "# Flatten the sequences and exclude padding tokens\n",
    "def filter_padding(y_pred, y_true, pad_token=0):\n",
    "    filtered_pred = []\n",
    "    filtered_true = []\n",
    "    for pred_seq, true_seq in zip(y_pred, y_true):\n",
    "        for pred_label, true_label in zip(pred_seq, true_seq):\n",
    "            if true_label != pad_token and pred_label != pad_token and true_label != 21 and pred_label != 21:  # Ignore padding tokens\n",
    "                filtered_pred.append(pred_label)\n",
    "                filtered_true.append(true_label)\n",
    "    return np.array(filtered_pred), np.array(filtered_true)"
   ]
  },
  {
   "cell_type": "code",
   "execution_count": 46,
   "metadata": {},
   "outputs": [
    {
     "name": "stdout",
     "output_type": "stream",
     "text": [
      "18/18 [==============================] - 3s 11ms/step\n"
     ]
    }
   ],
   "source": [
    "# Predict probabilities\n",
    "y_val_pred_prob = model.predict(X_te)"
   ]
  },
  {
   "cell_type": "code",
   "execution_count": 47,
   "metadata": {},
   "outputs": [
    {
     "data": {
      "text/plain": [
       "array([ 8,  8,  8,  8,  8,  8,  8, 21, 17,  8,  8,  8,  8,  8,  8,  8,  8,\n",
       "        8,  8,  8,  8,  8,  8,  8,  8,  8,  0,  0,  0,  0,  0,  0,  0,  0,\n",
       "        0,  0,  0,  0,  0,  0,  0,  0,  0,  0,  0,  0,  0,  0,  0,  0,  0,\n",
       "        0,  0,  0,  0,  0,  0,  0,  0,  0,  0,  0,  0,  0,  0,  0,  0,  0,\n",
       "        0,  0,  0,  0,  0,  0,  0])"
      ]
     },
     "execution_count": 47,
     "metadata": {},
     "output_type": "execute_result"
    }
   ],
   "source": [
    "y_val_pred = np.argmax(y_val_pred_prob, axis=2)\n",
    "np.argmax(y_te, axis=2)[0]"
   ]
  },
  {
   "cell_type": "code",
   "execution_count": 48,
   "metadata": {},
   "outputs": [
    {
     "name": "stdout",
     "output_type": "stream",
     "text": [
      "Accuracy: 0.9915254237288136\n"
     ]
    }
   ],
   "source": [
    "# Convert predictions and true labels, ignoring padding tokens\n",
    "y_pred_flat, y_true_flat = filter_padding(y_val_pred, np.argmax(y_te, axis=2))\n",
    "\n",
    "# Calculate metrics\n",
    "accuracy = accuracy_score(y_true_flat, y_pred_flat)\n",
    "print(f\"Accuracy: {accuracy}\")"
   ]
  },
  {
   "cell_type": "code",
   "execution_count": 49,
   "metadata": {},
   "outputs": [
    {
     "name": "stdout",
     "output_type": "stream",
     "text": [
      "Classification Report:\n",
      "              precision    recall  f1-score   support\n",
      "\n",
      "           2       0.97      0.80      0.88        79\n",
      "           3       1.00      1.00      1.00        55\n",
      "           4       0.97      0.81      0.88       143\n",
      "           5       0.95      1.00      0.97        39\n",
      "           6       0.91      0.85      0.88        61\n",
      "           7       0.98      1.00      0.99        42\n",
      "           8       0.99      1.00      1.00      9665\n",
      "           9       1.00      1.00      1.00        64\n",
      "          10       0.95      0.77      0.85        53\n",
      "          11       0.99      1.00      1.00       105\n",
      "          12       0.98      0.99      0.98        81\n",
      "          13       0.99      1.00      0.99        73\n",
      "          14       0.99      1.00      0.99        77\n",
      "          15       0.98      1.00      0.99        49\n",
      "          16       0.95      0.93      0.94        68\n",
      "          17       1.00      1.00      1.00        74\n",
      "          18       1.00      1.00      1.00        18\n",
      "          19       1.00      1.00      1.00        51\n",
      "          20       0.98      1.00      0.99        50\n",
      "          22       0.90      1.00      0.95         9\n",
      "\n",
      "    accuracy                           0.99     10856\n",
      "   macro avg       0.97      0.96      0.96     10856\n",
      "weighted avg       0.99      0.99      0.99     10856\n",
      "\n"
     ]
    }
   ],
   "source": [
    "# Classification report\n",
    "print(\"Classification Report:\")\n",
    "print(classification_report(y_true_flat, y_pred_flat))"
   ]
  },
  {
   "cell_type": "code",
   "execution_count": 50,
   "metadata": {},
   "outputs": [
    {
     "data": {
      "image/png": "[encoded data removed]",
      "text/plain": [
       "<Figure size 1000x800 with 2 Axes>"
      ]
     },
     "metadata": {},
     "output_type": "display_data"
    }
   ],
   "source": [
    "import numpy as np\n",
    "import seaborn as sns\n",
    "import matplotlib.pyplot as plt\n",
    "from sklearn.metrics import confusion_matrix\n",
    "\n",
    "# Compute the confusion matrix\n",
    "conf_matrix = confusion_matrix(y_true_flat, y_pred_flat)\n",
    "\n",
    "# Plot the heatmap\n",
    "plt.figure(figsize=(10, 8))\n",
    "sns.heatmap(conf_matrix, annot=True, fmt='d', cmap='Blues', xticklabels=np.unique(y_true_flat), yticklabels=np.unique(y_true_flat))\n",
    "\n",
    "# Labels and title\n",
    "plt.xlabel('Predicted Labels')\n",
    "plt.ylabel('True Labels')\n",
    "plt.title('Confusion Matrix Heatmap')\n",
    "plt.show()"
   ]
  },
  {
   "cell_type": "code",
   "execution_count": 51,
   "metadata": {},
   "outputs": [
    {
     "data": {
      "text/plain": [
       "{'I-other': 2,\n",
       " 'B-product': 3,\n",
       " 'B-person': 4,\n",
       " 'I-sportsteam': 5,\n",
       " 'B-company': 6,\n",
       " 'I-tvshow': 7,\n",
       " 'O': 8,\n",
       " 'I-product': 9,\n",
       " 'B-other': 10,\n",
       " 'I-movie': 11,\n",
       " 'B-geo-loc': 12,\n",
       " 'B-sportsteam': 13,\n",
       " 'B-movie': 14,\n",
       " 'I-facility': 15,\n",
       " 'I-person': 16,\n",
       " 'I-musicartist': 17,\n",
       " 'I-geo-loc': 18,\n",
       " 'B-facility': 19,\n",
       " 'B-tvshow': 20,\n",
       " 'B-musicartist': 21,\n",
       " 'I-company': 22,\n",
       " 'PAD': 0,\n",
       " 'UNK': 1}"
      ]
     },
     "execution_count": 51,
     "metadata": {},
     "output_type": "execute_result"
    }
   ],
   "source": [
    "tag2idx"
   ]
  },
  {
   "cell_type": "markdown",
   "metadata": {},
   "source": [
    "### Testing: Dataset creation"
   ]
  },
  {
   "cell_type": "code",
   "execution_count": 52,
   "metadata": {},
   "outputs": [],
   "source": [
    "file_path = \"dataset/wnut 16test.txt.conll\"\n",
    "test_data  = read_conll(file_path)"
   ]
  },
  {
   "cell_type": "code",
   "execution_count": 53,
   "metadata": {},
   "outputs": [
    {
     "data": {
      "text/plain": [
       "3849"
      ]
     },
     "execution_count": 53,
     "metadata": {},
     "output_type": "execute_result"
    }
   ],
   "source": [
    "len(test_data)"
   ]
  },
  {
   "cell_type": "code",
   "execution_count": 54,
   "metadata": {},
   "outputs": [
    {
     "name": "stdout",
     "output_type": "stream",
     "text": [
      "[('New', 'B-other'), ('Orleans', 'I-other'), ('Mother', 'I-other'), (\"'s\", 'I-other'), ('Day', 'I-other'), ('Parade', 'I-other'), ('shooting', 'O'), ('.', 'O'), ('One', 'O'), ('of', 'O'), ('the', 'O'), ('people', 'O'), ('hurt', 'O'), ('was', 'O'), ('a', 'O'), ('10-year-old', 'O'), ('girl', 'O'), ('.', 'O'), ('WHAT', 'O'), ('THE', 'O'), ('HELL', 'O'), ('IS', 'O'), ('WRONG', 'O'), ('WITH', 'O'), ('PEOPLE', 'O'), ('?', 'O')]\n"
     ]
    }
   ],
   "source": [
    "print(test_data[0])"
   ]
  },
  {
   "cell_type": "code",
   "execution_count": 55,
   "metadata": {},
   "outputs": [
    {
     "name": "stdout",
     "output_type": "stream",
     "text": [
      "     Token      Tag\n",
      "0      New  B-other\n",
      "1  Orleans  I-other\n",
      "2   Mother  I-other\n",
      "3       's  I-other\n",
      "4      Day  I-other\n"
     ]
    }
   ],
   "source": [
    "# Convert to a DataFrame if needed\n",
    "test_df = pd.DataFrame([(token, tag) for value in test_data for token, tag in value], columns=['Token', 'Tag'])\n",
    "print(test_df.head())"
   ]
  },
  {
   "cell_type": "code",
   "execution_count": 56,
   "metadata": {},
   "outputs": [
    {
     "data": {
      "text/plain": [
       "(Tag\n",
       " O                55941\n",
       " B-geo-loc          882\n",
       " B-company          621\n",
       " B-other            584\n",
       " I-other            556\n",
       " I-product          500\n",
       " B-person           482\n",
       " I-facility         366\n",
       " I-person           300\n",
       " I-company          265\n",
       " B-facility         253\n",
       " B-product          246\n",
       " I-geo-loc          219\n",
       " B-musicartist      191\n",
       " B-sportsteam       147\n",
       " I-musicartist      140\n",
       " I-movie             48\n",
       " I-sportsteam        48\n",
       " I-tvshow            40\n",
       " B-movie             34\n",
       " B-tvshow            33\n",
       " Name: count, dtype: int64,\n",
       " 21)"
      ]
     },
     "execution_count": 56,
     "metadata": {},
     "output_type": "execute_result"
    }
   ],
   "source": [
    "test_df[\"Tag\"].value_counts(), len(test_df[\"Tag\"].value_counts())"
   ]
  },
  {
   "cell_type": "code",
   "execution_count": 57,
   "metadata": {},
   "outputs": [
    {
     "data": {
      "text/plain": [
       "(Tag\n",
       " O                44000\n",
       " B-person           449\n",
       " I-other            320\n",
       " B-geo-loc          276\n",
       " B-other            225\n",
       " I-person           215\n",
       " B-company          171\n",
       " I-facility         105\n",
       " B-facility         104\n",
       " B-product           97\n",
       " I-product           80\n",
       " I-musicartist       61\n",
       " B-musicartist       55\n",
       " B-sportsteam        51\n",
       " I-geo-loc           49\n",
       " I-movie             46\n",
       " I-company           36\n",
       " B-movie             34\n",
       " B-tvshow            34\n",
       " I-tvshow            31\n",
       " I-sportsteam        23\n",
       " Name: count, dtype: int64,\n",
       " 21)"
      ]
     },
     "execution_count": 57,
     "metadata": {},
     "output_type": "execute_result"
    }
   ],
   "source": [
    "df[\"Tag\"].value_counts(), len(df[\"Tag\"].value_counts())"
   ]
  },
  {
   "cell_type": "code",
   "execution_count": 58,
   "metadata": {},
   "outputs": [
    {
     "name": "stdout",
     "output_type": "stream",
     "text": [
      "[('New', 'B-other'), ('Orleans', 'I-other'), ('Mother', 'I-other'), (\"'s\", 'I-other'), ('Day', 'I-other'), ('Parade', 'I-other'), ('shooting', 'O'), ('.', 'O'), ('One', 'O'), ('of', 'O'), ('the', 'O'), ('people', 'O'), ('hurt', 'O'), ('was', 'O'), ('a', 'O'), ('10-year-old', 'O'), ('girl', 'O'), ('.', 'O'), ('WHAT', 'O'), ('THE', 'O'), ('HELL', 'O'), ('IS', 'O'), ('WRONG', 'O'), ('WITH', 'O'), ('PEOPLE', 'O'), ('?', 'O')]\n",
      "Testing Sample input [ 5890     1     1 10446   365  3828  1843  6293   988  9423  6870  4062\n",
      "  1627  6080  1063     1   875  6293  7175  3467     1  8327     1  2901\n",
      "     1  1304     0     0     0     0     0     0     0     0     0     0\n",
      "     0     0     0     0     0     0     0     0     0     0     0     0\n",
      "     0     0     0     0     0     0     0     0     0     0     0     0\n",
      "     0     0     0     0     0     0     0     0     0     0     0     0\n",
      "     0     0     0]\n",
      "Testing Label [10  2  2  2  2  2  8  8  8  8  8  8  8  8  8  8  8  8  8  8  8  8  8  8\n",
      "  8  8  0  0  0  0  0  0  0  0  0  0  0  0  0  0  0  0  0  0  0  0  0  0\n",
      "  0  0  0  0  0  0  0  0  0  0  0  0  0  0  0  0  0  0  0  0  0  0  0  0\n",
      "  0  0  0]\n"
     ]
    }
   ],
   "source": [
    "X_test = [[word2idx.get(ele[0], word2idx[\"UNK\"]) for ele in sentence] for sentence in test_data]\n",
    "\n",
    "# pad the sequences, to have same length\n",
    "X_test = pad_sequences(\n",
    "    maxlen = MAX_LEN,\n",
    "    sequences = X_test,\n",
    "    padding = \"post\",\n",
    "    value = word2idx[\"PAD\"]\n",
    ")\n",
    "\n",
    "# Convert my Tag/Label to tag_index\n",
    "y_test = [[tag2idx.get(ele[1], tag2idx[\"UNK\"]) for ele in sentence] for sentence in test_data]\n",
    "\n",
    "# Padding each label to have same length\n",
    "y_test = pad_sequences(\n",
    "    maxlen = MAX_LEN,\n",
    "    sequences = y_test,\n",
    "    padding = \"post\",\n",
    "    value = tag2idx[\"PAD\"]\n",
    ")\n",
    "\n",
    "print(test_data[0])\n",
    "print(\"Testing Sample input\", X_test[0])\n",
    "print(\"Testing Label\", y_test[0])"
   ]
  },
  {
   "cell_type": "code",
   "execution_count": 59,
   "metadata": {},
   "outputs": [
    {
     "name": "stdout",
     "output_type": "stream",
     "text": [
      "121/121 [==============================] - 1s 11ms/step\n"
     ]
    }
   ],
   "source": [
    "# Predict probabilities\n",
    "y_test_pred_prob = model.predict(X_test)"
   ]
  },
  {
   "cell_type": "code",
   "execution_count": 60,
   "metadata": {},
   "outputs": [
    {
     "data": {
      "text/plain": [
       "(array([[-6.4168948e-01, -2.3866366e-07, -6.2580949e-01, ...,\n",
       "         -4.0050995e-01, -6.1913210e-01, -5.6546384e-01],\n",
       "        [-6.1501372e-01, -1.9758555e-07, -1.2933204e-01, ...,\n",
       "         -5.7803184e-01, -1.1155785e+00, -2.6052138e-01],\n",
       "        [-7.6067221e-01, -2.0948272e-07, -1.1059452e-01, ...,\n",
       "         -5.7396168e-01, -1.1432058e+00, -3.6791816e-01],\n",
       "        ...,\n",
       "        [ 9.3481624e-01, -2.6870424e-08,  2.1078340e-03, ...,\n",
       "         -5.1003680e-02, -4.7046971e-03, -5.0144196e-03],\n",
       "        [ 9.3481624e-01, -2.6870424e-08,  2.1078340e-03, ...,\n",
       "         -5.1003680e-02, -4.7046971e-03, -5.0144196e-03],\n",
       "        [ 9.3481624e-01, -2.6870424e-08,  2.1078340e-03, ...,\n",
       "         -5.1003680e-02, -4.7046971e-03, -5.0144196e-03]], dtype=float32),\n",
       " 75,\n",
       " (3849, 75, 23))"
      ]
     },
     "execution_count": 60,
     "metadata": {},
     "output_type": "execute_result"
    }
   ],
   "source": [
    "y_test_pred_prob[0], len(y_test_pred_prob[0]), y_test_pred_prob.shape"
   ]
  },
  {
   "cell_type": "code",
   "execution_count": 61,
   "metadata": {},
   "outputs": [],
   "source": [
    "# # Convert probabilities to class predictions (for multi-class classification)\n",
    "y_val_pred = np.argmax(y_test_pred_prob, axis=2)"
   ]
  },
  {
   "cell_type": "code",
   "execution_count": 62,
   "metadata": {},
   "outputs": [
    {
     "data": {
      "text/plain": [
       "(array([12,  8,  8,  8,  8,  8,  8,  8,  8,  8,  8,  8,  8,  8,  8,  8,  8,\n",
       "         8,  8,  8,  8,  8,  8,  8,  8,  8,  0,  0,  0,  0,  0,  0,  0,  0,\n",
       "         0,  0,  0,  0,  0,  0,  0,  0,  0,  0,  0,  0,  0,  0,  0,  0,  0,\n",
       "         0,  0,  0,  0,  0,  0,  0,  0,  0,  0,  0,  0,  0,  0,  0,  0,  0,\n",
       "         0,  0,  0,  0,  0,  0,  0]),\n",
       " 75,\n",
       " array([10,  2,  2,  2,  2,  2,  8,  8,  8,  8,  8,  8,  8,  8,  8,  8,  8,\n",
       "         8,  8,  8,  8,  8,  8,  8,  8,  8,  0,  0,  0,  0,  0,  0,  0,  0,\n",
       "         0,  0,  0,  0,  0,  0,  0,  0,  0,  0,  0,  0,  0,  0,  0,  0,  0,\n",
       "         0,  0,  0,  0,  0,  0,  0,  0,  0,  0,  0,  0,  0,  0,  0,  0,  0,\n",
       "         0,  0,  0,  0,  0,  0,  0], dtype=int32),\n",
       " 75)"
      ]
     },
     "execution_count": 62,
     "metadata": {},
     "output_type": "execute_result"
    }
   ],
   "source": [
    "y_val_pred[0], len(y_val_pred[0]), y_test[0], len(y_test[0])"
   ]
  },
  {
   "cell_type": "code",
   "execution_count": 63,
   "metadata": {},
   "outputs": [
    {
     "data": {
      "text/plain": [
       "(array([8, 8, 8, 8, 8, 8, 8, 8, 8, 8, 8, 0, 0, 0, 0, 0, 0, 0, 0, 0, 0, 0,\n",
       "        0, 0, 0, 0, 0, 0, 0, 0, 0, 0, 0, 0, 0, 0, 0, 0, 0, 0, 0, 0, 0, 0,\n",
       "        0, 0, 0, 0, 0, 0, 0, 0, 0, 0, 0, 0, 0, 0, 0, 0, 0, 0, 0, 0, 0, 0,\n",
       "        0, 0, 0, 0, 0, 0, 0, 0, 0]),\n",
       " 75,\n",
       " array([8, 8, 8, 8, 8, 8, 8, 8, 8, 8, 8, 0, 0, 0, 0, 0, 0, 0, 0, 0, 0, 0,\n",
       "        0, 0, 0, 0, 0, 0, 0, 0, 0, 0, 0, 0, 0, 0, 0, 0, 0, 0, 0, 0, 0, 0,\n",
       "        0, 0, 0, 0, 0, 0, 0, 0, 0, 0, 0, 0, 0, 0, 0, 0, 0, 0, 0, 0, 0, 0,\n",
       "        0, 0, 0, 0, 0, 0, 0, 0, 0], dtype=int32),\n",
       " 75)"
      ]
     },
     "execution_count": 63,
     "metadata": {},
     "output_type": "execute_result"
    }
   ],
   "source": [
    "y_val_pred[1], len(y_val_pred[1]), y_test[1], len(y_test[1])"
   ]
  },
  {
   "cell_type": "code",
   "execution_count": 64,
   "metadata": {},
   "outputs": [
    {
     "name": "stdout",
     "output_type": "stream",
     "text": [
      "Accuracy: 0.9078221301594309\n"
     ]
    }
   ],
   "source": [
    "# Convert predictions and true labels, ignoring padding tokens\n",
    "y_pred_flat, y_true_flat = filter_padding(y_val_pred, y_test)\n",
    "\n",
    "# Calculate metrics\n",
    "accuracy = accuracy_score(y_true_flat, y_pred_flat)\n",
    "print(f\"Accuracy: {accuracy}\")\n"
   ]
  },
  {
   "cell_type": "code",
   "execution_count": 65,
   "metadata": {},
   "outputs": [
    {
     "name": "stdout",
     "output_type": "stream",
     "text": [
      "Classification Report:\n",
      "              precision    recall  f1-score   support\n",
      "\n",
      "           1       0.00      0.00      0.00         0\n",
      "           2       0.25      0.11      0.15       540\n",
      "           3       0.19      0.05      0.08       229\n",
      "           4       0.37      0.17      0.24       459\n",
      "           5       0.15      0.04      0.07        46\n",
      "           6       0.59      0.12      0.20       534\n",
      "           7       0.00      0.00      0.00        40\n",
      "           8       0.92      0.99      0.96     53465\n",
      "           9       0.29      0.01      0.02       469\n",
      "          10       0.17      0.05      0.08       551\n",
      "          11       0.00      0.00      0.00        47\n",
      "          12       0.60      0.23      0.34       836\n",
      "          13       0.21      0.04      0.07       143\n",
      "          14       0.00      0.00      0.00        31\n",
      "          15       0.43      0.12      0.19       357\n",
      "          16       0.23      0.06      0.09       287\n",
      "          17       0.14      0.01      0.03       134\n",
      "          18       0.20      0.06      0.09       210\n",
      "          19       0.08      0.02      0.03       245\n",
      "          20       0.00      0.00      0.00        32\n",
      "          22       0.35      0.05      0.09       242\n",
      "\n",
      "    accuracy                           0.91     58897\n",
      "   macro avg       0.25      0.10      0.13     58897\n",
      "weighted avg       0.87      0.91      0.88     58897\n",
      "\n"
     ]
    },
    {
     "name": "stderr",
     "output_type": "stream",
     "text": [
      "/home/varun/Documents/MS/Business Cases/Twitter NER NLP/.twitter_venv/lib/python3.11/site-packages/sklearn/metrics/_classification.py:1565: UndefinedMetricWarning: Recall is ill-defined and being set to 0.0 in labels with no true samples. Use `zero_division` parameter to control this behavior.\n",
      "  _warn_prf(average, modifier, f\"{metric.capitalize()} is\", len(result))\n",
      "/home/varun/Documents/MS/Business Cases/Twitter NER NLP/.twitter_venv/lib/python3.11/site-packages/sklearn/metrics/_classification.py:1565: UndefinedMetricWarning: Recall is ill-defined and being set to 0.0 in labels with no true samples. Use `zero_division` parameter to control this behavior.\n",
      "  _warn_prf(average, modifier, f\"{metric.capitalize()} is\", len(result))\n",
      "/home/varun/Documents/MS/Business Cases/Twitter NER NLP/.twitter_venv/lib/python3.11/site-packages/sklearn/metrics/_classification.py:1565: UndefinedMetricWarning: Recall is ill-defined and being set to 0.0 in labels with no true samples. Use `zero_division` parameter to control this behavior.\n",
      "  _warn_prf(average, modifier, f\"{metric.capitalize()} is\", len(result))\n"
     ]
    }
   ],
   "source": [
    "# Classification report\n",
    "print(\"Classification Report:\")\n",
    "print(classification_report(y_true_flat, y_pred_flat))"
   ]
  },
  {
   "cell_type": "code",
   "execution_count": 66,
   "metadata": {},
   "outputs": [
    {
     "data": {
      "text/plain": [
       "array([ 2,  3,  4,  5,  6,  7,  8,  9, 10, 11, 12, 13, 14, 15, 16, 17, 18,\n",
       "       19, 20, 22], dtype=int32)"
      ]
     },
     "execution_count": 66,
     "metadata": {},
     "output_type": "execute_result"
    }
   ],
   "source": [
    "np.unique(y_true_flat)"
   ]
  },
  {
   "cell_type": "code",
   "execution_count": 67,
   "metadata": {},
   "outputs": [
    {
     "data": {
      "text/plain": [
       "array([ 1,  2,  3,  4,  5,  6,  7,  8,  9, 10, 11, 12, 13, 14, 15, 16, 17,\n",
       "       18, 19, 20, 22])"
      ]
     },
     "execution_count": 67,
     "metadata": {},
     "output_type": "execute_result"
    }
   ],
   "source": [
    "np.unique(y_pred_flat)"
   ]
  },
  {
   "cell_type": "code",
   "execution_count": 68,
   "metadata": {},
   "outputs": [
    {
     "data": {
      "image/png": "[encoded data removed]",
      "text/plain": [
       "<Figure size 1000x800 with 2 Axes>"
      ]
     },
     "metadata": {},
     "output_type": "display_data"
    }
   ],
   "source": [
    "import numpy as np\n",
    "import seaborn as sns\n",
    "import matplotlib.pyplot as plt\n",
    "from sklearn.metrics import confusion_matrix\n",
    "\n",
    "# Flatten the sequences and exclude padding tokens (filter padding as before)\n",
    "y_pred_flat, y_true_flat = filter_padding(y_val_pred, y_test)\n",
    "\n",
    "# Compute the confusion matrix\n",
    "conf_matrix = confusion_matrix(y_true_flat, y_pred_flat)\n",
    "\n",
    "# Plot the heatmap\n",
    "plt.figure(figsize=(10, 8))\n",
    "sns.heatmap(conf_matrix, annot=True, fmt='d', cmap='Blues', xticklabels=np.unique(y_true_flat), yticklabels=np.unique(y_true_flat))\n",
    "\n",
    "# Labels and title\n",
    "plt.xlabel('Predicted Labels')\n",
    "plt.ylabel('True Labels')\n",
    "plt.title('Confusion Matrix Heatmap')\n",
    "plt.show()"
   ]
  },
  {
   "cell_type": "code",
   "execution_count": null,
   "metadata": {},
   "outputs": [],
   "source": []
  }
 ],
 "metadata": {
  "kernelspec": {
   "display_name": ".twitter_venv",
   "language": "python",
   "name": "python3"
  },
  "language_info": {
   "codemirror_mode": {
    "name": "ipython",
    "version": 3
   },
   "file_extension": ".py",
   "mimetype": "text/x-python",
   "name": "python",
   "nbconvert_exporter": "python",
   "pygments_lexer": "ipython3",
   "version": "3.11.11"
  }
 },
 "nbformat": 4,
 "nbformat_minor": 2
}
